{
 "cells": [
  {
   "cell_type": "markdown",
   "metadata": {},
   "source": [
    "## 공매도 거래량 상위 50 종목의 위험도 분류"
   ]
  },
  {
   "cell_type": "code",
   "execution_count": 38,
   "metadata": {},
   "outputs": [],
   "source": [
    "import pandas as pd\n",
    "import numpy as np\n",
    "from pykrx import stock\n",
    "import warnings\n",
    "import matplotlib.pyplot as plt\n",
    "warnings = warnings.filterwarnings('ignore')"
   ]
  },
  {
   "cell_type": "markdown",
   "metadata": {},
   "source": [
    "#### 코스피 공매도 거래량 상위 50종목의 일일 위험도 산출 함수"
   ]
  },
  {
   "cell_type": "code",
   "execution_count": 39,
   "metadata": {},
   "outputs": [],
   "source": [
    "\n",
    "def danger(day):\n",
    "\n",
    "    try: \n",
    "        #데이터 불러오기#\n",
    "        trade = stock.get_market_ohlcv(day)             # 해당 날짜의 KOSPI 종목 주가데이터 \n",
    "        rank = stock.get_shorting_volume_top50(day)     # 공매도 거래량 상위 50종목\n",
    "        name = stock.get_market_price_change(day,day)   # 종목명 컬럼 사용을 위한 데이터\n",
    "\n",
    "\n",
    "        #데이터 전처리 과정# \n",
    "        name.drop(['시가','종가','거래량','거래대금','등락률'], axis=1,inplace=True)    # 종목명 추출\n",
    "\n",
    "        many = pd.read_csv('./5years2.csv')     # 최근 5년동안 공매도 과열종목으로 지정된 기업 데이터\n",
    "        many.drop(['Unnamed: 0'],axis=1,inplace=True)\n",
    "\n",
    "        rank_trade = pd.merge(rank,trade,on=\"티커\", how='inner')    # rank와 trade 데이터 프레임 병합\n",
    "        rank_name = pd.merge(rank_trade,name,on='티커',how='inner')     # rank_trade 데이터에 종목명 추가\n",
    "        rank_name.drop(['총거래대금','고가','저가','거래량','거래대금','변동폭','주가수익률'],axis=1, inplace=True)  # 컬럼 정리\n",
    "        rank_name =rank_name[['종목명','시가','종가','등락률','공매도거래대금','직전40일거래대금평균', \n",
    "                                '공매도거래대금증가율','공매도비중','직전40일공매도평균비중','공매도비중증가율','순위']]    # 컬럼 순서 변경\n",
    "\n",
    "        rank_name_many = pd.merge(rank_name,many,on='종목명',how='left')       # 공매도 과열종목 지정되었었던 종목 데이터 추가\n",
    "        rank_name_many.set_index(['종목명'],inplace=True)   # 인덱스 종목코드(티커) -> 종목명으로 변경\n",
    "        rank_name_many['과열횟수'] = rank_name_many['과열횟수'].fillna(0)       ## 과열횟수의 결측치를 0으로 대체\n",
    "        \n",
    "\n",
    "        #위험도 계산을 위한 for문#\n",
    "        rank_name_many['위험도수치'] = 0        ## 위험도수치를 계산할 컬럼 생성\n",
    " \n",
    "        for i in range(len(rank_name_many)) :       ## 공매도거래대금증가율로 위험도 측정\n",
    "                if rank_name_many['공매도거래대금증가율'][i] >= 3.0 : \n",
    "                    rank_name_many['위험도수치'][i] += 5\n",
    "                elif rank_name_many['공매도거래대금증가율'][i] >= 2.5 :\n",
    "                    rank_name_many['위험도수치'][i] += 4\n",
    "                elif rank_name_many['공매도거래대금증가율'][i] >= 2.0 : \n",
    "                    rank_name_many['위험도수치'][i] += 3\n",
    "                elif rank_name_many['공매도거래대금증가율'][i] >= 1.5 : \n",
    "                    rank_name_many['위험도수치'][i] += 2\n",
    "                elif rank_name_many['공매도거래대금증가율'][i] >= 1.0 : \n",
    "                    rank_name_many['위험도수치'][i] += 1\n",
    "\n",
    "        for i in range(len(rank_name_many)) :       ## 공매도비중증가율로 위험도 측정\n",
    "                if rank_name_many['공매도비중증가율'][i] >= 3.0 : \n",
    "                    rank_name_many['위험도수치'][i] += 5\n",
    "                elif rank_name_many['공매도비중증가율'][i] >= 2.5 :\n",
    "                    rank_name_many['위험도수치'][i] += 4\n",
    "                elif rank_name_many['공매도비중증가율'][i] >= 2.0 : \n",
    "                    rank_name_many['위험도수치'][i] += 3\n",
    "                elif rank_name_many['공매도비중증가율'][i] >= 1.5 : \n",
    "                    rank_name_many['위험도수치'][i] += 2\n",
    "                elif rank_name_many['공매도비중증가율'][i] >= 1.0 : \n",
    "                    rank_name_many['위험도수치'][i] += 1\n",
    "\n",
    "        for i in range(len(rank_name_many)) :      ## 주가하락률로 위험도 측정\n",
    "                if rank_name_many['등락률'][i] <= -10.0 :   \n",
    "                    rank_name_many['위험도수치'][i] += 5   \n",
    "                elif rank_name_many['등락률'][i] <= -8.0 :\n",
    "                    rank_name_many['위험도수치'][i] += 4\n",
    "                elif rank_name_many['등락률'][i] <= -6.0 : \n",
    "                    rank_name_many['위험도수치'][i] += 3\n",
    "                elif rank_name_many['등락률'][i] <= -4.0 : \n",
    "                    rank_name_many['위험도수치'][i] += 2\n",
    "                elif rank_name_many['등락률'][i] <= -2.0 : \n",
    "                    rank_name_many['위험도수치'][i] += 1\n",
    "\n",
    "        for i in range(len(rank_name_many)) :           # 5년 과열종목 지정 횟수로 위험도 측정 \n",
    "                if rank_name_many['과열횟수'][i] >= 5.0 :     \n",
    "                    rank_name_many['위험도수치'][i] += 5\n",
    "                elif rank_name_many['과열횟수'][i] >= 4.0 :\n",
    "                    rank_name_many['위험도수치'][i] += 4\n",
    "                elif rank_name_many['과열횟수'][i] >= 3.0 : \n",
    "                    rank_name_many['위험도수치'][i] += 3\n",
    "                elif rank_name_many['과열횟수'][i] >= 2.0 : \n",
    "                    rank_name_many['위험도수치'][i] += 2\n",
    "                elif rank_name_many['과열횟수'][i] >= 1.0 : \n",
    "                    rank_name_many['위험도수치'][i] += 1\n",
    "\n",
    "\n",
    "        #위험도 수치를 다시 5개의 level로 분류#\n",
    "        rank_name_many['위험도'] = ''  \n",
    "        for i in range(len(rank_name_many)) : \n",
    "            if rank_name_many['위험도수치'][i]>= 16.0 :     \n",
    "                rank_name_many['위험도'][i] ='Level5'\n",
    "            elif rank_name_many['위험도수치'][i] >= 12.0 :\n",
    "                rank_name_many['위험도'][i] = 'Level4'\n",
    "            elif rank_name_many['위험도수치'][i] >= 8.0 : \n",
    "                rank_name_many['위험도'][i] = 'Level3'\n",
    "            elif rank_name_many['위험도수치'][i] >= 4.0 : \n",
    "                rank_name_many['위험도'][i] = 'Level2'\n",
    "            elif rank_name_many['위험도수치'][i] >= 0.0 : \n",
    "                rank_name_many['위험도'][i] = 'Level1'\n",
    "            else:\n",
    "                rank_name_many['위험도'][i] =np.NaN  \n",
    "            \n",
    "        return rank_name_many # 개별 종목의 위험도수치와 위험도가 포함된 데이터프레임 추출\n",
    "    except:\n",
    "        return '데이터가 없습니다.'"
   ]
  },
  {
   "cell_type": "markdown",
   "metadata": {},
   "source": [
    "#### 지정 날짜에 찾는 종목이 공매도거래량상위50종목에 들어가는지 확인하는 함수 #"
   ]
  },
  {
   "cell_type": "code",
   "execution_count": 40,
   "metadata": {},
   "outputs": [],
   "source": [
    "def choose(data, name):\n",
    "    if name not in data.index:\n",
    "        return '오늘은 이 종목이 존재하지 않습니다.'\n",
    "    elif name in data.index:\n",
    "        return data.loc[[name]]"
   ]
  },
  {
   "cell_type": "markdown",
   "metadata": {},
   "source": [
    "#### 2022년 05월 11일의 위험도 산출 예시 \n",
    "\n",
    "형식 : danger('원하는날짜')"
   ]
  },
  {
   "cell_type": "code",
   "execution_count": 41,
   "metadata": {},
   "outputs": [
    {
     "data": {
      "text/html": [
       "<div>\n",
       "<style scoped>\n",
       "    .dataframe tbody tr th:only-of-type {\n",
       "        vertical-align: middle;\n",
       "    }\n",
       "\n",
       "    .dataframe tbody tr th {\n",
       "        vertical-align: top;\n",
       "    }\n",
       "\n",
       "    .dataframe thead th {\n",
       "        text-align: right;\n",
       "    }\n",
       "</style>\n",
       "<table border=\"1\" class=\"dataframe\">\n",
       "  <thead>\n",
       "    <tr style=\"text-align: right;\">\n",
       "      <th></th>\n",
       "      <th>시가</th>\n",
       "      <th>종가</th>\n",
       "      <th>등락률</th>\n",
       "      <th>공매도거래대금</th>\n",
       "      <th>직전40일거래대금평균</th>\n",
       "      <th>공매도거래대금증가율</th>\n",
       "      <th>공매도비중</th>\n",
       "      <th>직전40일공매도평균비중</th>\n",
       "      <th>공매도비중증가율</th>\n",
       "      <th>순위</th>\n",
       "      <th>과열횟수</th>\n",
       "      <th>위험도수치</th>\n",
       "      <th>위험도</th>\n",
       "    </tr>\n",
       "    <tr>\n",
       "      <th>종목명</th>\n",
       "      <th></th>\n",
       "      <th></th>\n",
       "      <th></th>\n",
       "      <th></th>\n",
       "      <th></th>\n",
       "      <th></th>\n",
       "      <th></th>\n",
       "      <th></th>\n",
       "      <th></th>\n",
       "      <th></th>\n",
       "      <th></th>\n",
       "      <th></th>\n",
       "      <th></th>\n",
       "    </tr>\n",
       "  </thead>\n",
       "  <tbody>\n",
       "    <tr>\n",
       "      <th>후성</th>\n",
       "      <td>18900</td>\n",
       "      <td>19050</td>\n",
       "      <td>0.26000</td>\n",
       "      <td>5938424650</td>\n",
       "      <td>1900271320</td>\n",
       "      <td>3.12000</td>\n",
       "      <td>32.70000</td>\n",
       "      <td>6.96000</td>\n",
       "      <td>4.70000</td>\n",
       "      <td>1</td>\n",
       "      <td>0.00000</td>\n",
       "      <td>10</td>\n",
       "      <td>Level3</td>\n",
       "    </tr>\n",
       "    <tr>\n",
       "      <th>넷마블</th>\n",
       "      <td>87500</td>\n",
       "      <td>88600</td>\n",
       "      <td>0.23000</td>\n",
       "      <td>3069556100</td>\n",
       "      <td>3451718560</td>\n",
       "      <td>0.89000</td>\n",
       "      <td>31.56000</td>\n",
       "      <td>21.89000</td>\n",
       "      <td>1.44000</td>\n",
       "      <td>2</td>\n",
       "      <td>4.00000</td>\n",
       "      <td>5</td>\n",
       "      <td>Level2</td>\n",
       "    </tr>\n",
       "    <tr>\n",
       "      <th>LG생활건강</th>\n",
       "      <td>792000</td>\n",
       "      <td>811000</td>\n",
       "      <td>0.50000</td>\n",
       "      <td>15886731000</td>\n",
       "      <td>7024931625</td>\n",
       "      <td>2.26000</td>\n",
       "      <td>30.23000</td>\n",
       "      <td>12.22000</td>\n",
       "      <td>2.47000</td>\n",
       "      <td>3</td>\n",
       "      <td>2.00000</td>\n",
       "      <td>8</td>\n",
       "      <td>Level3</td>\n",
       "    </tr>\n",
       "    <tr>\n",
       "      <th>호텔신라</th>\n",
       "      <td>75800</td>\n",
       "      <td>76100</td>\n",
       "      <td>0.26000</td>\n",
       "      <td>7171328600</td>\n",
       "      <td>3998239543</td>\n",
       "      <td>1.79000</td>\n",
       "      <td>29.25000</td>\n",
       "      <td>16.10000</td>\n",
       "      <td>1.82000</td>\n",
       "      <td>4</td>\n",
       "      <td>3.00000</td>\n",
       "      <td>7</td>\n",
       "      <td>Level2</td>\n",
       "    </tr>\n",
       "    <tr>\n",
       "      <th>코웨이</th>\n",
       "      <td>69500</td>\n",
       "      <td>71300</td>\n",
       "      <td>2.30000</td>\n",
       "      <td>3349256000</td>\n",
       "      <td>940806713</td>\n",
       "      <td>3.56000</td>\n",
       "      <td>28.78000</td>\n",
       "      <td>9.58000</td>\n",
       "      <td>3.00000</td>\n",
       "      <td>5</td>\n",
       "      <td>0.00000</td>\n",
       "      <td>10</td>\n",
       "      <td>Level3</td>\n",
       "    </tr>\n",
       "    <tr>\n",
       "      <th>태광산업</th>\n",
       "      <td>997000</td>\n",
       "      <td>987000</td>\n",
       "      <td>-1.00000</td>\n",
       "      <td>98622000</td>\n",
       "      <td>29979225</td>\n",
       "      <td>3.29000</td>\n",
       "      <td>27.09000</td>\n",
       "      <td>6.39000</td>\n",
       "      <td>4.24000</td>\n",
       "      <td>6</td>\n",
       "      <td>0.00000</td>\n",
       "      <td>10</td>\n",
       "      <td>Level3</td>\n",
       "    </tr>\n",
       "    <tr>\n",
       "      <th>LG디스플레이</th>\n",
       "      <td>17100</td>\n",
       "      <td>16850</td>\n",
       "      <td>-1.75000</td>\n",
       "      <td>7404768500</td>\n",
       "      <td>10275561604</td>\n",
       "      <td>0.72000</td>\n",
       "      <td>27.06000</td>\n",
       "      <td>20.13000</td>\n",
       "      <td>1.34000</td>\n",
       "      <td>7</td>\n",
       "      <td>2.00000</td>\n",
       "      <td>3</td>\n",
       "      <td>Level1</td>\n",
       "    </tr>\n",
       "    <tr>\n",
       "      <th>CJ</th>\n",
       "      <td>83800</td>\n",
       "      <td>84500</td>\n",
       "      <td>0.48000</td>\n",
       "      <td>676530300</td>\n",
       "      <td>327820335</td>\n",
       "      <td>2.06000</td>\n",
       "      <td>26.34000</td>\n",
       "      <td>9.22000</td>\n",
       "      <td>2.86000</td>\n",
       "      <td>8</td>\n",
       "      <td>0.00000</td>\n",
       "      <td>7</td>\n",
       "      <td>Level2</td>\n",
       "    </tr>\n",
       "    <tr>\n",
       "      <th>GS리테일</th>\n",
       "      <td>25550</td>\n",
       "      <td>25900</td>\n",
       "      <td>0.00000</td>\n",
       "      <td>1937630400</td>\n",
       "      <td>921026531</td>\n",
       "      <td>2.10000</td>\n",
       "      <td>25.62000</td>\n",
       "      <td>9.89000</td>\n",
       "      <td>2.59000</td>\n",
       "      <td>9</td>\n",
       "      <td>2.00000</td>\n",
       "      <td>9</td>\n",
       "      <td>Level3</td>\n",
       "    </tr>\n",
       "    <tr>\n",
       "      <th>CJCGV</th>\n",
       "      <td>26450</td>\n",
       "      <td>26100</td>\n",
       "      <td>-1.69000</td>\n",
       "      <td>1326898000</td>\n",
       "      <td>1118951284</td>\n",
       "      <td>1.19000</td>\n",
       "      <td>24.69000</td>\n",
       "      <td>11.68000</td>\n",
       "      <td>2.11000</td>\n",
       "      <td>10</td>\n",
       "      <td>0.00000</td>\n",
       "      <td>4</td>\n",
       "      <td>Level2</td>\n",
       "    </tr>\n",
       "  </tbody>\n",
       "</table>\n",
       "</div>"
      ],
      "text/plain": [
       "             시가      종가      등락률      공매도거래대금  직전40일거래대금평균  공매도거래대금증가율  \\\n",
       "종목명                                                                      \n",
       "후성        18900   19050  0.26000   5938424650   1900271320     3.12000   \n",
       "넷마블       87500   88600  0.23000   3069556100   3451718560     0.89000   \n",
       "LG생활건강   792000  811000  0.50000  15886731000   7024931625     2.26000   \n",
       "호텔신라      75800   76100  0.26000   7171328600   3998239543     1.79000   \n",
       "코웨이       69500   71300  2.30000   3349256000    940806713     3.56000   \n",
       "태광산업     997000  987000 -1.00000     98622000     29979225     3.29000   \n",
       "LG디스플레이   17100   16850 -1.75000   7404768500  10275561604     0.72000   \n",
       "CJ        83800   84500  0.48000    676530300    327820335     2.06000   \n",
       "GS리테일     25550   25900  0.00000   1937630400    921026531     2.10000   \n",
       "CJCGV     26450   26100 -1.69000   1326898000   1118951284     1.19000   \n",
       "\n",
       "           공매도비중  직전40일공매도평균비중  공매도비중증가율  순위    과열횟수  위험도수치     위험도  \n",
       "종목명                                                                  \n",
       "후성      32.70000       6.96000   4.70000   1 0.00000     10  Level3  \n",
       "넷마블     31.56000      21.89000   1.44000   2 4.00000      5  Level2  \n",
       "LG생활건강  30.23000      12.22000   2.47000   3 2.00000      8  Level3  \n",
       "호텔신라    29.25000      16.10000   1.82000   4 3.00000      7  Level2  \n",
       "코웨이     28.78000       9.58000   3.00000   5 0.00000     10  Level3  \n",
       "태광산업    27.09000       6.39000   4.24000   6 0.00000     10  Level3  \n",
       "LG디스플레이 27.06000      20.13000   1.34000   7 2.00000      3  Level1  \n",
       "CJ      26.34000       9.22000   2.86000   8 0.00000      7  Level2  \n",
       "GS리테일   25.62000       9.89000   2.59000   9 2.00000      9  Level3  \n",
       "CJCGV   24.69000      11.68000   2.11000  10 0.00000      4  Level2  "
      ]
     },
     "execution_count": 41,
     "metadata": {},
     "output_type": "execute_result"
    }
   ],
   "source": [
    "df = danger('20220511')\n",
    "df.head(10)"
   ]
  },
  {
   "cell_type": "markdown",
   "metadata": {},
   "source": [
    "2022년 5월 11일 공매도 거래량 상위 50종목의 위험도별 개수 시각화 "
   ]
  },
  {
   "cell_type": "code",
   "execution_count": 42,
   "metadata": {},
   "outputs": [
    {
     "data": {
      "image/png": "[encoded data removed]",
      "text/plain": [
       "<Figure size 864x432 with 1 Axes>"
      ]
     },
     "metadata": {
      "needs_background": "light"
     },
     "output_type": "display_data"
    }
   ],
   "source": [
    "x = ['level1', 'level2', 'level3']\n",
    "y = pd.DataFrame(df['위험도'].value_counts())\n",
    "plt.figure(figsize=(12,6))\n",
    "bar = plt.bar(x,y['위험도'])\n",
    "for rect in bar:\n",
    "    height = rect.get_height()\n",
    "    plt.text(rect.get_x() + rect.get_width()/2.0, height, '%.1f' % height, ha='center', va='bottom', size = 12)\n",
    "plt.show()"
   ]
  },
  {
   "cell_type": "markdown",
   "metadata": {},
   "source": [
    "#### choose(danger함수로 출력한 데이터프레임)\n",
    "\n",
    "위 함수를 실행하여 데이터프레임 내의 인덱스(종목명)를 입력하면 입력한 종목만 볼 수 있습니다."
   ]
  },
  {
   "cell_type": "code",
   "execution_count": 43,
   "metadata": {},
   "outputs": [
    {
     "data": {
      "text/html": [
       "<div>\n",
       "<style scoped>\n",
       "    .dataframe tbody tr th:only-of-type {\n",
       "        vertical-align: middle;\n",
       "    }\n",
       "\n",
       "    .dataframe tbody tr th {\n",
       "        vertical-align: top;\n",
       "    }\n",
       "\n",
       "    .dataframe thead th {\n",
       "        text-align: right;\n",
       "    }\n",
       "</style>\n",
       "<table border=\"1\" class=\"dataframe\">\n",
       "  <thead>\n",
       "    <tr style=\"text-align: right;\">\n",
       "      <th></th>\n",
       "      <th>시가</th>\n",
       "      <th>종가</th>\n",
       "      <th>등락률</th>\n",
       "      <th>공매도거래대금</th>\n",
       "      <th>직전40일거래대금평균</th>\n",
       "      <th>공매도거래대금증가율</th>\n",
       "      <th>공매도비중</th>\n",
       "      <th>직전40일공매도평균비중</th>\n",
       "      <th>공매도비중증가율</th>\n",
       "      <th>순위</th>\n",
       "      <th>과열횟수</th>\n",
       "      <th>위험도수치</th>\n",
       "      <th>위험도</th>\n",
       "    </tr>\n",
       "    <tr>\n",
       "      <th>종목명</th>\n",
       "      <th></th>\n",
       "      <th></th>\n",
       "      <th></th>\n",
       "      <th></th>\n",
       "      <th></th>\n",
       "      <th></th>\n",
       "      <th></th>\n",
       "      <th></th>\n",
       "      <th></th>\n",
       "      <th></th>\n",
       "      <th></th>\n",
       "      <th></th>\n",
       "      <th></th>\n",
       "    </tr>\n",
       "  </thead>\n",
       "  <tbody>\n",
       "    <tr>\n",
       "      <th>LG생활건강</th>\n",
       "      <td>792000</td>\n",
       "      <td>811000</td>\n",
       "      <td>0.50000</td>\n",
       "      <td>15886731000</td>\n",
       "      <td>7024931625</td>\n",
       "      <td>2.26000</td>\n",
       "      <td>30.23000</td>\n",
       "      <td>12.22000</td>\n",
       "      <td>2.47000</td>\n",
       "      <td>3</td>\n",
       "      <td>2.00000</td>\n",
       "      <td>8</td>\n",
       "      <td>Level3</td>\n",
       "    </tr>\n",
       "  </tbody>\n",
       "</table>\n",
       "</div>"
      ],
      "text/plain": [
       "            시가      종가     등락률      공매도거래대금  직전40일거래대금평균  공매도거래대금증가율    공매도비중  \\\n",
       "종목명                                                                             \n",
       "LG생활건강  792000  811000 0.50000  15886731000   7024931625     2.26000 30.23000   \n",
       "\n",
       "        직전40일공매도평균비중  공매도비중증가율  순위    과열횟수  위험도수치     위험도  \n",
       "종목명                                                        \n",
       "LG생활건강      12.22000   2.47000   3 2.00000      8  Level3  "
      ]
     },
     "execution_count": 43,
     "metadata": {},
     "output_type": "execute_result"
    }
   ],
   "source": [
    "choose(df, 'LG생활건강')"
   ]
  },
  {
   "cell_type": "markdown",
   "metadata": {},
   "source": [
    "실제로 위험도가 level4로 가장 높게 측정된 금호석유가 그 다음주인 7월 11일에 주가가 전날대비 -7.97% 하락하며 과열종목으로 지정되었습니다.\n",
    "\n",
    "이런 방식으로 자신이 투자하고 싶은 종목이 공매도 타겟 종목이 될 확률이 높은 종목인지 위 함수를 통해 확인할 수 있습니다."
   ]
  },
  {
   "cell_type": "markdown",
   "metadata": {},
   "source": [
    "## 머신러닝을 통한 공매도 주가하락 위험도 예측"
   ]
  },
  {
   "cell_type": "markdown",
   "metadata": {},
   "source": [
    "### 데이터 추출 및 전처리"
   ]
  },
  {
   "cell_type": "code",
   "execution_count": 44,
   "metadata": {},
   "outputs": [],
   "source": [
    "from pykrx import stock\n",
    "import pandas as pd\n",
    "import numpy as np"
   ]
  },
  {
   "cell_type": "markdown",
   "metadata": {},
   "source": [
    "* krx 한국거래소에서 공매도 통계 데이터 추출 (start date, end date, 종목 ticker)"
   ]
  },
  {
   "cell_type": "code",
   "execution_count": 45,
   "metadata": {},
   "outputs": [],
   "source": [
    "val = stock.get_shorting_value_by_date('20190102', '20220708', '051900') # 코스피 공매도 거래대금\n",
    "bal = stock.get_shorting_balance_by_date('20190102', '20220708', '051900') # 코스피 공매도 잔고\n",
    "vol = stock.get_shorting_volume_by_date('20190102', '20220708', '051900') # 코스피 공매도 거래량\n",
    "sta = stock.get_shorting_status_by_date('20190102', '20220708', '051900')"
   ]
  },
  {
   "cell_type": "markdown",
   "metadata": {},
   "source": [
    "* 해당 종목의 일일 외국인 주식 매수량 추출 (start date, end date, 종목 ticker)"
   ]
  },
  {
   "cell_type": "code",
   "execution_count": 46,
   "metadata": {},
   "outputs": [],
   "source": [
    "fore = stock.get_market_trading_value_by_date('20190102', '20220708', '051900')\n",
    "foreign = fore['외국인합계']"
   ]
  },
  {
   "cell_type": "markdown",
   "metadata": {},
   "source": [
    "* 해당 종목의 전일 대비 주가 등락률 (start date, end date, 종목 ticker)"
   ]
  },
  {
   "cell_type": "code",
   "execution_count": 47,
   "metadata": {},
   "outputs": [],
   "source": [
    "stock_pct = stock.get_market_ohlcv_by_date('20190102', '20220708', '051900')\n",
    "stock_pct['Daily_rtn'] = stock_pct['종가'].pct_change()\n",
    "daily_rtn = stock_pct['Daily_rtn']"
   ]
  },
  {
   "cell_type": "markdown",
   "metadata": {},
   "source": [
    "* 직전 40 거래일 공매도 거래대금 평균"
   ]
  },
  {
   "cell_type": "code",
   "execution_count": 48,
   "metadata": {},
   "outputs": [],
   "source": [
    "pd.options.display.float_format = '{:.5f}'.format\n",
    "val['40일'] = val['공매도'].rolling(40).mean().shift(1)"
   ]
  },
  {
   "cell_type": "markdown",
   "metadata": {},
   "source": [
    "* 공매도 거래대금 데이터에서 거래대금 증가배율, 공매도 거래비중 추출"
   ]
  },
  {
   "cell_type": "code",
   "execution_count": 49,
   "metadata": {},
   "outputs": [],
   "source": [
    "val_ = val[40:]\n",
    "val_['증가배율'] = np.round(val_['공매도'] / val_['40일'], 2)\n",
    "증가배율 = val_['증가배율']\n",
    "공매도거래비중 = val_['비중']"
   ]
  },
  {
   "cell_type": "markdown",
   "metadata": {},
   "source": [
    "* 공매도 잔고 데이터에서 잔고비중 추출"
   ]
  },
  {
   "cell_type": "code",
   "execution_count": 50,
   "metadata": {},
   "outputs": [],
   "source": [
    "bal # 공매도 잔고 비중\n",
    "bal['잔고비중'] = bal['비중']\n",
    "잔고비중 = bal['잔고비중']"
   ]
  },
  {
   "cell_type": "markdown",
   "metadata": {},
   "source": [
    "* 공매도 잔고수량 데이터 추출"
   ]
  },
  {
   "cell_type": "code",
   "execution_count": 51,
   "metadata": {},
   "outputs": [],
   "source": [
    "잔고수량 = sta['잔고수량']"
   ]
  },
  {
   "cell_type": "markdown",
   "metadata": {},
   "source": [
    "* 코스피200 지수 "
   ]
  },
  {
   "cell_type": "code",
   "execution_count": 52,
   "metadata": {},
   "outputs": [],
   "source": [
    "kospi121 = stock.get_index_fundamental(\"20190102\", \"20220708\", \"1028\")\n",
    "kospi121['kospi200등락률'] = kospi121['등락률']\n",
    "kospi200 = kospi121['kospi200등락률']"
   ]
  },
  {
   "cell_type": "code",
   "execution_count": 53,
   "metadata": {},
   "outputs": [],
   "source": [
    "for1 = stock.get_exhaustion_rates_of_foreign_investment(\"20190102\", \"20220708\", \"051900\")\n",
    "for1['외국인 지분율'] = for1['지분율']\n",
    "forrate = for1['외국인 지분율']"
   ]
  },
  {
   "cell_type": "markdown",
   "metadata": {},
   "source": [
    "* label에 기준일 이후 40일간 주가 변동률 대입"
   ]
  },
  {
   "cell_type": "code",
   "execution_count": 54,
   "metadata": {},
   "outputs": [],
   "source": [
    "st = stock.get_market_ohlcv_by_date('20190102','20220708','051900')\n",
    "st['label'] = (st['종가'].shift(-40) - st['종가']) / st['종가']\n",
    "labels = st['label']"
   ]
  },
  {
   "cell_type": "code",
   "execution_count": 55,
   "metadata": {},
   "outputs": [],
   "source": [
    "from functools import reduce\n",
    "import pandas as pd\n",
    "dfs = [daily_rtn, foreign, 증가배율,공매도거래비중,잔고비중, kospi200, forrate, labels]\n",
    "df_merge = reduce(lambda left, right: pd.merge(left, right, on='날짜'), dfs)\n",
    "df_merge.dropna(axis = 0, inplace=True)"
   ]
  },
  {
   "cell_type": "code",
   "execution_count": 56,
   "metadata": {},
   "outputs": [
    {
     "data": {
      "text/html": [
       "<div>\n",
       "<style scoped>\n",
       "    .dataframe tbody tr th:only-of-type {\n",
       "        vertical-align: middle;\n",
       "    }\n",
       "\n",
       "    .dataframe tbody tr th {\n",
       "        vertical-align: top;\n",
       "    }\n",
       "\n",
       "    .dataframe thead th {\n",
       "        text-align: right;\n",
       "    }\n",
       "</style>\n",
       "<table border=\"1\" class=\"dataframe\">\n",
       "  <thead>\n",
       "    <tr style=\"text-align: right;\">\n",
       "      <th></th>\n",
       "      <th>Daily_rtn</th>\n",
       "      <th>외국인합계</th>\n",
       "      <th>증가배율</th>\n",
       "      <th>비중</th>\n",
       "      <th>잔고비중</th>\n",
       "      <th>kospi200등락률</th>\n",
       "      <th>외국인 지분율</th>\n",
       "      <th>label</th>\n",
       "    </tr>\n",
       "    <tr>\n",
       "      <th>날짜</th>\n",
       "      <th></th>\n",
       "      <th></th>\n",
       "      <th></th>\n",
       "      <th></th>\n",
       "      <th></th>\n",
       "      <th></th>\n",
       "      <th></th>\n",
       "      <th></th>\n",
       "    </tr>\n",
       "  </thead>\n",
       "  <tbody>\n",
       "    <tr>\n",
       "      <th>2019-03-05</th>\n",
       "      <td>-0.01979</td>\n",
       "      <td>-6941273000</td>\n",
       "      <td>0.14000</td>\n",
       "      <td>2.73000</td>\n",
       "      <td>0.77000</td>\n",
       "      <td>-0.73000</td>\n",
       "      <td>45.56250</td>\n",
       "      <td>0.14863</td>\n",
       "    </tr>\n",
       "    <tr>\n",
       "      <th>2019-03-06</th>\n",
       "      <td>0.00162</td>\n",
       "      <td>2656256000</td>\n",
       "      <td>0.59000</td>\n",
       "      <td>8.29000</td>\n",
       "      <td>0.76000</td>\n",
       "      <td>-0.21000</td>\n",
       "      <td>45.53125</td>\n",
       "      <td>0.12339</td>\n",
       "    </tr>\n",
       "    <tr>\n",
       "      <th>2019-03-07</th>\n",
       "      <td>0.01613</td>\n",
       "      <td>-11038402000</td>\n",
       "      <td>0.42000</td>\n",
       "      <td>4.06000</td>\n",
       "      <td>0.73000</td>\n",
       "      <td>-0.35000</td>\n",
       "      <td>45.56250</td>\n",
       "      <td>0.09841</td>\n",
       "    </tr>\n",
       "    <tr>\n",
       "      <th>2019-03-08</th>\n",
       "      <td>0.01032</td>\n",
       "      <td>-10034182000</td>\n",
       "      <td>1.04000</td>\n",
       "      <td>6.91000</td>\n",
       "      <td>0.70000</td>\n",
       "      <td>-1.45000</td>\n",
       "      <td>45.50000</td>\n",
       "      <td>0.07463</td>\n",
       "    </tr>\n",
       "    <tr>\n",
       "      <th>2019-03-11</th>\n",
       "      <td>0.00079</td>\n",
       "      <td>-7524774000</td>\n",
       "      <td>0.41000</td>\n",
       "      <td>5.00000</td>\n",
       "      <td>0.67000</td>\n",
       "      <td>0.08000</td>\n",
       "      <td>45.46875</td>\n",
       "      <td>0.06593</td>\n",
       "    </tr>\n",
       "    <tr>\n",
       "      <th>...</th>\n",
       "      <td>...</td>\n",
       "      <td>...</td>\n",
       "      <td>...</td>\n",
       "      <td>...</td>\n",
       "      <td>...</td>\n",
       "      <td>...</td>\n",
       "      <td>...</td>\n",
       "      <td>...</td>\n",
       "    </tr>\n",
       "    <tr>\n",
       "      <th>2022-05-04</th>\n",
       "      <td>-0.03539</td>\n",
       "      <td>-22462013000</td>\n",
       "      <td>4.78000</td>\n",
       "      <td>29.39000</td>\n",
       "      <td>2.08000</td>\n",
       "      <td>0.15000</td>\n",
       "      <td>39.87500</td>\n",
       "      <td>-0.20355</td>\n",
       "    </tr>\n",
       "    <tr>\n",
       "      <th>2022-05-06</th>\n",
       "      <td>-0.02367</td>\n",
       "      <td>-18412881000</td>\n",
       "      <td>2.62000</td>\n",
       "      <td>28.17000</td>\n",
       "      <td>2.16000</td>\n",
       "      <td>-1.37000</td>\n",
       "      <td>39.65625</td>\n",
       "      <td>-0.16606</td>\n",
       "    </tr>\n",
       "    <tr>\n",
       "      <th>2022-05-09</th>\n",
       "      <td>-0.03030</td>\n",
       "      <td>-18257275000</td>\n",
       "      <td>2.04000</td>\n",
       "      <td>17.32000</td>\n",
       "      <td>2.18000</td>\n",
       "      <td>-1.03000</td>\n",
       "      <td>39.34375</td>\n",
       "      <td>-0.14375</td>\n",
       "    </tr>\n",
       "    <tr>\n",
       "      <th>2022-05-10</th>\n",
       "      <td>0.00875</td>\n",
       "      <td>-126683000</td>\n",
       "      <td>1.49000</td>\n",
       "      <td>18.65000</td>\n",
       "      <td>2.17000</td>\n",
       "      <td>-0.50000</td>\n",
       "      <td>39.12500</td>\n",
       "      <td>-0.11400</td>\n",
       "    </tr>\n",
       "    <tr>\n",
       "      <th>2022-05-11</th>\n",
       "      <td>0.00496</td>\n",
       "      <td>5022496000</td>\n",
       "      <td>2.26000</td>\n",
       "      <td>30.23000</td>\n",
       "      <td>2.14000</td>\n",
       "      <td>-0.07000</td>\n",
       "      <td>39.00000</td>\n",
       "      <td>-0.11961</td>\n",
       "    </tr>\n",
       "  </tbody>\n",
       "</table>\n",
       "<p>789 rows × 8 columns</p>\n",
       "</div>"
      ],
      "text/plain": [
       "            Daily_rtn        외국인합계    증가배율       비중    잔고비중  kospi200등락률  \\\n",
       "날짜                                                                         \n",
       "2019-03-05   -0.01979  -6941273000 0.14000  2.73000 0.77000     -0.73000   \n",
       "2019-03-06    0.00162   2656256000 0.59000  8.29000 0.76000     -0.21000   \n",
       "2019-03-07    0.01613 -11038402000 0.42000  4.06000 0.73000     -0.35000   \n",
       "2019-03-08    0.01032 -10034182000 1.04000  6.91000 0.70000     -1.45000   \n",
       "2019-03-11    0.00079  -7524774000 0.41000  5.00000 0.67000      0.08000   \n",
       "...               ...          ...     ...      ...     ...          ...   \n",
       "2022-05-04   -0.03539 -22462013000 4.78000 29.39000 2.08000      0.15000   \n",
       "2022-05-06   -0.02367 -18412881000 2.62000 28.17000 2.16000     -1.37000   \n",
       "2022-05-09   -0.03030 -18257275000 2.04000 17.32000 2.18000     -1.03000   \n",
       "2022-05-10    0.00875   -126683000 1.49000 18.65000 2.17000     -0.50000   \n",
       "2022-05-11    0.00496   5022496000 2.26000 30.23000 2.14000     -0.07000   \n",
       "\n",
       "            외국인 지분율    label  \n",
       "날짜                            \n",
       "2019-03-05 45.56250  0.14863  \n",
       "2019-03-06 45.53125  0.12339  \n",
       "2019-03-07 45.56250  0.09841  \n",
       "2019-03-08 45.50000  0.07463  \n",
       "2019-03-11 45.46875  0.06593  \n",
       "...             ...      ...  \n",
       "2022-05-04 39.87500 -0.20355  \n",
       "2022-05-06 39.65625 -0.16606  \n",
       "2022-05-09 39.34375 -0.14375  \n",
       "2022-05-10 39.12500 -0.11400  \n",
       "2022-05-11 39.00000 -0.11961  \n",
       "\n",
       "[789 rows x 8 columns]"
      ]
     },
     "execution_count": 56,
     "metadata": {},
     "output_type": "execute_result"
    }
   ],
   "source": [
    "df_merge"
   ]
  },
  {
   "cell_type": "code",
   "execution_count": 57,
   "metadata": {},
   "outputs": [],
   "source": [
    "import seaborn as sns\n",
    "import matplotlib.pyplot as plt\n",
    "import matplotlib as mpl\n",
    "mpl.rc('font', family='Malgun Gothic')"
   ]
  },
  {
   "cell_type": "markdown",
   "metadata": {},
   "source": [
    "* features와 label 간의 상관관계 확인"
   ]
  },
  {
   "cell_type": "code",
   "execution_count": 58,
   "metadata": {},
   "outputs": [
    {
     "data": {
      "text/plain": [
       "<AxesSubplot:>"
      ]
     },
     "execution_count": 58,
     "metadata": {},
     "output_type": "execute_result"
    },
    {
     "data": {
      "image/png": "[encoded data removed]",
      "text/plain": [
       "<Figure size 1152x648 with 2 Axes>"
      ]
     },
     "metadata": {
      "needs_background": "light"
     },
     "output_type": "display_data"
    }
   ],
   "source": [
    "df_merge.corr()\n",
    "plt.figure(figsize=(16,9))\n",
    "sns.heatmap(df_merge.astype(float).corr(), linewidths = 0.1, vmax = 1.0,\n",
    "           square = True, cmap = 'Blues', linecolor = \"white\", annot = True, annot_kws = {\"size\" : 16})"
   ]
  },
  {
   "cell_type": "markdown",
   "metadata": {},
   "source": [
    "* 다중공선성 발생 가능성이 높은 feature 삭제"
   ]
  },
  {
   "cell_type": "code",
   "execution_count": 59,
   "metadata": {},
   "outputs": [
    {
     "data": {
      "text/html": [
       "<div>\n",
       "<style scoped>\n",
       "    .dataframe tbody tr th:only-of-type {\n",
       "        vertical-align: middle;\n",
       "    }\n",
       "\n",
       "    .dataframe tbody tr th {\n",
       "        vertical-align: top;\n",
       "    }\n",
       "\n",
       "    .dataframe thead th {\n",
       "        text-align: right;\n",
       "    }\n",
       "</style>\n",
       "<table border=\"1\" class=\"dataframe\">\n",
       "  <thead>\n",
       "    <tr style=\"text-align: right;\">\n",
       "      <th></th>\n",
       "      <th>외국인합계</th>\n",
       "      <th>증가배율</th>\n",
       "      <th>비중</th>\n",
       "      <th>잔고비중</th>\n",
       "      <th>kospi200등락률</th>\n",
       "      <th>외국인 지분율</th>\n",
       "      <th>label</th>\n",
       "    </tr>\n",
       "    <tr>\n",
       "      <th>날짜</th>\n",
       "      <th></th>\n",
       "      <th></th>\n",
       "      <th></th>\n",
       "      <th></th>\n",
       "      <th></th>\n",
       "      <th></th>\n",
       "      <th></th>\n",
       "    </tr>\n",
       "  </thead>\n",
       "  <tbody>\n",
       "    <tr>\n",
       "      <th>2019-03-05</th>\n",
       "      <td>-6941273000</td>\n",
       "      <td>0.14000</td>\n",
       "      <td>2.73000</td>\n",
       "      <td>0.77000</td>\n",
       "      <td>-0.73000</td>\n",
       "      <td>45.56250</td>\n",
       "      <td>0.14863</td>\n",
       "    </tr>\n",
       "    <tr>\n",
       "      <th>2019-03-06</th>\n",
       "      <td>2656256000</td>\n",
       "      <td>0.59000</td>\n",
       "      <td>8.29000</td>\n",
       "      <td>0.76000</td>\n",
       "      <td>-0.21000</td>\n",
       "      <td>45.53125</td>\n",
       "      <td>0.12339</td>\n",
       "    </tr>\n",
       "    <tr>\n",
       "      <th>2019-03-07</th>\n",
       "      <td>-11038402000</td>\n",
       "      <td>0.42000</td>\n",
       "      <td>4.06000</td>\n",
       "      <td>0.73000</td>\n",
       "      <td>-0.35000</td>\n",
       "      <td>45.56250</td>\n",
       "      <td>0.09841</td>\n",
       "    </tr>\n",
       "    <tr>\n",
       "      <th>2019-03-08</th>\n",
       "      <td>-10034182000</td>\n",
       "      <td>1.04000</td>\n",
       "      <td>6.91000</td>\n",
       "      <td>0.70000</td>\n",
       "      <td>-1.45000</td>\n",
       "      <td>45.50000</td>\n",
       "      <td>0.07463</td>\n",
       "    </tr>\n",
       "    <tr>\n",
       "      <th>2019-03-11</th>\n",
       "      <td>-7524774000</td>\n",
       "      <td>0.41000</td>\n",
       "      <td>5.00000</td>\n",
       "      <td>0.67000</td>\n",
       "      <td>0.08000</td>\n",
       "      <td>45.46875</td>\n",
       "      <td>0.06593</td>\n",
       "    </tr>\n",
       "    <tr>\n",
       "      <th>...</th>\n",
       "      <td>...</td>\n",
       "      <td>...</td>\n",
       "      <td>...</td>\n",
       "      <td>...</td>\n",
       "      <td>...</td>\n",
       "      <td>...</td>\n",
       "      <td>...</td>\n",
       "    </tr>\n",
       "    <tr>\n",
       "      <th>2022-05-04</th>\n",
       "      <td>-22462013000</td>\n",
       "      <td>4.78000</td>\n",
       "      <td>29.39000</td>\n",
       "      <td>2.08000</td>\n",
       "      <td>0.15000</td>\n",
       "      <td>39.87500</td>\n",
       "      <td>-0.20355</td>\n",
       "    </tr>\n",
       "    <tr>\n",
       "      <th>2022-05-06</th>\n",
       "      <td>-18412881000</td>\n",
       "      <td>2.62000</td>\n",
       "      <td>28.17000</td>\n",
       "      <td>2.16000</td>\n",
       "      <td>-1.37000</td>\n",
       "      <td>39.65625</td>\n",
       "      <td>-0.16606</td>\n",
       "    </tr>\n",
       "    <tr>\n",
       "      <th>2022-05-09</th>\n",
       "      <td>-18257275000</td>\n",
       "      <td>2.04000</td>\n",
       "      <td>17.32000</td>\n",
       "      <td>2.18000</td>\n",
       "      <td>-1.03000</td>\n",
       "      <td>39.34375</td>\n",
       "      <td>-0.14375</td>\n",
       "    </tr>\n",
       "    <tr>\n",
       "      <th>2022-05-10</th>\n",
       "      <td>-126683000</td>\n",
       "      <td>1.49000</td>\n",
       "      <td>18.65000</td>\n",
       "      <td>2.17000</td>\n",
       "      <td>-0.50000</td>\n",
       "      <td>39.12500</td>\n",
       "      <td>-0.11400</td>\n",
       "    </tr>\n",
       "    <tr>\n",
       "      <th>2022-05-11</th>\n",
       "      <td>5022496000</td>\n",
       "      <td>2.26000</td>\n",
       "      <td>30.23000</td>\n",
       "      <td>2.14000</td>\n",
       "      <td>-0.07000</td>\n",
       "      <td>39.00000</td>\n",
       "      <td>-0.11961</td>\n",
       "    </tr>\n",
       "  </tbody>\n",
       "</table>\n",
       "<p>789 rows × 7 columns</p>\n",
       "</div>"
      ],
      "text/plain": [
       "                  외국인합계    증가배율       비중    잔고비중  kospi200등락률  외국인 지분율  \\\n",
       "날짜                                                                       \n",
       "2019-03-05  -6941273000 0.14000  2.73000 0.77000     -0.73000 45.56250   \n",
       "2019-03-06   2656256000 0.59000  8.29000 0.76000     -0.21000 45.53125   \n",
       "2019-03-07 -11038402000 0.42000  4.06000 0.73000     -0.35000 45.56250   \n",
       "2019-03-08 -10034182000 1.04000  6.91000 0.70000     -1.45000 45.50000   \n",
       "2019-03-11  -7524774000 0.41000  5.00000 0.67000      0.08000 45.46875   \n",
       "...                 ...     ...      ...     ...          ...      ...   \n",
       "2022-05-04 -22462013000 4.78000 29.39000 2.08000      0.15000 39.87500   \n",
       "2022-05-06 -18412881000 2.62000 28.17000 2.16000     -1.37000 39.65625   \n",
       "2022-05-09 -18257275000 2.04000 17.32000 2.18000     -1.03000 39.34375   \n",
       "2022-05-10   -126683000 1.49000 18.65000 2.17000     -0.50000 39.12500   \n",
       "2022-05-11   5022496000 2.26000 30.23000 2.14000     -0.07000 39.00000   \n",
       "\n",
       "              label  \n",
       "날짜                   \n",
       "2019-03-05  0.14863  \n",
       "2019-03-06  0.12339  \n",
       "2019-03-07  0.09841  \n",
       "2019-03-08  0.07463  \n",
       "2019-03-11  0.06593  \n",
       "...             ...  \n",
       "2022-05-04 -0.20355  \n",
       "2022-05-06 -0.16606  \n",
       "2022-05-09 -0.14375  \n",
       "2022-05-10 -0.11400  \n",
       "2022-05-11 -0.11961  \n",
       "\n",
       "[789 rows x 7 columns]"
      ]
     },
     "execution_count": 59,
     "metadata": {},
     "output_type": "execute_result"
    }
   ],
   "source": [
    "df_merge.drop(['Daily_rtn'], axis=1, inplace=True)\n",
    "df_merge"
   ]
  },
  {
   "cell_type": "code",
   "execution_count": 60,
   "metadata": {},
   "outputs": [
    {
     "data": {
      "text/plain": [
       "<AxesSubplot:>"
      ]
     },
     "execution_count": 60,
     "metadata": {},
     "output_type": "execute_result"
    },
    {
     "data": {
      "image/png": "[encoded data removed]",
      "text/plain": [
       "<Figure size 1152x648 with 2 Axes>"
      ]
     },
     "metadata": {
      "needs_background": "light"
     },
     "output_type": "display_data"
    }
   ],
   "source": [
    "df_merge.corr()\n",
    "plt.figure(figsize=(16,9))\n",
    "sns.heatmap(df_merge.astype(float).corr(), linewidths = 0.1, vmax = 1.0,\n",
    "           square = True, cmap = 'Blues', linecolor = \"white\", annot = True, annot_kws = {\"size\" : 16})"
   ]
  },
  {
   "cell_type": "markdown",
   "metadata": {},
   "source": [
    "* label을 5일동안 수익률이 -5%일 때 1, 나머지를 0으로 설정"
   ]
  },
  {
   "cell_type": "code",
   "execution_count": 61,
   "metadata": {},
   "outputs": [],
   "source": [
    "for i in range(len(df_merge)):\n",
    "\n",
    "    if df_merge['label'][i] <= -0.05:\n",
    "        df_merge['label'][i] = 1\n",
    "    else :\n",
    "        df_merge['label'][i] = 0"
   ]
  },
  {
   "cell_type": "markdown",
   "metadata": {},
   "source": [
    "* label을 features가 있는 데이터프레임과 분리"
   ]
  },
  {
   "cell_type": "code",
   "execution_count": 62,
   "metadata": {},
   "outputs": [],
   "source": [
    "df_data = df_merge.drop(['label'],axis=1)\n",
    "df_target = df_merge['label']"
   ]
  },
  {
   "cell_type": "code",
   "execution_count": 63,
   "metadata": {},
   "outputs": [],
   "source": [
    "from sklearn.ensemble import GradientBoostingClassifier\n",
    "from sklearn.datasets import load_iris\n",
    "from sklearn.model_selection import train_test_split\n",
    "from sklearn.metrics import accuracy_score\n",
    "from sklearn.model_selection import GridSearchCV\n",
    "from sklearn.model_selection import KFold"
   ]
  },
  {
   "cell_type": "code",
   "execution_count": 64,
   "metadata": {},
   "outputs": [
    {
     "data": {
      "text/html": [
       "<div>\n",
       "<style scoped>\n",
       "    .dataframe tbody tr th:only-of-type {\n",
       "        vertical-align: middle;\n",
       "    }\n",
       "\n",
       "    .dataframe tbody tr th {\n",
       "        vertical-align: top;\n",
       "    }\n",
       "\n",
       "    .dataframe thead th {\n",
       "        text-align: right;\n",
       "    }\n",
       "</style>\n",
       "<table border=\"1\" class=\"dataframe\">\n",
       "  <thead>\n",
       "    <tr style=\"text-align: right;\">\n",
       "      <th></th>\n",
       "      <th>외국인합계</th>\n",
       "      <th>증가배율</th>\n",
       "      <th>비중</th>\n",
       "      <th>잔고비중</th>\n",
       "      <th>kospi200등락률</th>\n",
       "      <th>외국인 지분율</th>\n",
       "    </tr>\n",
       "    <tr>\n",
       "      <th>날짜</th>\n",
       "      <th></th>\n",
       "      <th></th>\n",
       "      <th></th>\n",
       "      <th></th>\n",
       "      <th></th>\n",
       "      <th></th>\n",
       "    </tr>\n",
       "  </thead>\n",
       "  <tbody>\n",
       "    <tr>\n",
       "      <th>2019-03-05</th>\n",
       "      <td>-6941273000</td>\n",
       "      <td>0.14000</td>\n",
       "      <td>2.73000</td>\n",
       "      <td>0.77000</td>\n",
       "      <td>-0.73000</td>\n",
       "      <td>45.56250</td>\n",
       "    </tr>\n",
       "    <tr>\n",
       "      <th>2019-03-06</th>\n",
       "      <td>2656256000</td>\n",
       "      <td>0.59000</td>\n",
       "      <td>8.29000</td>\n",
       "      <td>0.76000</td>\n",
       "      <td>-0.21000</td>\n",
       "      <td>45.53125</td>\n",
       "    </tr>\n",
       "    <tr>\n",
       "      <th>2019-03-07</th>\n",
       "      <td>-11038402000</td>\n",
       "      <td>0.42000</td>\n",
       "      <td>4.06000</td>\n",
       "      <td>0.73000</td>\n",
       "      <td>-0.35000</td>\n",
       "      <td>45.56250</td>\n",
       "    </tr>\n",
       "    <tr>\n",
       "      <th>2019-03-08</th>\n",
       "      <td>-10034182000</td>\n",
       "      <td>1.04000</td>\n",
       "      <td>6.91000</td>\n",
       "      <td>0.70000</td>\n",
       "      <td>-1.45000</td>\n",
       "      <td>45.50000</td>\n",
       "    </tr>\n",
       "    <tr>\n",
       "      <th>2019-03-11</th>\n",
       "      <td>-7524774000</td>\n",
       "      <td>0.41000</td>\n",
       "      <td>5.00000</td>\n",
       "      <td>0.67000</td>\n",
       "      <td>0.08000</td>\n",
       "      <td>45.46875</td>\n",
       "    </tr>\n",
       "    <tr>\n",
       "      <th>...</th>\n",
       "      <td>...</td>\n",
       "      <td>...</td>\n",
       "      <td>...</td>\n",
       "      <td>...</td>\n",
       "      <td>...</td>\n",
       "      <td>...</td>\n",
       "    </tr>\n",
       "    <tr>\n",
       "      <th>2022-05-04</th>\n",
       "      <td>-22462013000</td>\n",
       "      <td>4.78000</td>\n",
       "      <td>29.39000</td>\n",
       "      <td>2.08000</td>\n",
       "      <td>0.15000</td>\n",
       "      <td>39.87500</td>\n",
       "    </tr>\n",
       "    <tr>\n",
       "      <th>2022-05-06</th>\n",
       "      <td>-18412881000</td>\n",
       "      <td>2.62000</td>\n",
       "      <td>28.17000</td>\n",
       "      <td>2.16000</td>\n",
       "      <td>-1.37000</td>\n",
       "      <td>39.65625</td>\n",
       "    </tr>\n",
       "    <tr>\n",
       "      <th>2022-05-09</th>\n",
       "      <td>-18257275000</td>\n",
       "      <td>2.04000</td>\n",
       "      <td>17.32000</td>\n",
       "      <td>2.18000</td>\n",
       "      <td>-1.03000</td>\n",
       "      <td>39.34375</td>\n",
       "    </tr>\n",
       "    <tr>\n",
       "      <th>2022-05-10</th>\n",
       "      <td>-126683000</td>\n",
       "      <td>1.49000</td>\n",
       "      <td>18.65000</td>\n",
       "      <td>2.17000</td>\n",
       "      <td>-0.50000</td>\n",
       "      <td>39.12500</td>\n",
       "    </tr>\n",
       "    <tr>\n",
       "      <th>2022-05-11</th>\n",
       "      <td>5022496000</td>\n",
       "      <td>2.26000</td>\n",
       "      <td>30.23000</td>\n",
       "      <td>2.14000</td>\n",
       "      <td>-0.07000</td>\n",
       "      <td>39.00000</td>\n",
       "    </tr>\n",
       "  </tbody>\n",
       "</table>\n",
       "<p>789 rows × 6 columns</p>\n",
       "</div>"
      ],
      "text/plain": [
       "                  외국인합계    증가배율       비중    잔고비중  kospi200등락률  외국인 지분율\n",
       "날짜                                                                    \n",
       "2019-03-05  -6941273000 0.14000  2.73000 0.77000     -0.73000 45.56250\n",
       "2019-03-06   2656256000 0.59000  8.29000 0.76000     -0.21000 45.53125\n",
       "2019-03-07 -11038402000 0.42000  4.06000 0.73000     -0.35000 45.56250\n",
       "2019-03-08 -10034182000 1.04000  6.91000 0.70000     -1.45000 45.50000\n",
       "2019-03-11  -7524774000 0.41000  5.00000 0.67000      0.08000 45.46875\n",
       "...                 ...     ...      ...     ...          ...      ...\n",
       "2022-05-04 -22462013000 4.78000 29.39000 2.08000      0.15000 39.87500\n",
       "2022-05-06 -18412881000 2.62000 28.17000 2.16000     -1.37000 39.65625\n",
       "2022-05-09 -18257275000 2.04000 17.32000 2.18000     -1.03000 39.34375\n",
       "2022-05-10   -126683000 1.49000 18.65000 2.17000     -0.50000 39.12500\n",
       "2022-05-11   5022496000 2.26000 30.23000 2.14000     -0.07000 39.00000\n",
       "\n",
       "[789 rows x 6 columns]"
      ]
     },
     "execution_count": 64,
     "metadata": {},
     "output_type": "execute_result"
    }
   ],
   "source": [
    "df_data"
   ]
  },
  {
   "cell_type": "markdown",
   "metadata": {},
   "source": [
    "* '외국인합계'와 '잔고수량'의 값이 커서 MinMaxScaler를 통해 전처리"
   ]
  },
  {
   "cell_type": "code",
   "execution_count": 65,
   "metadata": {},
   "outputs": [
    {
     "data": {
      "text/html": [
       "<div>\n",
       "<style scoped>\n",
       "    .dataframe tbody tr th:only-of-type {\n",
       "        vertical-align: middle;\n",
       "    }\n",
       "\n",
       "    .dataframe tbody tr th {\n",
       "        vertical-align: top;\n",
       "    }\n",
       "\n",
       "    .dataframe thead th {\n",
       "        text-align: right;\n",
       "    }\n",
       "</style>\n",
       "<table border=\"1\" class=\"dataframe\">\n",
       "  <thead>\n",
       "    <tr style=\"text-align: right;\">\n",
       "      <th></th>\n",
       "      <th>외국인합계</th>\n",
       "      <th>증가배율</th>\n",
       "      <th>비중</th>\n",
       "      <th>잔고비중</th>\n",
       "      <th>kospi200등락률</th>\n",
       "      <th>외국인 지분율</th>\n",
       "    </tr>\n",
       "  </thead>\n",
       "  <tbody>\n",
       "    <tr>\n",
       "      <th>0</th>\n",
       "      <td>0.41895</td>\n",
       "      <td>0.00422</td>\n",
       "      <td>0.07847</td>\n",
       "      <td>0.26562</td>\n",
       "      <td>0.41260</td>\n",
       "      <td>0.86420</td>\n",
       "    </tr>\n",
       "    <tr>\n",
       "      <th>1</th>\n",
       "      <td>0.45912</td>\n",
       "      <td>0.01779</td>\n",
       "      <td>0.23829</td>\n",
       "      <td>0.26042</td>\n",
       "      <td>0.44352</td>\n",
       "      <td>0.86008</td>\n",
       "    </tr>\n",
       "    <tr>\n",
       "      <th>2</th>\n",
       "      <td>0.40180</td>\n",
       "      <td>0.01266</td>\n",
       "      <td>0.11670</td>\n",
       "      <td>0.24479</td>\n",
       "      <td>0.43520</td>\n",
       "      <td>0.86420</td>\n",
       "    </tr>\n",
       "    <tr>\n",
       "      <th>3</th>\n",
       "      <td>0.40601</td>\n",
       "      <td>0.03135</td>\n",
       "      <td>0.19862</td>\n",
       "      <td>0.22917</td>\n",
       "      <td>0.36980</td>\n",
       "      <td>0.85597</td>\n",
       "    </tr>\n",
       "    <tr>\n",
       "      <th>4</th>\n",
       "      <td>0.41651</td>\n",
       "      <td>0.01236</td>\n",
       "      <td>0.14372</td>\n",
       "      <td>0.21354</td>\n",
       "      <td>0.46076</td>\n",
       "      <td>0.85185</td>\n",
       "    </tr>\n",
       "    <tr>\n",
       "      <th>...</th>\n",
       "      <td>...</td>\n",
       "      <td>...</td>\n",
       "      <td>...</td>\n",
       "      <td>...</td>\n",
       "      <td>...</td>\n",
       "      <td>...</td>\n",
       "    </tr>\n",
       "    <tr>\n",
       "      <th>784</th>\n",
       "      <td>0.35400</td>\n",
       "      <td>0.14411</td>\n",
       "      <td>0.84478</td>\n",
       "      <td>0.94792</td>\n",
       "      <td>0.46492</td>\n",
       "      <td>0.11523</td>\n",
       "    </tr>\n",
       "    <tr>\n",
       "      <th>785</th>\n",
       "      <td>0.37094</td>\n",
       "      <td>0.07899</td>\n",
       "      <td>0.80972</td>\n",
       "      <td>0.98958</td>\n",
       "      <td>0.37455</td>\n",
       "      <td>0.08642</td>\n",
       "    </tr>\n",
       "    <tr>\n",
       "      <th>786</th>\n",
       "      <td>0.37159</td>\n",
       "      <td>0.06150</td>\n",
       "      <td>0.49784</td>\n",
       "      <td>1.00000</td>\n",
       "      <td>0.39477</td>\n",
       "      <td>0.04527</td>\n",
       "    </tr>\n",
       "    <tr>\n",
       "      <th>787</th>\n",
       "      <td>0.44747</td>\n",
       "      <td>0.04492</td>\n",
       "      <td>0.53607</td>\n",
       "      <td>0.99479</td>\n",
       "      <td>0.42628</td>\n",
       "      <td>0.01646</td>\n",
       "    </tr>\n",
       "    <tr>\n",
       "      <th>788</th>\n",
       "      <td>0.46902</td>\n",
       "      <td>0.06813</td>\n",
       "      <td>0.86893</td>\n",
       "      <td>0.97917</td>\n",
       "      <td>0.45184</td>\n",
       "      <td>0.00000</td>\n",
       "    </tr>\n",
       "  </tbody>\n",
       "</table>\n",
       "<p>789 rows × 6 columns</p>\n",
       "</div>"
      ],
      "text/plain": [
       "      외국인합계    증가배율      비중    잔고비중  kospi200등락률  외국인 지분율\n",
       "0   0.41895 0.00422 0.07847 0.26562      0.41260  0.86420\n",
       "1   0.45912 0.01779 0.23829 0.26042      0.44352  0.86008\n",
       "2   0.40180 0.01266 0.11670 0.24479      0.43520  0.86420\n",
       "3   0.40601 0.03135 0.19862 0.22917      0.36980  0.85597\n",
       "4   0.41651 0.01236 0.14372 0.21354      0.46076  0.85185\n",
       "..      ...     ...     ...     ...          ...      ...\n",
       "784 0.35400 0.14411 0.84478 0.94792      0.46492  0.11523\n",
       "785 0.37094 0.07899 0.80972 0.98958      0.37455  0.08642\n",
       "786 0.37159 0.06150 0.49784 1.00000      0.39477  0.04527\n",
       "787 0.44747 0.04492 0.53607 0.99479      0.42628  0.01646\n",
       "788 0.46902 0.06813 0.86893 0.97917      0.45184  0.00000\n",
       "\n",
       "[789 rows x 6 columns]"
      ]
     },
     "execution_count": 65,
     "metadata": {},
     "output_type": "execute_result"
    }
   ],
   "source": [
    "from sklearn.preprocessing import MinMaxScaler\n",
    "min = MinMaxScaler()\n",
    "min_scaled = min.fit_transform(df_data)\n",
    "minmax_fit = pd.DataFrame(min_scaled, columns=['외국인합계', '증가배율', '비중', '잔고비중', 'kospi200등락률', '외국인 지분율'])\n",
    "minmax_fit"
   ]
  },
  {
   "cell_type": "code",
   "execution_count": 66,
   "metadata": {},
   "outputs": [],
   "source": [
    "from matplotlib import pyplot\n",
    "from pandas import read_csv, set_option\n",
    "from pandas.plotting import scatter_matrix\n",
    "import seaborn as sns\n",
    "from sklearn.preprocessing import StandardScaler\n",
    "from sklearn.model_selection import train_test_split, KFold, cross_val_score, GridSearchCV\n",
    "from sklearn.linear_model import LogisticRegression\n",
    "from sklearn.tree import DecisionTreeClassifier\n",
    "from sklearn.neighbors import KNeighborsClassifier\n",
    "from sklearn.discriminant_analysis import LinearDiscriminantAnalysis\n",
    "from sklearn.naive_bayes import GaussianNB\n",
    "from sklearn.svm import SVC\n",
    "from sklearn.neural_network import MLPClassifier\n",
    "from sklearn.pipeline import Pipeline\n",
    "from sklearn.ensemble import AdaBoostClassifier, GradientBoostingClassifier, RandomForestClassifier, ExtraTreesClassifier\n",
    "from sklearn.metrics import classification_report, confusion_matrix, accuracy_score\n",
    "from keras.models import Sequential\n",
    "from keras.layers import Dense\n",
    "from keras.wrappers.scikit_learn import KerasClassifier\n",
    "from tensorflow.keras.optimizers import SGD\n"
   ]
  },
  {
   "cell_type": "code",
   "execution_count": 67,
   "metadata": {},
   "outputs": [],
   "source": [
    "X_train, X_test, y_train, y_test = train_test_split(minmax_fit, df_target, test_size=0.2, random_state=7)"
   ]
  },
  {
   "cell_type": "code",
   "execution_count": 68,
   "metadata": {},
   "outputs": [],
   "source": [
    "num_folds = 10\n",
    "scoring = 'roc_auc'"
   ]
  },
  {
   "cell_type": "code",
   "execution_count": 69,
   "metadata": {},
   "outputs": [],
   "source": [
    "models = []\n",
    "models.append(('LR', LogisticRegression()))\n",
    "models.append(('LDA', LinearDiscriminantAnalysis()))\n",
    "models.append(('KNN', KNeighborsClassifier()))\n",
    "models.append(('CART', DecisionTreeClassifier()))\n",
    "models.append(('NB', GaussianNB()))\n",
    "models.append(('SVM', SVC()))\n",
    "#Neural Network\n",
    "models.append(('NN', MLPClassifier()))\n",
    "# #Ensable Models\n",
    "# Boosting methods\n",
    "models.append(('AB', AdaBoostClassifier()))\n",
    "models.append(('GBM', GradientBoostingClassifier()))\n",
    "# Bagging methods\n",
    "models.append(('RF', RandomForestClassifier()))\n",
    "models.append(('ET', ExtraTreesClassifier()))\n"
   ]
  },
  {
   "cell_type": "code",
   "execution_count": 70,
   "metadata": {},
   "outputs": [
    {
     "name": "stdout",
     "output_type": "stream",
     "text": [
      "LR: 0.726945 (0.073494)\n",
      "LDA: 0.723107 (0.075825)\n",
      "KNN: 0.847104 (0.049581)\n",
      "CART: 0.774765 (0.055706)\n",
      "NB: 0.772260 (0.093079)\n",
      "SVM: 0.820621 (0.046021)\n",
      "NN: 0.778896 (0.062100)\n",
      "AB: 0.858387 (0.075640)\n",
      "GBM: 0.888788 (0.054711)\n",
      "RF: 0.906224 (0.045634)\n",
      "ET: 0.913564 (0.041839)\n"
     ]
    }
   ],
   "source": [
    "results = []\n",
    "names = []\n",
    "num_folds = 10\n",
    "for name, model in models:\n",
    "    kfold = KFold(n_splits=num_folds, random_state=10, shuffle=True)\n",
    "    cv_results = cross_val_score(model, X_train, y_train, cv=num_folds, scoring=scoring)\n",
    "    results.append(cv_results)\n",
    "    names.append(name)\n",
    "    msg = \"%s: %f (%f)\" % (name, cv_results.mean(), cv_results.std())\n",
    "    print(msg)\n"
   ]
  },
  {
   "cell_type": "code",
   "execution_count": 71,
   "metadata": {},
   "outputs": [
    {
     "data": {
      "image/png": "[encoded data removed]",
      "text/plain": [
       "<Figure size 576x288 with 1 Axes>"
      ]
     },
     "metadata": {
      "needs_background": "light"
     },
     "output_type": "display_data"
    }
   ],
   "source": [
    "# compare algorithms\n",
    "fig = pyplot.figure()\n",
    "fig.suptitle('Algorithm Comparison')\n",
    "ax = fig.add_subplot(111)\n",
    "pyplot.boxplot(results)\n",
    "ax.set_xticklabels(names)\n",
    "fig.set_size_inches(8,4)\n",
    "pyplot.show()\n"
   ]
  },
  {
   "cell_type": "code",
   "execution_count": 72,
   "metadata": {},
   "outputs": [],
   "source": [
    "from sklearn.model_selection import StratifiedKFold\n",
    "from sklearn.metrics import roc_curve"
   ]
  },
  {
   "cell_type": "code",
   "execution_count": 73,
   "metadata": {},
   "outputs": [],
   "source": [
    "n_estimators = [20,50,100]\n",
    "max_depth= [2, 3,5]\n",
    "param_grid = dict(n_estimators=n_estimators, max_depth=max_depth)\n",
    "model = RandomForestClassifier()\n",
    "kfold = StratifiedKFold(n_splits=10, random_state=10, shuffle=True)\n",
    "grid = GridSearchCV(estimator=model, param_grid=param_grid, scoring='roc_auc', cv=kfold)\n",
    "grid_result = grid.fit(X_train, y_train)\n"
   ]
  },
  {
   "cell_type": "code",
   "execution_count": 74,
   "metadata": {},
   "outputs": [
    {
     "name": "stdout",
     "output_type": "stream",
     "text": [
      "최고예측 정확도: 0.883026402470847 최적 하이퍼 파라미터 : {'max_depth': 5, 'n_estimators': 50}\n",
      "0.7974683544303798\n"
     ]
    }
   ],
   "source": [
    "estimator = grid_result.best_estimator_\n",
    "print('최고예측 정확도:', grid_result.best_score_, '최적 하이퍼 파라미터 :', grid_result.best_params_)\n",
    "pred = estimator.predict(X_test)\n",
    "print(accuracy_score(y_test, pred))"
   ]
  },
  {
   "cell_type": "code",
   "execution_count": 75,
   "metadata": {},
   "outputs": [
    {
     "data": {
      "image/png": "[encoded data removed]",
      "text/plain": [
       "<Figure size 432x288 with 1 Axes>"
      ]
     },
     "metadata": {
      "needs_background": "light"
     },
     "output_type": "display_data"
    }
   ],
   "source": [
    "pred_proba_class1 = estimator.predict_proba(X_test)[:,1]\n",
    "fprs, tprs, thresholds = roc_curve(y_test, pred_proba_class1)\n",
    "thr_index = np.arange(1, thresholds.shape[0],5)\n",
    "plt.plot(fprs, tprs, label='ROC')\n",
    "plt.plot([0,1],[0,1], 'k--', label='Random')\n",
    "\n",
    "start, end = plt.xlim()\n",
    "plt.xticks(np.round(np.arange(start, end, 0.1),2))\n",
    "plt.xlim(0,1); plt.ylim(0,1)\n",
    "plt.xlabel('FPR(1-Sensitivity)'); plt.ylabel('TPR(Recall)')\n",
    "plt.legend()\n",
    "plt.show()"
   ]
  },
  {
   "cell_type": "code",
   "execution_count": 76,
   "metadata": {},
   "outputs": [
    {
     "name": "stdout",
     "output_type": "stream",
     "text": [
      "              precision    recall  f1-score   support\n",
      "\n",
      "     class 0       0.78      0.89      0.83        89\n",
      "     class 1       0.82      0.68      0.75        69\n",
      "\n",
      "    accuracy                           0.80       158\n",
      "   macro avg       0.80      0.78      0.79       158\n",
      "weighted avg       0.80      0.80      0.79       158\n",
      "\n"
     ]
    }
   ],
   "source": [
    "print(classification_report(y_test, pred, target_names=['class 0', 'class 1']))"
   ]
  },
  {
   "cell_type": "code",
   "execution_count": 77,
   "metadata": {},
   "outputs": [
    {
     "name": "stdout",
     "output_type": "stream",
     "text": [
      "idx: 30 , threshold: 0.4170959730002855\n"
     ]
    }
   ],
   "source": [
    "# threshold 최대값의 인덱스, np.argmax()\n",
    "# pred_proba_class1 = estimator.predict_proba(X_test)[:,1]\n",
    "# fprs, tprs, thresholds = roc_curve(y_test, pred_proba)\n",
    "optimal_idx = np.argmax(tprs - fprs)\n",
    "optimal_threshold = thresholds[optimal_idx]\n",
    "\n",
    "print('idx:', optimal_idx, ', threshold:', optimal_threshold)"
   ]
  },
  {
   "cell_type": "code",
   "execution_count": 79,
   "metadata": {},
   "outputs": [
    {
     "name": "stdout",
     "output_type": "stream",
     "text": [
      "오차행렬: \n",
      " [[72 17]\n",
      " [12 57]]\n",
      "              precision    recall  f1-score   support\n",
      "\n",
      "         0.0       0.86      0.81      0.83        89\n",
      "         1.0       0.77      0.83      0.80        69\n",
      "\n",
      "    accuracy                           0.82       158\n",
      "   macro avg       0.81      0.82      0.81       158\n",
      "weighted avg       0.82      0.82      0.82       158\n",
      "\n"
     ]
    }
   ],
   "source": [
    "from sklearn.preprocessing import Binarizer\n",
    "from sklearn.metrics import confusion_matrix\n",
    "pred_proba = estimator.predict_proba(X_test)\n",
    "custom_threshold = 0.4170959730002855\n",
    "\n",
    "# Positive 컬럼에 Binarizer 적용\n",
    "pred_proba_1 = pred_proba[:,1].reshape(-1,1)\n",
    "\n",
    "binarizer = Binarizer(threshold=custom_threshold).fit(pred_proba_1) \n",
    "custom_predict = binarizer.transform(pred_proba_1)\n",
    "\n",
    "# 테스트 레이블 데이터셋: y_test\n",
    "\n",
    "# 오차행렬\n",
    "print('오차행렬:', '\\n',  confusion_matrix(y_test, custom_predict))\n",
    "print(classification_report(y_test, custom_predict))"
   ]
  },
  {
   "cell_type": "code",
   "execution_count": null,
   "metadata": {},
   "outputs": [],
   "source": []
  }
 ],
 "metadata": {
  "kernelspec": {
   "display_name": "Python 3.6.6 64-bit (system)",
   "language": "python",
   "name": "python3"
  },
  "language_info": {
   "codemirror_mode": {
    "name": "ipython",
    "version": 3
   },
   "file_extension": ".py",
   "mimetype": "text/x-python",
   "name": "python",
   "nbconvert_exporter": "python",
   "pygments_lexer": "ipython3",
   "version": "3.6.6"
  },
  "orig_nbformat": 4,
  "vscode": {
   "interpreter": {
    "hash": "2b11d9d899d78e6facf90c631094e6628b385b0cc09cd97b51c0324dbb40f564"
   }
  }
 },
 "nbformat": 4,
 "nbformat_minor": 2
}
