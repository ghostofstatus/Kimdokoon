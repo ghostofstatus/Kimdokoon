{
 "cells": [
  {
   "cell_type": "code",
   "execution_count": 4,
   "metadata": {},
   "outputs": [],
   "source": [
    "import time\n",
    "import pandas as pd\n",
    "import matplotlib.pyplot as plt\n",
    "from matplotlib.lines import Line2D\n",
    "import FinanceDataReader as fdr\n",
    "from selenium import webdriver\n",
    "from selenium.common.exceptions import NoSuchElementException"
   ]
  },
  {
   "cell_type": "code",
   "execution_count": 16,
   "metadata": {},
   "outputs": [],
   "source": [
    "from pykrx import stock"
   ]
  },
  {
   "cell_type": "markdown",
   "metadata": {},
   "source": [
    "## 공매도 pykrx 함수\n",
    "* get_shorting_status_by_date('시작날짜', '끝날짜', '종목코드')\n",
    "    * 종목별 공매도 현황\n",
    "    * 컬럼 : 공매도 , 잔고 , 공매도 금액 , 잔고금액\n",
    "\n",
    "* get_shorting_volume_by_ticker('확인할 날짜')\n",
    "    * 종목별 공매도 거래 정보\n",
    "    * 컬럼 : 공매도 , 매수 , 비중\n",
    "\n",
    "*  get_shorting_volume_by_date('시작날짜', '끝날짜', '종목코드)\n",
    "    * "
   ]
  },
  {
   "cell_type": "code",
   "execution_count": 23,
   "metadata": {},
   "outputs": [
    {
     "name": "stdout",
     "output_type": "stream",
     "text": [
      "                거래량     잔고수량         거래대금          잔고금액\n",
      "날짜                                                     \n",
      "2018-12-10  2180611  4728327  87700923850  190078745400\n",
      "2018-12-11   701924  4249549  28291624600  171044347250\n",
      "2018-12-12    40002  4236519   1618884450  171367193550\n"
     ]
    }
   ],
   "source": [
    "df = stock.get_shorting_status_by_date(\"20181210\", \"20181212\", \"005930\")\n",
    "print(df)"
   ]
  },
  {
   "cell_type": "code",
   "execution_count": null,
   "metadata": {},
   "outputs": [],
   "source": []
  }
 ],
 "metadata": {
  "kernelspec": {
   "display_name": "Python 3.6.6 64-bit (system)",
   "language": "python",
   "name": "python3"
  },
  "language_info": {
   "codemirror_mode": {
    "name": "ipython",
    "version": 3
   },
   "file_extension": ".py",
   "mimetype": "text/x-python",
   "name": "python",
   "nbconvert_exporter": "python",
   "pygments_lexer": "ipython3",
   "version": "3.6.6"
  },
  "orig_nbformat": 4,
  "vscode": {
   "interpreter": {
    "hash": "2b11d9d899d78e6facf90c631094e6628b385b0cc09cd97b51c0324dbb40f564"
   }
  }
 },
 "nbformat": 4,
 "nbformat_minor": 2
}
