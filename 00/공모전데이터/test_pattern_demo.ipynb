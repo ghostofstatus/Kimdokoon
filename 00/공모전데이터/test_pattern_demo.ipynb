{
 "cells": [
  {
   "cell_type": "code",
   "execution_count": 2,
   "metadata": {},
   "outputs": [],
   "source": [
    "import warnings\n",
    "import FinanceDataReader as fdr\n",
    "import matplotlib.pyplot as plt\n",
    "from matplotlib.figure import Figure\n",
    "import pandas as pd\n",
    "import numpy as np\n",
    "\n",
    "warnings.filterwarnings('ignore')"
   ]
  },
  {
   "cell_type": "code",
   "execution_count": 14,
   "metadata": {},
   "outputs": [
    {
     "data": {
      "text/html": [
       "<div>\n",
       "<style scoped>\n",
       "    .dataframe tbody tr th:only-of-type {\n",
       "        vertical-align: middle;\n",
       "    }\n",
       "\n",
       "    .dataframe tbody tr th {\n",
       "        vertical-align: top;\n",
       "    }\n",
       "\n",
       "    .dataframe thead th {\n",
       "        text-align: right;\n",
       "    }\n",
       "</style>\n",
       "<table border=\"1\" class=\"dataframe\">\n",
       "  <thead>\n",
       "    <tr style=\"text-align: right;\">\n",
       "      <th></th>\n",
       "      <th>일자</th>\n",
       "      <th>수량_공매도잔고수량</th>\n",
       "      <th>수량_상장주식수</th>\n",
       "      <th>금액_공매도잔고금액</th>\n",
       "      <th>금액_시가총액</th>\n",
       "      <th>비중</th>\n",
       "    </tr>\n",
       "  </thead>\n",
       "  <tbody>\n",
       "    <tr>\n",
       "      <th>0</th>\n",
       "      <td>2019/12/30</td>\n",
       "      <td>1603282</td>\n",
       "      <td>39248121</td>\n",
       "      <td>145578005600</td>\n",
       "      <td>3563729386800</td>\n",
       "      <td>4.08</td>\n",
       "    </tr>\n",
       "    <tr>\n",
       "      <th>1</th>\n",
       "      <td>2019/12/27</td>\n",
       "      <td>1595358</td>\n",
       "      <td>39248121</td>\n",
       "      <td>139274753400</td>\n",
       "      <td>3426360963300</td>\n",
       "      <td>4.06</td>\n",
       "    </tr>\n",
       "    <tr>\n",
       "      <th>2</th>\n",
       "      <td>2019/12/26</td>\n",
       "      <td>1623055</td>\n",
       "      <td>39248121</td>\n",
       "      <td>136012009000</td>\n",
       "      <td>3288992539800</td>\n",
       "      <td>4.14</td>\n",
       "    </tr>\n",
       "    <tr>\n",
       "      <th>3</th>\n",
       "      <td>2019/12/24</td>\n",
       "      <td>1632579</td>\n",
       "      <td>39248121</td>\n",
       "      <td>137136636000</td>\n",
       "      <td>3296842164000</td>\n",
       "      <td>4.16</td>\n",
       "    </tr>\n",
       "    <tr>\n",
       "      <th>4</th>\n",
       "      <td>2019/12/23</td>\n",
       "      <td>1608096</td>\n",
       "      <td>39248121</td>\n",
       "      <td>138778684800</td>\n",
       "      <td>3387112842300</td>\n",
       "      <td>4.10</td>\n",
       "    </tr>\n",
       "    <tr>\n",
       "      <th>...</th>\n",
       "      <td>...</td>\n",
       "      <td>...</td>\n",
       "      <td>...</td>\n",
       "      <td>...</td>\n",
       "      <td>...</td>\n",
       "      <td>...</td>\n",
       "    </tr>\n",
       "    <tr>\n",
       "      <th>854</th>\n",
       "      <td>2016/07/06</td>\n",
       "      <td>4156265</td>\n",
       "      <td>39248121</td>\n",
       "      <td>275144743000</td>\n",
       "      <td>2598225610200</td>\n",
       "      <td>10.59</td>\n",
       "    </tr>\n",
       "    <tr>\n",
       "      <th>855</th>\n",
       "      <td>2016/07/05</td>\n",
       "      <td>4156706</td>\n",
       "      <td>39248121</td>\n",
       "      <td>282656008000</td>\n",
       "      <td>2668872228000</td>\n",
       "      <td>10.59</td>\n",
       "    </tr>\n",
       "    <tr>\n",
       "      <th>856</th>\n",
       "      <td>2016/07/04</td>\n",
       "      <td>4150193</td>\n",
       "      <td>39248121</td>\n",
       "      <td>277647911700</td>\n",
       "      <td>2625699294900</td>\n",
       "      <td>10.57</td>\n",
       "    </tr>\n",
       "    <tr>\n",
       "      <th>857</th>\n",
       "      <td>2016/07/01</td>\n",
       "      <td>4151284</td>\n",
       "      <td>39248121</td>\n",
       "      <td>278551156400</td>\n",
       "      <td>2633548919100</td>\n",
       "      <td>10.58</td>\n",
       "    </tr>\n",
       "    <tr>\n",
       "      <th>858</th>\n",
       "      <td>2016/06/30</td>\n",
       "      <td>4154621</td>\n",
       "      <td>39248121</td>\n",
       "      <td>282098765900</td>\n",
       "      <td>2664947415900</td>\n",
       "      <td>10.59</td>\n",
       "    </tr>\n",
       "  </tbody>\n",
       "</table>\n",
       "<p>859 rows × 6 columns</p>\n",
       "</div>"
      ],
      "text/plain": [
       "             일자  수량_공매도잔고수량  수량_상장주식수    금액_공매도잔고금액        금액_시가총액     비중\n",
       "0    2019/12/30     1603282  39248121  145578005600  3563729386800   4.08\n",
       "1    2019/12/27     1595358  39248121  139274753400  3426360963300   4.06\n",
       "2    2019/12/26     1623055  39248121  136012009000  3288992539800   4.14\n",
       "3    2019/12/24     1632579  39248121  137136636000  3296842164000   4.16\n",
       "4    2019/12/23     1608096  39248121  138778684800  3387112842300   4.10\n",
       "..          ...         ...       ...           ...            ...    ...\n",
       "854  2016/07/06     4156265  39248121  275144743000  2598225610200  10.59\n",
       "855  2016/07/05     4156706  39248121  282656008000  2668872228000  10.59\n",
       "856  2016/07/04     4150193  39248121  277647911700  2625699294900  10.57\n",
       "857  2016/07/01     4151284  39248121  278551156400  2633548919100  10.58\n",
       "858  2016/06/30     4154621  39248121  282098765900  2664947415900  10.59\n",
       "\n",
       "[859 rows x 6 columns]"
      ]
     },
     "execution_count": 14,
     "metadata": {},
     "output_type": "execute_result"
    }
   ],
   "source": [
    "# finance datareader로부터 데이터 불러오기\n",
    "data = pd.read_csv('16_19호텔신라공매도.csv', encoding= 'CP949')\n",
    "data"
   ]
  },
  {
   "cell_type": "code",
   "execution_count": 15,
   "id": "86682398",
   "metadata": {},
   "outputs": [
    {
     "data": {
      "text/html": [
       "<div>\n",
       "<style scoped>\n",
       "    .dataframe tbody tr th:only-of-type {\n",
       "        vertical-align: middle;\n",
       "    }\n",
       "\n",
       "    .dataframe tbody tr th {\n",
       "        vertical-align: top;\n",
       "    }\n",
       "\n",
       "    .dataframe thead th {\n",
       "        text-align: right;\n",
       "    }\n",
       "</style>\n",
       "<table border=\"1\" class=\"dataframe\">\n",
       "  <thead>\n",
       "    <tr style=\"text-align: right;\">\n",
       "      <th></th>\n",
       "      <th>수량_공매도잔고수량</th>\n",
       "      <th>수량_상장주식수</th>\n",
       "      <th>금액_공매도잔고금액</th>\n",
       "      <th>금액_시가총액</th>\n",
       "      <th>비중</th>\n",
       "    </tr>\n",
       "    <tr>\n",
       "      <th>일자</th>\n",
       "      <th></th>\n",
       "      <th></th>\n",
       "      <th></th>\n",
       "      <th></th>\n",
       "      <th></th>\n",
       "    </tr>\n",
       "  </thead>\n",
       "  <tbody>\n",
       "    <tr>\n",
       "      <th>2016-06-30</th>\n",
       "      <td>4154621</td>\n",
       "      <td>39248121</td>\n",
       "      <td>282098765900</td>\n",
       "      <td>2664947415900</td>\n",
       "      <td>10.59</td>\n",
       "    </tr>\n",
       "    <tr>\n",
       "      <th>2016-07-01</th>\n",
       "      <td>4151284</td>\n",
       "      <td>39248121</td>\n",
       "      <td>278551156400</td>\n",
       "      <td>2633548919100</td>\n",
       "      <td>10.58</td>\n",
       "    </tr>\n",
       "    <tr>\n",
       "      <th>2016-07-04</th>\n",
       "      <td>4150193</td>\n",
       "      <td>39248121</td>\n",
       "      <td>277647911700</td>\n",
       "      <td>2625699294900</td>\n",
       "      <td>10.57</td>\n",
       "    </tr>\n",
       "    <tr>\n",
       "      <th>2016-07-05</th>\n",
       "      <td>4156706</td>\n",
       "      <td>39248121</td>\n",
       "      <td>282656008000</td>\n",
       "      <td>2668872228000</td>\n",
       "      <td>10.59</td>\n",
       "    </tr>\n",
       "    <tr>\n",
       "      <th>2016-07-06</th>\n",
       "      <td>4156265</td>\n",
       "      <td>39248121</td>\n",
       "      <td>275144743000</td>\n",
       "      <td>2598225610200</td>\n",
       "      <td>10.59</td>\n",
       "    </tr>\n",
       "    <tr>\n",
       "      <th>...</th>\n",
       "      <td>...</td>\n",
       "      <td>...</td>\n",
       "      <td>...</td>\n",
       "      <td>...</td>\n",
       "      <td>...</td>\n",
       "    </tr>\n",
       "    <tr>\n",
       "      <th>2019-12-23</th>\n",
       "      <td>1608096</td>\n",
       "      <td>39248121</td>\n",
       "      <td>138778684800</td>\n",
       "      <td>3387112842300</td>\n",
       "      <td>4.10</td>\n",
       "    </tr>\n",
       "    <tr>\n",
       "      <th>2019-12-24</th>\n",
       "      <td>1632579</td>\n",
       "      <td>39248121</td>\n",
       "      <td>137136636000</td>\n",
       "      <td>3296842164000</td>\n",
       "      <td>4.16</td>\n",
       "    </tr>\n",
       "    <tr>\n",
       "      <th>2019-12-26</th>\n",
       "      <td>1623055</td>\n",
       "      <td>39248121</td>\n",
       "      <td>136012009000</td>\n",
       "      <td>3288992539800</td>\n",
       "      <td>4.14</td>\n",
       "    </tr>\n",
       "    <tr>\n",
       "      <th>2019-12-27</th>\n",
       "      <td>1595358</td>\n",
       "      <td>39248121</td>\n",
       "      <td>139274753400</td>\n",
       "      <td>3426360963300</td>\n",
       "      <td>4.06</td>\n",
       "    </tr>\n",
       "    <tr>\n",
       "      <th>2019-12-30</th>\n",
       "      <td>1603282</td>\n",
       "      <td>39248121</td>\n",
       "      <td>145578005600</td>\n",
       "      <td>3563729386800</td>\n",
       "      <td>4.08</td>\n",
       "    </tr>\n",
       "  </tbody>\n",
       "</table>\n",
       "<p>859 rows × 5 columns</p>\n",
       "</div>"
      ],
      "text/plain": [
       "            수량_공매도잔고수량  수량_상장주식수    금액_공매도잔고금액        금액_시가총액     비중\n",
       "일자                                                                  \n",
       "2016-06-30     4154621  39248121  282098765900  2664947415900  10.59\n",
       "2016-07-01     4151284  39248121  278551156400  2633548919100  10.58\n",
       "2016-07-04     4150193  39248121  277647911700  2625699294900  10.57\n",
       "2016-07-05     4156706  39248121  282656008000  2668872228000  10.59\n",
       "2016-07-06     4156265  39248121  275144743000  2598225610200  10.59\n",
       "...                ...       ...           ...            ...    ...\n",
       "2019-12-23     1608096  39248121  138778684800  3387112842300   4.10\n",
       "2019-12-24     1632579  39248121  137136636000  3296842164000   4.16\n",
       "2019-12-26     1623055  39248121  136012009000  3288992539800   4.14\n",
       "2019-12-27     1595358  39248121  139274753400  3426360963300   4.06\n",
       "2019-12-30     1603282  39248121  145578005600  3563729386800   4.08\n",
       "\n",
       "[859 rows x 5 columns]"
      ]
     },
     "execution_count": 15,
     "metadata": {},
     "output_type": "execute_result"
    }
   ],
   "source": [
    "data['일자'] = pd.to_datetime(data['일자'])\n",
    "data.sort_values(['일자'], ascending=True, inplace=True)\n",
    "data.reset_index(drop=True, inplace=True)\n",
    "data.set_index('일자', inplace=True)\n",
    "data"
   ]
  },
  {
   "cell_type": "code",
   "execution_count": 27,
   "metadata": {},
   "outputs": [],
   "source": [
    "# 종가만 추출\n",
    "close = data['비중']\n",
    "\n",
    "# 비교 기준 구간\n",
    "start_date = '2019-12-01'\n",
    "end_date = '2019-12-16'"
   ]
  },
  {
   "cell_type": "code",
   "execution_count": 28,
   "metadata": {},
   "outputs": [
    {
     "data": {
      "image/png": "[encoded data removed]",
      "text/plain": [
       "<Figure size 432x288 with 1 Axes>"
      ]
     },
     "metadata": {
      "needs_background": "light"
     },
     "output_type": "display_data"
    }
   ],
   "source": [
    "# 기준 구간 시계열 차트\n",
    "close[start_date:end_date].plot();"
   ]
  },
  {
   "cell_type": "code",
   "execution_count": 29,
   "metadata": {},
   "outputs": [
    {
     "data": {
      "text/plain": [
       "일자\n",
       "2019-12-02    4.82\n",
       "2019-12-03    4.73\n",
       "2019-12-04    4.77\n",
       "2019-12-05    4.79\n",
       "2019-12-06    4.76\n",
       "2019-12-09    4.72\n",
       "2019-12-10    4.70\n",
       "2019-12-11    4.63\n",
       "2019-12-12    4.48\n",
       "2019-12-13    4.25\n",
       "2019-12-16    4.18\n",
       "Name: 비중, dtype: float64"
      ]
     },
     "execution_count": 29,
     "metadata": {},
     "output_type": "execute_result"
    }
   ],
   "source": [
    "base = close[start_date:end_date]\n",
    "base"
   ]
  },
  {
   "cell_type": "code",
   "execution_count": 30,
   "metadata": {},
   "outputs": [
    {
     "data": {
      "text/plain": [
       "일자\n",
       "2019-12-02    1.000000\n",
       "2019-12-03    0.859375\n",
       "2019-12-04    0.921875\n",
       "2019-12-05    0.953125\n",
       "2019-12-06    0.906250\n",
       "2019-12-09    0.843750\n",
       "2019-12-10    0.812500\n",
       "2019-12-11    0.703125\n",
       "2019-12-12    0.468750\n",
       "2019-12-13    0.109375\n",
       "2019-12-16    0.000000\n",
       "Name: 비중, dtype: float64"
      ]
     },
     "execution_count": 30,
     "metadata": {},
     "output_type": "execute_result"
    }
   ],
   "source": [
    "base_norm = (base - base.min()) / (base.max() - base.min())\n",
    "base_norm"
   ]
  },
  {
   "cell_type": "code",
   "execution_count": 31,
   "metadata": {},
   "outputs": [],
   "source": [
    "# 윈도우 사이즈\n",
    "window_size = len(base)\n",
    "\n",
    "# 예측 기간\n",
    "next_date = 5\n",
    "\n",
    "# 검색 횟수\n",
    "moving_cnt = len(base) - window_size - next_date - 1"
   ]
  },
  {
   "cell_type": "code",
   "execution_count": 32,
   "metadata": {},
   "outputs": [],
   "source": [
    "def cosine_similarity(x,y):\n",
    "    return np.dot(x,y) / (np.sqrt(np.dot(x,x)) * np.sqrt(np.dot(y,y)))"
   ]
  },
  {
   "cell_type": "code",
   "execution_count": 33,
   "metadata": {},
   "outputs": [],
   "source": [
    "# 유사도 저장 딕셔너리\n",
    "sim_list = []\n",
    "\n",
    "for i in range(moving_cnt):\n",
    "    target = close[i:i+window_size]\n",
    "    \n",
    "    # Normalize\n",
    "    target_norm = (target - target.min()) / (target.max() - target.min())\n",
    "    \n",
    "    # 코사인 유사도 저장\n",
    "    cos_similarity = cosine_similarity(base_norm, target_norm)\n",
    "    \n",
    "    # 코사인 유사도 <- i(인덱스), 시계열데이터 함께 저장\n",
    "    sim_list.append(cos_similarity)"
   ]
  },
  {
   "cell_type": "code",
   "execution_count": 37,
   "metadata": {},
   "outputs": [
    {
     "data": {
      "text/plain": [
       "Series([], dtype: float64)"
      ]
     },
     "execution_count": 37,
     "metadata": {},
     "output_type": "execute_result"
    }
   ],
   "source": [
    "pd.Series(sim_list).sort_values(ascending=False).head(20)"
   ]
  },
  {
   "cell_type": "code",
   "execution_count": 10,
   "metadata": {},
   "outputs": [
    {
     "data": {
      "image/png": "[encoded data removed]",
      "text/plain": [
       "<Figure size 432x288 with 1 Axes>"
      ]
     },
     "metadata": {
      "needs_background": "light"
     },
     "output_type": "display_data"
    }
   ],
   "source": [
    "idx = 3193\n",
    "\n",
    "top_ = close[idx:idx+window_size+next_date]\n",
    "top_norm = (top_ - top_.min()) / (top_.max() - top_.min())\n",
    "\n",
    "plt.plot(base_norm.values, label='base')\n",
    "plt.plot(top_norm.values, label='target')\n",
    "plt.axvline(x=len(base_norm)-1, c='r', linestyle='--')\n",
    "plt.axvspan(len(base_norm.values)-1, len(top_norm.values)-1, facecolor='yellow', alpha=0.3)\n",
    "plt.legend()\n",
    "plt.show()"
   ]
  },
  {
   "cell_type": "code",
   "execution_count": 51,
   "metadata": {},
   "outputs": [],
   "source": [
    "class PatternFinder():\n",
    "    def __init__(self, period=5):\n",
    "        self.period = period\n",
    "    \n",
    "    def set_stock(self, code: str):\n",
    "        self.code = code\n",
    "        self.data = fdr.DataReader(code)\n",
    "        self.close = self.data['Close']\n",
    "        self.change = self.data['Change']\n",
    "        return self.data\n",
    "        \n",
    "    def search(self, start_date, end_date, threshold=0.98):\n",
    "        base = self.close[start_date:end_date]\n",
    "        self.base_norm = (base - base.min()) / (base.max() - base.min())\n",
    "        self.base = base\n",
    "        \n",
    "        display(base)\n",
    "        \n",
    "        window_size = len(base)\n",
    "        moving_cnt = len(self.data) - window_size - self.period - 1\n",
    "        cos_sims = self.__cosine_sims(moving_cnt, window_size)\n",
    "        \n",
    "        self.window_size = window_size\n",
    "        cos_sims = cos_sims[cos_sims > threshold]\n",
    "        return cos_sims\n",
    "    \n",
    "    \n",
    "    def __cosine_sims(self, moving_cnt, window_size):\n",
    "        def cosine_similarity(x, y):\n",
    "            return np.dot(x, y) / (np.sqrt(np.dot(x, x)) * np.sqrt(np.dot(y, y)))\n",
    "        \n",
    "        # 유사도 저장 딕셔너리\n",
    "        sim_list = []\n",
    "\n",
    "        for i in range(moving_cnt):\n",
    "            target = self.close[i:i+window_size]\n",
    "\n",
    "            # Normalize\n",
    "            target_norm = (target - target.min()) / (target.max() - target.min())\n",
    "\n",
    "            # 코사인 유사도 저장\n",
    "            cos_similarity = cosine_similarity(self.base_norm, target_norm)\n",
    "\n",
    "            # 코사인 유사도 <- i(인덱스), 시계열데이터 함께 저장\n",
    "            sim_list.append(cos_similarity)\n",
    "        return pd.Series(sim_list).sort_values(ascending=False)\n",
    "\n",
    "    \n",
    "    def plot_pattern(self, idx, period=5):\n",
    "        if period != self.period:\n",
    "            self.period = period\n",
    "            \n",
    "        top = self.close[idx:idx+self.window_size+period]\n",
    "        top_norm = (top - top.min()) / (top.max() - top.min())\n",
    "\n",
    "        plt.plot(self.base_norm.values, label='base')\n",
    "        plt.plot(top_norm.values, label='target')\n",
    "        plt.axvline(x=len(self.base_norm)-1, c='r', linestyle='--')\n",
    "        plt.axvspan(len(self.base_norm.values)-1, len(top_norm.values)-1, facecolor='yellow', alpha=0.3)\n",
    "        plt.legend()\n",
    "        plt.show()\n",
    "        \n",
    "        \n",
    "        preds = self.change[idx+self.window_size: idx+self.window_size+period]\n",
    "        display(preds)\n",
    "        print(f'pred: {preds.mean()*100} % ')\n",
    "\n",
    "    \n",
    "    def stat_prediction(self, result, period=5):\n",
    "        idx_list = list(result.keys())\n",
    "        mean_list = []\n",
    "        for idx in idx_list:\n",
    "            pred = self.change[idx+self.window_size: idx+self.window_size+period]\n",
    "            mean_list.append(pred.mean())\n",
    "        return np.array(mean_list)"
   ]
  },
  {
   "cell_type": "code",
   "execution_count": 52,
   "metadata": {},
   "outputs": [],
   "source": [
    "p = PatternFinder()"
   ]
  },
  {
   "cell_type": "code",
   "execution_count": 53,
   "metadata": {},
   "outputs": [
    {
     "data": {
      "text/html": [
       "<div>\n",
       "<style scoped>\n",
       "    .dataframe tbody tr th:only-of-type {\n",
       "        vertical-align: middle;\n",
       "    }\n",
       "\n",
       "    .dataframe tbody tr th {\n",
       "        vertical-align: top;\n",
       "    }\n",
       "\n",
       "    .dataframe thead th {\n",
       "        text-align: right;\n",
       "    }\n",
       "</style>\n",
       "<table border=\"1\" class=\"dataframe\">\n",
       "  <thead>\n",
       "    <tr style=\"text-align: right;\">\n",
       "      <th></th>\n",
       "      <th>Open</th>\n",
       "      <th>High</th>\n",
       "      <th>Low</th>\n",
       "      <th>Close</th>\n",
       "      <th>Volume</th>\n",
       "      <th>Change</th>\n",
       "    </tr>\n",
       "    <tr>\n",
       "      <th>Date</th>\n",
       "      <th></th>\n",
       "      <th></th>\n",
       "      <th></th>\n",
       "      <th></th>\n",
       "      <th></th>\n",
       "      <th></th>\n",
       "    </tr>\n",
       "  </thead>\n",
       "  <tbody>\n",
       "    <tr>\n",
       "      <th>1997-09-09</th>\n",
       "      <td>141661</td>\n",
       "      <td>141661</td>\n",
       "      <td>141661</td>\n",
       "      <td>141662</td>\n",
       "      <td>0</td>\n",
       "      <td>NaN</td>\n",
       "    </tr>\n",
       "    <tr>\n",
       "      <th>1997-09-10</th>\n",
       "      <td>132231</td>\n",
       "      <td>132231</td>\n",
       "      <td>132231</td>\n",
       "      <td>132235</td>\n",
       "      <td>0</td>\n",
       "      <td>-0.066546</td>\n",
       "    </tr>\n",
       "    <tr>\n",
       "      <th>1997-09-11</th>\n",
       "      <td>142618</td>\n",
       "      <td>142618</td>\n",
       "      <td>125623</td>\n",
       "      <td>125610</td>\n",
       "      <td>1010</td>\n",
       "      <td>-0.050100</td>\n",
       "    </tr>\n",
       "    <tr>\n",
       "      <th>1997-09-12</th>\n",
       "      <td>135048</td>\n",
       "      <td>135048</td>\n",
       "      <td>120882</td>\n",
       "      <td>120882</td>\n",
       "      <td>1010</td>\n",
       "      <td>-0.037640</td>\n",
       "    </tr>\n",
       "    <tr>\n",
       "      <th>1997-09-13</th>\n",
       "      <td>130328</td>\n",
       "      <td>130328</td>\n",
       "      <td>123726</td>\n",
       "      <td>123713</td>\n",
       "      <td>1010</td>\n",
       "      <td>0.023420</td>\n",
       "    </tr>\n",
       "    <tr>\n",
       "      <th>...</th>\n",
       "      <td>...</td>\n",
       "      <td>...</td>\n",
       "      <td>...</td>\n",
       "      <td>...</td>\n",
       "      <td>...</td>\n",
       "      <td>...</td>\n",
       "    </tr>\n",
       "    <tr>\n",
       "      <th>2021-09-27</th>\n",
       "      <td>2925</td>\n",
       "      <td>3080</td>\n",
       "      <td>2860</td>\n",
       "      <td>2955</td>\n",
       "      <td>2126291</td>\n",
       "      <td>0.026042</td>\n",
       "    </tr>\n",
       "    <tr>\n",
       "      <th>2021-09-28</th>\n",
       "      <td>2915</td>\n",
       "      <td>3150</td>\n",
       "      <td>2910</td>\n",
       "      <td>2995</td>\n",
       "      <td>2982253</td>\n",
       "      <td>0.013536</td>\n",
       "    </tr>\n",
       "    <tr>\n",
       "      <th>2021-09-29</th>\n",
       "      <td>2900</td>\n",
       "      <td>3035</td>\n",
       "      <td>2845</td>\n",
       "      <td>2975</td>\n",
       "      <td>787362</td>\n",
       "      <td>-0.006678</td>\n",
       "    </tr>\n",
       "    <tr>\n",
       "      <th>2021-09-30</th>\n",
       "      <td>3035</td>\n",
       "      <td>3130</td>\n",
       "      <td>2965</td>\n",
       "      <td>3020</td>\n",
       "      <td>1159050</td>\n",
       "      <td>0.015126</td>\n",
       "    </tr>\n",
       "    <tr>\n",
       "      <th>2021-10-01</th>\n",
       "      <td>3130</td>\n",
       "      <td>3925</td>\n",
       "      <td>3080</td>\n",
       "      <td>3925</td>\n",
       "      <td>41315468</td>\n",
       "      <td>0.299669</td>\n",
       "    </tr>\n",
       "  </tbody>\n",
       "</table>\n",
       "<p>6000 rows × 6 columns</p>\n",
       "</div>"
      ],
      "text/plain": [
       "              Open    High     Low   Close    Volume    Change\n",
       "Date                                                          \n",
       "1997-09-09  141661  141661  141661  141662         0       NaN\n",
       "1997-09-10  132231  132231  132231  132235         0 -0.066546\n",
       "1997-09-11  142618  142618  125623  125610      1010 -0.050100\n",
       "1997-09-12  135048  135048  120882  120882      1010 -0.037640\n",
       "1997-09-13  130328  130328  123726  123713      1010  0.023420\n",
       "...            ...     ...     ...     ...       ...       ...\n",
       "2021-09-27    2925    3080    2860    2955   2126291  0.026042\n",
       "2021-09-28    2915    3150    2910    2995   2982253  0.013536\n",
       "2021-09-29    2900    3035    2845    2975    787362 -0.006678\n",
       "2021-09-30    3035    3130    2965    3020   1159050  0.015126\n",
       "2021-10-01    3130    3925    3080    3925  41315468  0.299669\n",
       "\n",
       "[6000 rows x 6 columns]"
      ]
     },
     "execution_count": 53,
     "metadata": {},
     "output_type": "execute_result"
    }
   ],
   "source": [
    "p.set_stock('018700')"
   ]
  },
  {
   "cell_type": "code",
   "execution_count": 54,
   "metadata": {},
   "outputs": [
    {
     "data": {
      "text/plain": [
       "Date\n",
       "2021-09-10    2625\n",
       "2021-09-13    2620\n",
       "2021-09-14    2630\n",
       "2021-09-15    2625\n",
       "2021-09-16    2635\n",
       "2021-09-17    2635\n",
       "2021-09-23    2920\n",
       "2021-09-24    2880\n",
       "2021-09-27    2955\n",
       "2021-09-28    2995\n",
       "2021-09-29    2975\n",
       "2021-09-30    3020\n",
       "Name: Close, dtype: int64"
      ]
     },
     "metadata": {},
     "output_type": "display_data"
    }
   ],
   "source": [
    "result = p.search('2021-09-10', '2021-09-30')"
   ]
  },
  {
   "cell_type": "code",
   "execution_count": 59,
   "metadata": {},
   "outputs": [
    {
     "data": {
      "text/plain": [
       "array([-0.01124373,  0.00517852,  0.        ,  0.        , -0.01440996,\n",
       "        0.00531945,  0.03402142,  0.00472001, -0.02052574,  0.00670564,\n",
       "        0.09559623])"
      ]
     },
     "execution_count": 59,
     "metadata": {},
     "output_type": "execute_result"
    }
   ],
   "source": [
    "pred = p.stat_prediction(result)\n",
    "pred"
   ]
  },
  {
   "cell_type": "code",
   "execution_count": 60,
   "metadata": {},
   "outputs": [
    {
     "data": {
      "text/plain": [
       "Date\n",
       "2006-03-07    0.040917\n",
       "2006-03-08   -0.050551\n",
       "2006-03-09    0.017761\n",
       "2006-03-10   -0.058170\n",
       "2006-03-13   -0.006176\n",
       "Name: Change, dtype: float64"
      ]
     },
     "metadata": {},
     "output_type": "display_data"
    },
    {
     "name": "stdout",
     "output_type": "stream",
     "text": [
      "pred: -1.1243734433432984 % \n"
     ]
    }
   ],
   "source": [
    "p.plot_pattern(2138)"
   ]
  },
  {
   "cell_type": "markdown",
   "metadata": {},
   "source": [
    "## 웹으로 만들기"
   ]
  },
  {
   "cell_type": "code",
   "execution_count": 16,
   "metadata": {},
   "outputs": [],
   "source": [
    "import ipywidgets as widgets\n",
    "from IPython.display import display, clear_output\n",
    "\n",
    "# !jupyter nbextension enable --py widgetsnbextension --sys-prefix\n",
    "# !jupyter serverextension enable voila --sys-prefix"
   ]
  },
  {
   "cell_type": "code",
   "execution_count": 17,
   "metadata": {},
   "outputs": [],
   "source": [
    "start_date = widgets.DatePicker(description='시작일')\n",
    "end_date = widgets.DatePicker(description='종료일')"
   ]
  },
  {
   "cell_type": "code",
   "execution_count": 18,
   "metadata": {},
   "outputs": [],
   "source": [
    "# button send\n",
    "search_button = widgets.Button(\n",
    "                description='예측하기',\n",
    "                tooltip='Send',\n",
    "                style={'description_width': 'initial'}\n",
    "            )\n",
    "\n",
    "output = widgets.Output()\n",
    "\n",
    "def on_button_clicked(event):\n",
    "    with output:\n",
    "        clear_output()\n",
    "        p = PatternFinder()\n",
    "        p.set_stock(code.value)\n",
    "        result = p.search(start_date.value.strftime('%Y-%m-%d'), end_date.value.strftime('%Y-%m-%d'))\n",
    "        print(result)\n",
    "        for idx in result.keys():\n",
    "            p.plot_pattern(idx)\n",
    "        \n",
    "search_button.on_click(on_button_clicked)\n",
    "\n",
    "vbox_result = widgets.VBox([search_button, output])"
   ]
  },
  {
   "cell_type": "code",
   "execution_count": 19,
   "metadata": {},
   "outputs": [],
   "source": [
    "label_headline = widgets.Label(\n",
    "                    value='Photo by CDC on Unsplash',\n",
    "                )\n",
    "\n",
    "vbox_headline = widgets.VBox([label_headline])"
   ]
  },
  {
   "cell_type": "code",
   "execution_count": 20,
   "metadata": {},
   "outputs": [],
   "source": [
    "text_0 = widgets.HTML(value=\"<h2>종목 코드</h2>\")\n",
    "text_1 = widgets.HTML(value=\"<h2>날짜 선택</h2>\")\n",
    "text_2 = widgets.HTML(value=\"<h2>패턴 예측</h2>\")\n",
    "\n",
    "code = widgets.Text(placeholder='종목코드를 입력해 주세요')\n",
    "code.value = '035720'\n",
    "\n",
    "vbox_0 = widgets.VBox([text_0, code])\n",
    "vbox_1 = widgets.VBox([text_1,start_date, end_date ])\n",
    "vbox_2 = widgets.VBox([text_2, vbox_result])"
   ]
  },
  {
   "cell_type": "code",
   "execution_count": 21,
   "metadata": {},
   "outputs": [
    {
     "data": {
      "application/vnd.jupyter.widget-view+json": {
       "model_id": "7ab15e22cbfb46f48f56e5c8877a7c73",
       "version_major": 2,
       "version_minor": 0
      },
      "text/plain": [
       "VBox(children=(VBox(children=(HTML(value='<h2>종목 코드</h2>'), Text(value='035720', placeholder='종목코드를 입력해 주세요'))…"
      ]
     },
     "metadata": {},
     "output_type": "display_data"
    }
   ],
   "source": [
    "page = widgets.VBox([vbox_0, vbox_1 , vbox_2])\n",
    "display(page)"
   ]
  },
  {
   "cell_type": "code",
   "execution_count": null,
   "metadata": {},
   "outputs": [],
   "source": []
  },
  {
   "cell_type": "code",
   "execution_count": null,
   "metadata": {},
   "outputs": [],
   "source": []
  }
 ],
 "metadata": {
  "kernelspec": {
   "display_name": "Python 3.10.2 64-bit",
   "language": "python",
   "name": "python3"
  },
  "language_info": {
   "codemirror_mode": {
    "name": "ipython",
    "version": 3
   },
   "file_extension": ".py",
   "mimetype": "text/x-python",
   "name": "python",
   "nbconvert_exporter": "python",
   "pygments_lexer": "ipython3",
   "version": "3.10.2"
  },
  "vscode": {
   "interpreter": {
    "hash": "3616202d843295ba0adc4661fbe95f911af65f4e4c349ed4be46f0741a4f83b1"
   }
  }
 },
 "nbformat": 4,
 "nbformat_minor": 5
}
