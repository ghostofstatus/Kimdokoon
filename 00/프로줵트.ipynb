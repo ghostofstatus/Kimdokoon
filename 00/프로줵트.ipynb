{
 "cells": [
  {
   "cell_type": "code",
   "execution_count": 1,
   "metadata": {},
   "outputs": [],
   "source": [
    "import pandas as pd\n",
    "pd.options.display.float_format = '{:.5f}'.format"
   ]
  },
  {
   "cell_type": "code",
   "execution_count": 2,
   "metadata": {},
   "outputs": [
    {
     "ename": "FileNotFoundError",
     "evalue": "[Errno 2] No such file or directory: './csv/data/17_01.csv'",
     "output_type": "error",
     "traceback": [
      "\u001b[1;31m---------------------------------------------------------------------------\u001b[0m",
      "\u001b[1;31mFileNotFoundError\u001b[0m                         Traceback (most recent call last)",
      "\u001b[1;32m<ipython-input-2-32e57e185967>\u001b[0m in \u001b[0;36m<module>\u001b[1;34m\u001b[0m\n\u001b[1;32m----> 1\u001b[1;33m \u001b[0mdf17_1\u001b[0m \u001b[1;33m=\u001b[0m \u001b[0mpd\u001b[0m\u001b[1;33m.\u001b[0m\u001b[0mread_csv\u001b[0m\u001b[1;33m(\u001b[0m\u001b[1;34m'./csv/data/17_01.csv'\u001b[0m\u001b[1;33m,\u001b[0m \u001b[0mencoding\u001b[0m\u001b[1;33m=\u001b[0m\u001b[1;34m'CP949'\u001b[0m\u001b[1;33m)\u001b[0m\u001b[1;33m\u001b[0m\u001b[0m\n\u001b[0m\u001b[0;32m      2\u001b[0m \u001b[0mdf17_2\u001b[0m \u001b[1;33m=\u001b[0m \u001b[0mpd\u001b[0m\u001b[1;33m.\u001b[0m\u001b[0mread_csv\u001b[0m\u001b[1;33m(\u001b[0m\u001b[1;34m'./csv/data/17_02.csv'\u001b[0m\u001b[1;33m,\u001b[0m \u001b[0mencoding\u001b[0m\u001b[1;33m=\u001b[0m\u001b[1;34m'CP949'\u001b[0m\u001b[1;33m)\u001b[0m\u001b[1;33m\u001b[0m\u001b[0m\n\u001b[0;32m      3\u001b[0m \u001b[0mdf17_3\u001b[0m \u001b[1;33m=\u001b[0m \u001b[0mpd\u001b[0m\u001b[1;33m.\u001b[0m\u001b[0mread_csv\u001b[0m\u001b[1;33m(\u001b[0m\u001b[1;34m'./csv/data/17_03.csv'\u001b[0m\u001b[1;33m,\u001b[0m \u001b[0mencoding\u001b[0m\u001b[1;33m=\u001b[0m\u001b[1;34m'CP949'\u001b[0m\u001b[1;33m)\u001b[0m\u001b[1;33m\u001b[0m\u001b[0m\n\u001b[0;32m      4\u001b[0m \u001b[0mdf17_4\u001b[0m \u001b[1;33m=\u001b[0m \u001b[0mpd\u001b[0m\u001b[1;33m.\u001b[0m\u001b[0mread_csv\u001b[0m\u001b[1;33m(\u001b[0m\u001b[1;34m'./csv/data/17_04.csv'\u001b[0m\u001b[1;33m,\u001b[0m \u001b[0mencoding\u001b[0m\u001b[1;33m=\u001b[0m\u001b[1;34m'CP949'\u001b[0m\u001b[1;33m)\u001b[0m\u001b[1;33m\u001b[0m\u001b[0m\n\u001b[0;32m      5\u001b[0m \u001b[0mdf17_5\u001b[0m \u001b[1;33m=\u001b[0m \u001b[0mpd\u001b[0m\u001b[1;33m.\u001b[0m\u001b[0mread_csv\u001b[0m\u001b[1;33m(\u001b[0m\u001b[1;34m'./csv/data/17_05.csv'\u001b[0m\u001b[1;33m,\u001b[0m \u001b[0mencoding\u001b[0m\u001b[1;33m=\u001b[0m\u001b[1;34m'CP949'\u001b[0m\u001b[1;33m)\u001b[0m\u001b[1;33m\u001b[0m\u001b[0m\n",
      "\u001b[1;32mc:\\Users\\김성휘\\AppData\\Local\\Programs\\Python\\Python36\\lib\\site-packages\\pandas\\io\\parsers.py\u001b[0m in \u001b[0;36mread_csv\u001b[1;34m(filepath_or_buffer, sep, delimiter, header, names, index_col, usecols, squeeze, prefix, mangle_dupe_cols, dtype, engine, converters, true_values, false_values, skipinitialspace, skiprows, skipfooter, nrows, na_values, keep_default_na, na_filter, verbose, skip_blank_lines, parse_dates, infer_datetime_format, keep_date_col, date_parser, dayfirst, cache_dates, iterator, chunksize, compression, thousands, decimal, lineterminator, quotechar, quoting, doublequote, escapechar, comment, encoding, dialect, error_bad_lines, warn_bad_lines, delim_whitespace, low_memory, memory_map, float_precision)\u001b[0m\n\u001b[0;32m    686\u001b[0m     )\n\u001b[0;32m    687\u001b[0m \u001b[1;33m\u001b[0m\u001b[0m\n\u001b[1;32m--> 688\u001b[1;33m     \u001b[1;32mreturn\u001b[0m \u001b[0m_read\u001b[0m\u001b[1;33m(\u001b[0m\u001b[0mfilepath_or_buffer\u001b[0m\u001b[1;33m,\u001b[0m \u001b[0mkwds\u001b[0m\u001b[1;33m)\u001b[0m\u001b[1;33m\u001b[0m\u001b[0m\n\u001b[0m\u001b[0;32m    689\u001b[0m \u001b[1;33m\u001b[0m\u001b[0m\n\u001b[0;32m    690\u001b[0m \u001b[1;33m\u001b[0m\u001b[0m\n",
      "\u001b[1;32mc:\\Users\\김성휘\\AppData\\Local\\Programs\\Python\\Python36\\lib\\site-packages\\pandas\\io\\parsers.py\u001b[0m in \u001b[0;36m_read\u001b[1;34m(filepath_or_buffer, kwds)\u001b[0m\n\u001b[0;32m    452\u001b[0m \u001b[1;33m\u001b[0m\u001b[0m\n\u001b[0;32m    453\u001b[0m     \u001b[1;31m# Create the parser.\u001b[0m\u001b[1;33m\u001b[0m\u001b[1;33m\u001b[0m\u001b[0m\n\u001b[1;32m--> 454\u001b[1;33m     \u001b[0mparser\u001b[0m \u001b[1;33m=\u001b[0m \u001b[0mTextFileReader\u001b[0m\u001b[1;33m(\u001b[0m\u001b[0mfp_or_buf\u001b[0m\u001b[1;33m,\u001b[0m \u001b[1;33m**\u001b[0m\u001b[0mkwds\u001b[0m\u001b[1;33m)\u001b[0m\u001b[1;33m\u001b[0m\u001b[0m\n\u001b[0m\u001b[0;32m    455\u001b[0m \u001b[1;33m\u001b[0m\u001b[0m\n\u001b[0;32m    456\u001b[0m     \u001b[1;32mif\u001b[0m \u001b[0mchunksize\u001b[0m \u001b[1;32mor\u001b[0m \u001b[0miterator\u001b[0m\u001b[1;33m:\u001b[0m\u001b[1;33m\u001b[0m\u001b[0m\n",
      "\u001b[1;32mc:\\Users\\김성휘\\AppData\\Local\\Programs\\Python\\Python36\\lib\\site-packages\\pandas\\io\\parsers.py\u001b[0m in \u001b[0;36m__init__\u001b[1;34m(self, f, engine, **kwds)\u001b[0m\n\u001b[0;32m    946\u001b[0m             \u001b[0mself\u001b[0m\u001b[1;33m.\u001b[0m\u001b[0moptions\u001b[0m\u001b[1;33m[\u001b[0m\u001b[1;34m\"has_index_names\"\u001b[0m\u001b[1;33m]\u001b[0m \u001b[1;33m=\u001b[0m \u001b[0mkwds\u001b[0m\u001b[1;33m[\u001b[0m\u001b[1;34m\"has_index_names\"\u001b[0m\u001b[1;33m]\u001b[0m\u001b[1;33m\u001b[0m\u001b[0m\n\u001b[0;32m    947\u001b[0m \u001b[1;33m\u001b[0m\u001b[0m\n\u001b[1;32m--> 948\u001b[1;33m         \u001b[0mself\u001b[0m\u001b[1;33m.\u001b[0m\u001b[0m_make_engine\u001b[0m\u001b[1;33m(\u001b[0m\u001b[0mself\u001b[0m\u001b[1;33m.\u001b[0m\u001b[0mengine\u001b[0m\u001b[1;33m)\u001b[0m\u001b[1;33m\u001b[0m\u001b[0m\n\u001b[0m\u001b[0;32m    949\u001b[0m \u001b[1;33m\u001b[0m\u001b[0m\n\u001b[0;32m    950\u001b[0m     \u001b[1;32mdef\u001b[0m \u001b[0mclose\u001b[0m\u001b[1;33m(\u001b[0m\u001b[0mself\u001b[0m\u001b[1;33m)\u001b[0m\u001b[1;33m:\u001b[0m\u001b[1;33m\u001b[0m\u001b[0m\n",
      "\u001b[1;32mc:\\Users\\김성휘\\AppData\\Local\\Programs\\Python\\Python36\\lib\\site-packages\\pandas\\io\\parsers.py\u001b[0m in \u001b[0;36m_make_engine\u001b[1;34m(self, engine)\u001b[0m\n\u001b[0;32m   1178\u001b[0m     \u001b[1;32mdef\u001b[0m \u001b[0m_make_engine\u001b[0m\u001b[1;33m(\u001b[0m\u001b[0mself\u001b[0m\u001b[1;33m,\u001b[0m \u001b[0mengine\u001b[0m\u001b[1;33m=\u001b[0m\u001b[1;34m\"c\"\u001b[0m\u001b[1;33m)\u001b[0m\u001b[1;33m:\u001b[0m\u001b[1;33m\u001b[0m\u001b[0m\n\u001b[0;32m   1179\u001b[0m         \u001b[1;32mif\u001b[0m \u001b[0mengine\u001b[0m \u001b[1;33m==\u001b[0m \u001b[1;34m\"c\"\u001b[0m\u001b[1;33m:\u001b[0m\u001b[1;33m\u001b[0m\u001b[0m\n\u001b[1;32m-> 1180\u001b[1;33m             \u001b[0mself\u001b[0m\u001b[1;33m.\u001b[0m\u001b[0m_engine\u001b[0m \u001b[1;33m=\u001b[0m \u001b[0mCParserWrapper\u001b[0m\u001b[1;33m(\u001b[0m\u001b[0mself\u001b[0m\u001b[1;33m.\u001b[0m\u001b[0mf\u001b[0m\u001b[1;33m,\u001b[0m \u001b[1;33m**\u001b[0m\u001b[0mself\u001b[0m\u001b[1;33m.\u001b[0m\u001b[0moptions\u001b[0m\u001b[1;33m)\u001b[0m\u001b[1;33m\u001b[0m\u001b[0m\n\u001b[0m\u001b[0;32m   1181\u001b[0m         \u001b[1;32melse\u001b[0m\u001b[1;33m:\u001b[0m\u001b[1;33m\u001b[0m\u001b[0m\n\u001b[0;32m   1182\u001b[0m             \u001b[1;32mif\u001b[0m \u001b[0mengine\u001b[0m \u001b[1;33m==\u001b[0m \u001b[1;34m\"python\"\u001b[0m\u001b[1;33m:\u001b[0m\u001b[1;33m\u001b[0m\u001b[0m\n",
      "\u001b[1;32mc:\\Users\\김성휘\\AppData\\Local\\Programs\\Python\\Python36\\lib\\site-packages\\pandas\\io\\parsers.py\u001b[0m in \u001b[0;36m__init__\u001b[1;34m(self, src, **kwds)\u001b[0m\n\u001b[0;32m   1991\u001b[0m         \u001b[1;32mif\u001b[0m \u001b[0mkwds\u001b[0m\u001b[1;33m.\u001b[0m\u001b[0mget\u001b[0m\u001b[1;33m(\u001b[0m\u001b[1;34m\"compression\"\u001b[0m\u001b[1;33m)\u001b[0m \u001b[1;32mis\u001b[0m \u001b[1;32mNone\u001b[0m \u001b[1;32mand\u001b[0m \u001b[0mencoding\u001b[0m\u001b[1;33m:\u001b[0m\u001b[1;33m\u001b[0m\u001b[0m\n\u001b[0;32m   1992\u001b[0m             \u001b[1;32mif\u001b[0m \u001b[0misinstance\u001b[0m\u001b[1;33m(\u001b[0m\u001b[0msrc\u001b[0m\u001b[1;33m,\u001b[0m \u001b[0mstr\u001b[0m\u001b[1;33m)\u001b[0m\u001b[1;33m:\u001b[0m\u001b[1;33m\u001b[0m\u001b[0m\n\u001b[1;32m-> 1993\u001b[1;33m                 \u001b[0msrc\u001b[0m \u001b[1;33m=\u001b[0m \u001b[0mopen\u001b[0m\u001b[1;33m(\u001b[0m\u001b[0msrc\u001b[0m\u001b[1;33m,\u001b[0m \u001b[1;34m\"rb\"\u001b[0m\u001b[1;33m)\u001b[0m\u001b[1;33m\u001b[0m\u001b[0m\n\u001b[0m\u001b[0;32m   1994\u001b[0m                 \u001b[0mself\u001b[0m\u001b[1;33m.\u001b[0m\u001b[0mhandles\u001b[0m\u001b[1;33m.\u001b[0m\u001b[0mappend\u001b[0m\u001b[1;33m(\u001b[0m\u001b[0msrc\u001b[0m\u001b[1;33m)\u001b[0m\u001b[1;33m\u001b[0m\u001b[0m\n\u001b[0;32m   1995\u001b[0m \u001b[1;33m\u001b[0m\u001b[0m\n",
      "\u001b[1;31mFileNotFoundError\u001b[0m: [Errno 2] No such file or directory: './csv/data/17_01.csv'"
     ]
    }
   ],
   "source": [
    "df17_1 = pd.read_csv('./csv/data/17_01.csv', encoding='CP949')\n",
    "df17_2 = pd.read_csv('./csv/data/17_02.csv', encoding='CP949')\n",
    "df17_3 = pd.read_csv('./csv/data/17_03.csv', encoding='CP949')\n",
    "df17_4 = pd.read_csv('./csv/data/17_04.csv', encoding='CP949')\n",
    "df17_5 = pd.read_csv('./csv/data/17_05.csv', encoding='CP949')\n",
    "df17_6 = pd.read_csv('./csv/data/17_06.csv', encoding='CP949')\n",
    "df17_7 = pd.read_csv('./csv/data/17_07.csv', encoding='CP949')\n",
    "df17_8 = pd.read_csv('./csv/data/17_08.csv', encoding='CP949')\n",
    "df17_9 = pd.read_csv('./csv/data/17_09.csv', encoding='CP949')\n",
    "df17_10 = pd.read_csv('./csv/data/17_10.csv', encoding='CP949')\n",
    "df17_11 = pd.read_csv('./csv/data/17_11.csv', encoding='CP949')\n",
    "df17_12 = pd.read_csv('./csv/data/17_12.csv', encoding='CP949')\n"
   ]
  },
  {
   "cell_type": "code",
   "execution_count": null,
   "metadata": {},
   "outputs": [],
   "source": [
    "df17_1"
   ]
  },
  {
   "cell_type": "code",
   "execution_count": null,
   "metadata": {},
   "outputs": [],
   "source": [
    "df18_1 = pd.read_csv('./csv/data/18_01.csv', encoding='CP949')\n",
    "df18_2 = pd.read_csv('./csv/data/18_02.csv', encoding='CP949')\n",
    "df18_3 = pd.read_csv('./csv/data/18_03.csv', encoding='CP949')\n",
    "df18_4 = pd.read_csv('./csv/data/18_04.csv', encoding='CP949')\n",
    "df18_5 = pd.read_csv('./csv/data/18_05.csv', encoding='CP949')\n",
    "df18_6 = pd.read_csv('./csv/data/18_06.csv', encoding='CP949')\n",
    "df18_7 = pd.read_csv('./csv/data/18_07.csv', encoding='CP949')\n",
    "df18_8 = pd.read_csv('./csv/data/18_08.csv', encoding='CP949')\n",
    "df18_9 = pd.read_csv('./csv/data/18_09.csv', encoding='CP949')\n",
    "df18_10 = pd.read_csv('./csv/data/18_10.csv', encoding='CP949')\n",
    "df18_11 = pd.read_csv('./csv/data/18_11.csv', encoding='CP949')\n",
    "df18_12 = pd.read_csv('./csv/data/18_12.csv', encoding='CP949')\n"
   ]
  },
  {
   "cell_type": "code",
   "execution_count": null,
   "metadata": {},
   "outputs": [],
   "source": [
    "df19_1 = pd.read_csv('./csv/data/19_01.csv', encoding='CP949')\n",
    "df19_2 = pd.read_csv('./csv/data/19_02.csv', encoding='CP949')\n",
    "df19_3 = pd.read_csv('./csv/data/19_03.csv', encoding='CP949')\n",
    "df19_4 = pd.read_csv('./csv/data/19_04.csv', encoding='CP949')\n",
    "df19_5 = pd.read_csv('./csv/data/19_05.csv', encoding='CP949')\n",
    "df19_6 = pd.read_csv('./csv/data/19_06.csv', encoding='CP949')\n",
    "df19_7 = pd.read_csv('./csv/data/19_07.csv', encoding='CP949')\n",
    "df19_8 = pd.read_csv('./csv/data/19_08.csv', encoding='CP949')\n",
    "df19_9 = pd.read_csv('./csv/data/19_09.csv', encoding='CP949')\n",
    "df19_10 = pd.read_csv('./csv/data/19_10.csv', encoding='CP949')\n",
    "df19_11 = pd.read_csv('./csv/data/19_11.csv', encoding='CP949')\n",
    "df19_12 = pd.read_csv('./csv/data/19_12.csv', encoding='CP949')\n"
   ]
  },
  {
   "cell_type": "code",
   "execution_count": null,
   "metadata": {},
   "outputs": [],
   "source": [
    "df20_1 = pd.read_csv('./csv/data/20_01.csv', encoding='CP949')\n",
    "df20_2 = pd.read_csv('./csv/data/20_02.csv', encoding='CP949')\n",
    "df20_3 = pd.read_csv('./csv/data/20_03.csv', encoding='CP949')\n",
    "df20_4 = pd.read_csv('./csv/data/20_04.csv', encoding='CP949')\n",
    "df20_5 = pd.read_csv('./csv/data/20_05.csv', encoding='CP949')\n",
    "df20_6 = pd.read_csv('./csv/data/20_06.csv', encoding='CP949')\n",
    "df20_7 = pd.read_csv('./csv/data/20_07.csv', encoding='CP949')\n",
    "df20_8 = pd.read_csv('./csv/data/20_08.csv', encoding='CP949')\n",
    "df20_9 = pd.read_csv('./csv/data/20_09.csv', encoding='CP949')\n",
    "df20_10 = pd.read_csv('./csv/data/20_10.csv', encoding='CP949')\n",
    "df20_11 = pd.read_csv('./csv/data/20_11.csv', encoding='CP949')\n",
    "df20_12 = pd.read_csv('./csv/data/20_12.csv', encoding='CP949')\n"
   ]
  },
  {
   "cell_type": "code",
   "execution_count": null,
   "metadata": {},
   "outputs": [],
   "source": [
    "df21_1 = pd.read_csv('./csv/data/21_01.csv', encoding='CP949')\n",
    "df21_2 = pd.read_csv('./csv/data/21_02.csv', encoding='CP949')\n",
    "df21_3 = pd.read_csv('./csv/data/21_03.csv', encoding='CP949')\n",
    "df21_4 = pd.read_csv('./csv/data/21_04.csv', encoding='CP949')\n",
    "df21_5 = pd.read_csv('./csv/data/21_05.csv', encoding='CP949')\n",
    "df21_6 = pd.read_csv('./csv/data/21_06.csv', encoding='CP949')\n",
    "df21_7 = pd.read_csv('./csv/data/21_07.csv', encoding='CP949')\n",
    "df21_8 = pd.read_csv('./csv/data/21_08.csv', encoding='CP949')\n",
    "df21_9 = pd.read_csv('./csv/data/21_09.csv', encoding='CP949')\n",
    "df21_10 = pd.read_csv('./csv/data/21_10.csv', encoding='CP949')\n",
    "df21_11 = pd.read_csv('./csv/data/21_11.csv', encoding='CP949')\n",
    "df21_12 = pd.read_csv('./csv/data/21_12.csv', encoding='CP949')\n"
   ]
  },
  {
   "cell_type": "code",
   "execution_count": null,
   "metadata": {},
   "outputs": [],
   "source": [
    "df17_1['years']='2017'\n",
    "df17_2['years']='2017'\n",
    "df17_3['years']='2017'\n",
    "df17_4['years']='2017'\n",
    "df17_5['years']='2017'\n",
    "df17_6['years']='2017'\n",
    "df17_7['years']='2017'\n",
    "df17_8['years']='2017'\n",
    "df17_9['years']='2017'\n",
    "df17_10['years']='2017'\n",
    "df17_11['years']='2017'\n",
    "df17_12['years']='2017'\n",
    "df18_1['years']='2018'\n",
    "df18_2['years']='2018'\n",
    "df18_3['years']='2018'\n",
    "df18_4['years']='2018'\n",
    "df18_5['years']='2018'\n",
    "df18_6['years']='2018'\n",
    "df18_7['years']='2018'\n",
    "df18_8['years']='2018'\n",
    "df18_9['years']='2018'\n",
    "df18_10['years']='2018'\n",
    "df18_11['years']='2018'\n",
    "df18_12['years']='2018'\n",
    "df19_1['years']='2019'\n",
    "df19_2['years']='2019'\n",
    "df19_3['years']='2019'\n",
    "df19_4['years']='2019'\n",
    "df19_5['years']='2019'\n",
    "df19_6['years']='2019'\n",
    "df19_7['years']='2019'\n",
    "df19_8['years']='2019'\n",
    "df19_9['years']='2019'\n",
    "df19_10['years']='2019'\n",
    "df19_11['years']='2019'\n",
    "df19_12['years']='2019'\n",
    "df20_1['years']='2020'\n",
    "df20_2['years']='2020'\n",
    "df20_3['years']='2020'\n",
    "df20_4['years']='2020'\n",
    "df20_5['years']='2020'\n",
    "df20_6['years']='2020'\n",
    "df20_7['years']='2020'\n",
    "df20_8['years']='2020'\n",
    "df20_9['years']='2020'\n",
    "df20_10['years']='2020'\n",
    "df20_11['years']='2020'\n",
    "df20_12['years']='2020'\n",
    "df21_1['years']='2021'\n",
    "df21_2['years']='2021'\n",
    "df21_3['years']='2021'\n",
    "df21_4['years']='2021'\n",
    "df21_5['years']='2021'\n",
    "df21_6['years']='2021'\n",
    "df21_7['years']='2021'\n",
    "df21_8['years']='2021'\n",
    "df21_9['years']='2021'\n",
    "df21_10['years']='2021'\n",
    "df21_11['years']='2021'\n",
    "df21_12['years']='2021'"
   ]
  },
  {
   "cell_type": "code",
   "execution_count": null,
   "metadata": {},
   "outputs": [],
   "source": [
    "df17_1['month']='01'\n",
    "df17_2['month']='02'\n",
    "df17_3['month']='03'\n",
    "df17_4['month']='04'\n",
    "df17_5['month']='05'\n",
    "df17_6['month']='06'\n",
    "df17_7['month']='07'\n",
    "df17_8['month']='08'\n",
    "df17_9['month']='09'\n",
    "df17_10['month']='10'\n",
    "df17_11['month']='11'\n",
    "df17_12['month']='12'\n",
    "df18_1['month']='01'\n",
    "df18_2['month']='02'\n",
    "df18_3['month']='03'\n",
    "df18_4['month']='04'\n",
    "df18_5['month']='05'\n",
    "df18_6['month']='06'\n",
    "df18_7['month']='07'\n",
    "df18_8['month']='08'\n",
    "df18_9['month']='09'\n",
    "df18_10['month']='10'\n",
    "df18_11['month']='11'\n",
    "df18_12['month']='12'\n",
    "df19_1['month']='01'\n",
    "df19_2['month']='02'\n",
    "df19_3['month']='03'\n",
    "df19_4['month']='04'\n",
    "df19_5['month']='05'\n",
    "df19_6['month']='06'\n",
    "df19_7['month']='07'\n",
    "df19_8['month']='08'\n",
    "df19_9['month']='09'\n",
    "df19_10['month']='10'\n",
    "df19_11['month']='11'\n",
    "df19_12['month']='12'\n",
    "df20_1['month']='01'\n",
    "df20_2['month']='02'\n",
    "df20_3['month']='03'\n",
    "df20_4['month']='04'\n",
    "df20_5['month']='05'\n",
    "df20_6['month']='06'\n",
    "df20_7['month']='07'\n",
    "df20_8['month']='08'\n",
    "df20_9['month']='09'\n",
    "df20_10['month']='10'\n",
    "df20_11['month']='11'\n",
    "df20_12['month']='12'\n",
    "df21_1['month']='01'\n",
    "df21_2['month']='02'\n",
    "df21_3['month']='03'\n",
    "df21_4['month']='04'\n",
    "df21_5['month']='05'\n",
    "df21_6['month']='06'\n",
    "df21_7['month']='07'\n",
    "df21_8['month']='08'\n",
    "df21_9['month']='09'\n",
    "df21_10['month']='10'\n",
    "df21_11['month']='11'\n",
    "df21_12['month']='12'"
   ]
  },
  {
   "cell_type": "code",
   "execution_count": null,
   "metadata": {},
   "outputs": [],
   "source": [
    "df17_1['상장주식수대비거래량']=(df17_1['거래량']/df17_1['상장주식수'])*100"
   ]
  },
  {
   "cell_type": "code",
   "execution_count": null,
   "metadata": {},
   "outputs": [],
   "source": [
    "df17_1 = df17_1.sort_values('상장주식수대비거래량',ascending=True)"
   ]
  },
  {
   "cell_type": "code",
   "execution_count": null,
   "metadata": {},
   "outputs": [],
   "source": [
    "idx = df17_1[df17_1['시가']==0].index"
   ]
  },
  {
   "cell_type": "code",
   "execution_count": null,
   "metadata": {},
   "outputs": [],
   "source": [
    "df17_1_1 = pd.read_csv('./csv/data/dataset/17_1.csv')"
   ]
  },
  {
   "cell_type": "code",
   "execution_count": null,
   "metadata": {},
   "outputs": [],
   "source": [
    "df17_1 = df17_1.drop(idx)"
   ]
  },
  {
   "cell_type": "code",
   "execution_count": null,
   "metadata": {},
   "outputs": [],
   "source": [
    "def Tlqkf(data):\n",
    "    data['상장주식수대비거래량'] = (data['거래량']/data['상장주식수'])*100\n",
    "    data['시가총액대비거래대금'] = (data['거래대금']/data['시가총액'])*100\n",
    "    idx = data[data['시가']==0].index\n",
    "    data = data.drop(idx)\n",
    "    data = data.sort_values('상장주식수대비거래량',ascending=True)\n",
    "    data.reset_index(drop=True, inplace=True)\n",
    "    data.set_index\n",
    "    return data"
   ]
  },
  {
   "cell_type": "code",
   "execution_count": null,
   "metadata": {},
   "outputs": [],
   "source": [
    "df17_1 = Tlqkf(df17_1)\n",
    "df17_2 = Tlqkf(df17_2)\n",
    "df17_3 = Tlqkf(df17_3)\n",
    "df17_4 = Tlqkf(df17_4)\n",
    "df17_5 = Tlqkf(df17_5)\n",
    "df17_6 = Tlqkf(df17_6)\n",
    "df17_7 = Tlqkf(df17_7)\n",
    "df17_8 = Tlqkf(df17_8)\n",
    "df17_9 = Tlqkf(df17_9)\n",
    "df17_10 = Tlqkf(df17_10)\n",
    "df17_11 = Tlqkf(df17_11)\n",
    "df17_12 = Tlqkf(df17_12)\n"
   ]
  },
  {
   "cell_type": "code",
   "execution_count": null,
   "metadata": {},
   "outputs": [],
   "source": [
    "df18_1 = Tlqkf(df18_1)\n",
    "df18_2 = Tlqkf(df18_2)\n",
    "df18_3 = Tlqkf(df18_3)\n",
    "df18_4 = Tlqkf(df18_4)\n",
    "df18_5 = Tlqkf(df18_5)\n",
    "df18_6 = Tlqkf(df18_6)\n",
    "df18_7 = Tlqkf(df18_7)\n",
    "df18_8 = Tlqkf(df18_8)\n",
    "df18_9 = Tlqkf(df18_9)\n",
    "df18_10 = Tlqkf(df18_10)\n",
    "df18_11 = Tlqkf(df18_11)\n",
    "df18_12 = Tlqkf(df18_12)\n"
   ]
  },
  {
   "cell_type": "code",
   "execution_count": null,
   "metadata": {},
   "outputs": [],
   "source": [
    "df19_1 = Tlqkf(df19_1)\n",
    "df19_2 = Tlqkf(df19_2)\n",
    "df19_3 = Tlqkf(df19_3)\n",
    "df19_4 = Tlqkf(df19_4)\n",
    "df19_5 = Tlqkf(df19_5)\n",
    "df19_6 = Tlqkf(df19_6)\n",
    "df19_7 = Tlqkf(df19_7)\n",
    "df19_8 = Tlqkf(df19_8)\n",
    "df19_9 = Tlqkf(df19_9)\n",
    "df19_10 = Tlqkf(df19_10)\n",
    "df19_11 = Tlqkf(df19_11)\n",
    "df19_12 = Tlqkf(df19_12)\n"
   ]
  },
  {
   "cell_type": "code",
   "execution_count": null,
   "metadata": {},
   "outputs": [],
   "source": [
    "df20_1 = Tlqkf(df20_1)\n",
    "df20_2 = Tlqkf(df20_2)\n",
    "df20_3 = Tlqkf(df20_3)\n",
    "df20_4 = Tlqkf(df20_4)\n",
    "df20_5 = Tlqkf(df20_5)\n",
    "df20_6 = Tlqkf(df20_6)\n",
    "df20_7 = Tlqkf(df20_7)\n",
    "df20_8 = Tlqkf(df20_8)\n",
    "df20_9 = Tlqkf(df20_9)\n",
    "df20_10 = Tlqkf(df20_10)\n",
    "df20_11 = Tlqkf(df20_11)\n",
    "df20_12 = Tlqkf(df20_12)\n"
   ]
  },
  {
   "cell_type": "code",
   "execution_count": null,
   "metadata": {},
   "outputs": [],
   "source": [
    "df21_1 = Tlqkf(df21_1)\n",
    "df21_2 = Tlqkf(df21_2)\n",
    "df21_3 = Tlqkf(df21_3)\n",
    "df21_4 = Tlqkf(df21_4)\n",
    "df21_5 = Tlqkf(df21_5)\n",
    "df21_6 = Tlqkf(df21_6)\n",
    "df21_7 = Tlqkf(df21_7)\n",
    "df21_8 = Tlqkf(df21_8)\n",
    "df21_9 = Tlqkf(df21_9)\n",
    "df21_10 = Tlqkf(df21_10)\n",
    "df21_11 = Tlqkf(df21_11)\n",
    "df21_12 = Tlqkf(df21_12)\n"
   ]
  },
  {
   "cell_type": "code",
   "execution_count": null,
   "metadata": {},
   "outputs": [],
   "source": [
    "def Tlqkf1(data):\n",
    "    idx = data[data['상장주식수대비거래량']>0.1].index\n",
    "    data = data.drop(idx)\n",
    "    return data"
   ]
  },
  {
   "cell_type": "code",
   "execution_count": null,
   "metadata": {},
   "outputs": [],
   "source": [
    "# df17_1 = Tlqkf1(df17_1)\n",
    "# df17_2 = Tlqkf1(df17_2)\n",
    "# df17_3 = Tlqkf1(df17_3)\n",
    "# df17_4 = Tlqkf1(df17_4)\n",
    "# df17_5 = Tlqkf1(df17_5)\n",
    "# df17_6 = Tlqkf1(df17_6)\n",
    "# df17_7 = Tlqkf1(df17_7)\n",
    "# df17_8 = Tlqkf1(df17_8)\n",
    "# df17_9 = Tlqkf1(df17_9)\n",
    "# df17_10 = Tlqkf1(df17_10)\n",
    "# df17_11 = Tlqkf1(df17_11)\n",
    "# df17_12 = Tlqkf1(df17_12)\n",
    "# df18_1 = Tlqkf1(df18_1)\n",
    "# df18_2 = Tlqkf1(df18_2)\n",
    "# df18_3 = Tlqkf1(df18_3)\n",
    "# df18_4 = Tlqkf1(df18_4)\n",
    "# df18_5 = Tlqkf1(df18_5)\n",
    "# df18_6 = Tlqkf1(df18_6)\n",
    "# df18_7 = Tlqkf1(df18_7)\n",
    "# df18_8 = Tlqkf1(df18_8)\n",
    "# df18_9 = Tlqkf1(df18_9)\n",
    "# df18_10 = Tlqkf1(df18_10)\n",
    "# df18_11 = Tlqkf1(df18_11)\n",
    "# df18_12 = Tlqkf1(df18_12)\n",
    "# df19_1 = Tlqkf1(df19_1)\n",
    "# df19_2 = Tlqkf1(df19_2)\n",
    "# df19_3 = Tlqkf1(df19_3)\n",
    "# df19_4 = Tlqkf1(df19_4)\n",
    "# df19_5 = Tlqkf1(df19_5)\n",
    "# df19_6 = Tlqkf1(df19_6)\n",
    "# df19_7 = Tlqkf1(df19_7)\n",
    "# df19_8 = Tlqkf1(df19_8)\n",
    "# df19_9 = Tlqkf1(df19_9)\n",
    "# df19_10 = Tlqkf1(df19_10)\n",
    "# df19_11 = Tlqkf1(df19_11)\n",
    "# df19_12 = Tlqkf1(df19_12)\n",
    "# df20_1 = Tlqkf1(df20_1)\n",
    "# df20_2 = Tlqkf1(df20_2)\n",
    "# df20_3 = Tlqkf1(df20_3)\n",
    "# df20_4 = Tlqkf1(df20_4)\n",
    "# df20_5 = Tlqkf1(df20_5)\n",
    "# df20_6 = Tlqkf1(df20_6)\n",
    "# df20_7 = Tlqkf1(df20_7)\n",
    "# df20_8 = Tlqkf1(df20_8)\n",
    "# df20_9 = Tlqkf1(df20_9)\n",
    "# df20_10 = Tlqkf1(df20_10)\n",
    "# df20_11 = Tlqkf1(df20_11)\n",
    "# df20_12 = Tlqkf1(df20_12)\n",
    "# df21_1 = Tlqkf1(df21_1)\n",
    "# df21_2 = Tlqkf1(df21_2)\n",
    "# df21_3 = Tlqkf1(df21_3)\n",
    "# df21_4 = Tlqkf1(df21_4)\n",
    "# df21_5 = Tlqkf1(df21_5)\n",
    "# df21_6 = Tlqkf1(df21_6)\n",
    "# df21_7 = Tlqkf1(df21_7)\n",
    "# df21_8 = Tlqkf1(df21_8)\n",
    "# df21_9 = Tlqkf1(df21_9)\n",
    "# df21_10 = Tlqkf1(df21_10)\n",
    "# df21_11 = Tlqkf1(df21_11)\n",
    "# df21_12 = Tlqkf1(df21_12)\n",
    "\n"
   ]
  },
  {
   "cell_type": "code",
   "execution_count": null,
   "metadata": {},
   "outputs": [],
   "source": [
    "idx = df17_1[df17_1['상장주식수대비거래량']>0.1].index"
   ]
  },
  {
   "cell_type": "code",
   "execution_count": null,
   "metadata": {},
   "outputs": [],
   "source": [
    "df17_1_d = df17_1.drop(idx)"
   ]
  },
  {
   "cell_type": "code",
   "execution_count": null,
   "metadata": {},
   "outputs": [],
   "source": [
    "df17_1_d"
   ]
  },
  {
   "cell_type": "code",
   "execution_count": null,
   "metadata": {},
   "outputs": [],
   "source": [
    "df17 = pd.concat([df17_1,df17_2,df17_3,df17_4,df17_5,df17_6,df17_7,df17_8,df17_9,df17_10,df17_11,df17_12],join='inner')\n",
    "df18 = pd.concat([df18_1,df18_2,df18_3,df18_4,df18_5,df18_6,df18_7,df18_8,df18_9,df18_10,df18_11,df18_12],join='inner')\n",
    "df19 = pd.concat([df19_1,df19_2,df19_3,df19_4,df19_5,df19_6,df19_7,df19_8,df19_9,df19_10,df19_11,df19_12],join='inner')\n",
    "df20 = pd.concat([df20_1,df20_2,df20_3,df20_4,df20_5,df20_6,df20_7,df20_8,df20_9,df20_10,df20_11,df20_12],join='inner')\n",
    "df21 = pd.concat([df21_1,df21_2,df21_3,df21_4,df21_5,df21_6,df21_7,df21_8,df21_9,df21_10,df21_11,df21_12],join='inner')"
   ]
  },
  {
   "cell_type": "code",
   "execution_count": null,
   "metadata": {},
   "outputs": [],
   "source": [
    "df17 = df17.sort_values('상장주식수대비거래량',ascending=True)\n",
    "df18 = df18.sort_values('상장주식수대비거래량',ascending=True)\n",
    "df19 = df19.sort_values('상장주식수대비거래량',ascending=True)\n",
    "df20 = df20.sort_values('상장주식수대비거래량',ascending=True)\n",
    "df21 = df21.sort_values('상장주식수대비거래량',ascending=True)"
   ]
  },
  {
   "cell_type": "code",
   "execution_count": null,
   "metadata": {},
   "outputs": [],
   "source": [
    "df17 = df17.set_index('종목명')\n",
    "df18 = df18.set_index('종목명')\n",
    "df19 = df19.set_index('종목명')\n",
    "df20 = df20.set_index('종목명')\n",
    "df21 = df21.set_index('종목명')"
   ]
  },
  {
   "cell_type": "code",
   "execution_count": null,
   "metadata": {},
   "outputs": [],
   "source": [
    "df17"
   ]
  },
  {
   "cell_type": "code",
   "execution_count": null,
   "metadata": {},
   "outputs": [],
   "source": [
    "df18"
   ]
  },
  {
   "cell_type": "code",
   "execution_count": null,
   "metadata": {},
   "outputs": [],
   "source": [
    "df19"
   ]
  },
  {
   "cell_type": "code",
   "execution_count": null,
   "metadata": {},
   "outputs": [],
   "source": [
    "df20"
   ]
  },
  {
   "cell_type": "code",
   "execution_count": null,
   "metadata": {},
   "outputs": [],
   "source": [
    "df21"
   ]
  },
  {
   "cell_type": "code",
   "execution_count": null,
   "metadata": {},
   "outputs": [],
   "source": [
    "import seaborn as sns\n",
    "import matplotlib.pyplot as plt\n",
    "import matplotlib as mpl\n",
    "mpl.rc('font', family='Malgun Gothic')"
   ]
  },
  {
   "cell_type": "code",
   "execution_count": null,
   "metadata": {},
   "outputs": [],
   "source": [
    "df17_1.corr()\n",
    "plt.figure(figsize=(25,20))\n",
    "sns.heatmap(df17_1.corr(), linewidths = 0.1, vmax = 1.0,\n",
    "           square = True, cmap = 'Blues', linecolor = \"white\", annot = True, annot_kws = {\"size\" : 16})"
   ]
  },
  {
   "cell_type": "code",
   "execution_count": null,
   "metadata": {},
   "outputs": [],
   "source": [
    "df = pd.concat([df17,df18,df19,df20,df21], join='inner')\n",
    "df"
   ]
  },
  {
   "cell_type": "code",
   "execution_count": null,
   "metadata": {},
   "outputs": [],
   "source": [
    "df.info()"
   ]
  },
  {
   "cell_type": "code",
   "execution_count": null,
   "metadata": {},
   "outputs": [],
   "source": [
    "trade = pd.read_csv('./csv/17_21월별거래량.csv', encoding='CP949')"
   ]
  },
  {
   "cell_type": "code",
   "execution_count": null,
   "metadata": {},
   "outputs": [],
   "source": [
    "trade.drop(['시장아이디','종가','최고가(종가)','최저가(종가)','첨도','공왜도','베타','Amivest','Zeros','Amihud'],axis=1, inplace=True)"
   ]
  },
  {
   "cell_type": "code",
   "execution_count": null,
   "metadata": {},
   "outputs": [],
   "source": [
    "trade"
   ]
  },
  {
   "cell_type": "code",
   "execution_count": null,
   "metadata": {},
   "outputs": [],
   "source": [
    "import datetime as dt"
   ]
  },
  {
   "cell_type": "code",
   "execution_count": null,
   "metadata": {},
   "outputs": [],
   "source": [
    "trade['연월'] = pd.to_datetime(trade['연월'])"
   ]
  },
  {
   "cell_type": "code",
   "execution_count": null,
   "metadata": {},
   "outputs": [],
   "source": [
    "trade"
   ]
  },
  {
   "cell_type": "code",
   "execution_count": null,
   "metadata": {},
   "outputs": [],
   "source": [
    "trade['years'] = trade['연월'].dt.year\n",
    "trade['month'] = trade['연월'].dt.month"
   ]
  },
  {
   "cell_type": "code",
   "execution_count": null,
   "metadata": {},
   "outputs": [],
   "source": [
    "trade"
   ]
  },
  {
   "cell_type": "code",
   "execution_count": null,
   "metadata": {},
   "outputs": [],
   "source": [
    "trade.drop(['연월'],axis=1,inplace=True)"
   ]
  },
  {
   "cell_type": "code",
   "execution_count": null,
   "metadata": {},
   "outputs": [],
   "source": [
    "trade"
   ]
  },
  {
   "cell_type": "code",
   "execution_count": null,
   "metadata": {},
   "outputs": [],
   "source": [
    "df.to_csv('./csv/data/df1.csv')"
   ]
  },
  {
   "cell_type": "code",
   "execution_count": null,
   "metadata": {},
   "outputs": [],
   "source": [
    "trade.set_index('종목명')"
   ]
  },
  {
   "cell_type": "code",
   "execution_count": null,
   "metadata": {},
   "outputs": [],
   "source": [
    "trade['years']=trade['years'].astype(object)\n",
    "trade['month']=trade['month'].astype(object)\n"
   ]
  },
  {
   "cell_type": "code",
   "execution_count": null,
   "metadata": {},
   "outputs": [],
   "source": [
    "df"
   ]
  },
  {
   "cell_type": "code",
   "execution_count": null,
   "metadata": {},
   "outputs": [],
   "source": [
    "df_trade = pd.merge(df1, trade, on=['종목명','종목코드','years','month'], how='inner')"
   ]
  },
  {
   "cell_type": "code",
   "execution_count": null,
   "metadata": {},
   "outputs": [],
   "source": [
    "df_trade"
   ]
  },
  {
   "cell_type": "code",
   "execution_count": null,
   "metadata": {},
   "outputs": [],
   "source": [
    "trade.info()"
   ]
  },
  {
   "cell_type": "code",
   "execution_count": null,
   "metadata": {},
   "outputs": [],
   "source": [
    "df.info()"
   ]
  },
  {
   "cell_type": "code",
   "execution_count": null,
   "metadata": {},
   "outputs": [],
   "source": [
    "df1 = pd.read_csv('./csv/data/df1.csv')"
   ]
  },
  {
   "cell_type": "code",
   "execution_count": null,
   "metadata": {},
   "outputs": [],
   "source": [
    "df1"
   ]
  },
  {
   "cell_type": "code",
   "execution_count": null,
   "metadata": {},
   "outputs": [],
   "source": [
    "df_trade = pd.merge(df1, trade, on=['종목명','종목코드','years','month'], how='inner')"
   ]
  },
  {
   "cell_type": "code",
   "execution_count": null,
   "metadata": {},
   "outputs": [],
   "source": [
    "df_trade.drop(['연월'],axis=1, inplace=True)"
   ]
  },
  {
   "cell_type": "code",
   "execution_count": null,
   "metadata": {},
   "outputs": [],
   "source": [
    "df_trade"
   ]
  },
  {
   "cell_type": "code",
   "execution_count": null,
   "metadata": {},
   "outputs": [],
   "source": [
    "df_trade['상장주식수대비월거래량합계'] = (df_trade['거래량_합계']/df_trade['상장주식수'])*100"
   ]
  },
  {
   "cell_type": "code",
   "execution_count": null,
   "metadata": {},
   "outputs": [],
   "source": [
    "df_trade"
   ]
  },
  {
   "cell_type": "code",
   "execution_count": null,
   "metadata": {},
   "outputs": [],
   "source": [
    "df_trade = df_trade.sort_values('상장주식수대비월거래량합계', ascending=True)"
   ]
  },
  {
   "cell_type": "code",
   "execution_count": null,
   "metadata": {},
   "outputs": [],
   "source": [
    "df_trade = df_trade.set_index('종목명')"
   ]
  },
  {
   "cell_type": "code",
   "execution_count": null,
   "metadata": {},
   "outputs": [],
   "source": [
    "df_trade"
   ]
  },
  {
   "cell_type": "code",
   "execution_count": null,
   "metadata": {},
   "outputs": [],
   "source": [
    "upjong = pd.read_csv('./csv/upjong.csv', encoding='CP949')"
   ]
  },
  {
   "cell_type": "code",
   "execution_count": null,
   "metadata": {},
   "outputs": [],
   "source": [
    "upjong.drop(['종목코드','시장구분','종가','대비','등락률','시가총액'],axis=1, inplace=True)"
   ]
  },
  {
   "cell_type": "code",
   "execution_count": null,
   "metadata": {},
   "outputs": [],
   "source": [
    "upjong"
   ]
  },
  {
   "cell_type": "code",
   "execution_count": null,
   "metadata": {},
   "outputs": [],
   "source": [
    "df_trade_upjong = pd.merge(df_trade, upjong, on='종목명', how='inner')"
   ]
  },
  {
   "cell_type": "code",
   "execution_count": null,
   "metadata": {},
   "outputs": [],
   "source": [
    "df_trade_upjong = df_trade_upjong.sort_values('상장주식수대비월거래량합계')"
   ]
  },
  {
   "cell_type": "code",
   "execution_count": null,
   "metadata": {},
   "outputs": [],
   "source": [
    "df_trade_upjong.head(30)"
   ]
  },
  {
   "cell_type": "code",
   "execution_count": null,
   "metadata": {},
   "outputs": [],
   "source": [
    "df_trade_upjong.info()"
   ]
  },
  {
   "cell_type": "code",
   "execution_count": null,
   "metadata": {},
   "outputs": [],
   "source": [
    "idx = df_trade_upjong[df_trade_upjong['종목코드'].str[-1]!='0'].index"
   ]
  },
  {
   "cell_type": "code",
   "execution_count": null,
   "metadata": {},
   "outputs": [],
   "source": [
    "df_trade_upjong = df_trade_upjong.drop(idx)"
   ]
  },
  {
   "cell_type": "code",
   "execution_count": null,
   "metadata": {},
   "outputs": [],
   "source": [
    "df_trade_upjong"
   ]
  },
  {
   "cell_type": "code",
   "execution_count": null,
   "metadata": {},
   "outputs": [],
   "source": [
    "import os\n",
    "files = os.listdir('./csv/data/PBR/')"
   ]
  },
  {
   "cell_type": "code",
   "execution_count": null,
   "metadata": {},
   "outputs": [],
   "source": [
    "for i in files:\n",
    "    globals()[i.split('.')[0]] = pd.read_csv(f'./csv/data/PBR/{i}')"
   ]
  },
  {
   "cell_type": "markdown",
   "metadata": {},
   "source": [
    "## 여기서부터 진행해봤어 성휘야~~~"
   ]
  },
  {
   "cell_type": "code",
   "execution_count": 1,
   "metadata": {},
   "outputs": [
    {
     "data": {
      "text/html": [
       "<div>\n",
       "<style scoped>\n",
       "    .dataframe tbody tr th:only-of-type {\n",
       "        vertical-align: middle;\n",
       "    }\n",
       "\n",
       "    .dataframe tbody tr th {\n",
       "        vertical-align: top;\n",
       "    }\n",
       "\n",
       "    .dataframe thead th {\n",
       "        text-align: right;\n",
       "    }\n",
       "</style>\n",
       "<table border=\"1\" class=\"dataframe\">\n",
       "  <thead>\n",
       "    <tr style=\"text-align: right;\">\n",
       "      <th></th>\n",
       "      <th>일자</th>\n",
       "      <th>종가</th>\n",
       "      <th>대비</th>\n",
       "      <th>등락률</th>\n",
       "      <th>시가</th>\n",
       "      <th>고가</th>\n",
       "      <th>저가</th>\n",
       "      <th>거래량</th>\n",
       "      <th>거래대금</th>\n",
       "      <th>상장시가총액</th>\n",
       "    </tr>\n",
       "  </thead>\n",
       "  <tbody>\n",
       "    <tr>\n",
       "      <th>0</th>\n",
       "      <td>2022/01/03</td>\n",
       "      <td>2988.77</td>\n",
       "      <td>11.12</td>\n",
       "      <td>0.37</td>\n",
       "      <td>2998.32</td>\n",
       "      <td>3010.77</td>\n",
       "      <td>2979.42</td>\n",
       "      <td>435825854</td>\n",
       "      <td>8193887.0</td>\n",
       "      <td>2.211373e+09</td>\n",
       "    </tr>\n",
       "    <tr>\n",
       "      <th>1</th>\n",
       "      <td>2021/12/30</td>\n",
       "      <td>2977.65</td>\n",
       "      <td>-15.64</td>\n",
       "      <td>-0.52</td>\n",
       "      <td>2999.75</td>\n",
       "      <td>3005.36</td>\n",
       "      <td>2975.74</td>\n",
       "      <td>461038202</td>\n",
       "      <td>8727458.0</td>\n",
       "      <td>2.203367e+09</td>\n",
       "    </tr>\n",
       "    <tr>\n",
       "      <th>2</th>\n",
       "      <td>2021/12/29</td>\n",
       "      <td>2993.29</td>\n",
       "      <td>-26.95</td>\n",
       "      <td>-0.89</td>\n",
       "      <td>3002.90</td>\n",
       "      <td>3007.72</td>\n",
       "      <td>2988.67</td>\n",
       "      <td>545831859</td>\n",
       "      <td>10908667.0</td>\n",
       "      <td>2.215463e+09</td>\n",
       "    </tr>\n",
       "    <tr>\n",
       "      <th>3</th>\n",
       "      <td>2021/12/28</td>\n",
       "      <td>3020.24</td>\n",
       "      <td>20.69</td>\n",
       "      <td>0.69</td>\n",
       "      <td>3006.77</td>\n",
       "      <td>3020.29</td>\n",
       "      <td>2991.55</td>\n",
       "      <td>607046190</td>\n",
       "      <td>12096894.0</td>\n",
       "      <td>2.237624e+09</td>\n",
       "    </tr>\n",
       "    <tr>\n",
       "      <th>4</th>\n",
       "      <td>2021/12/27</td>\n",
       "      <td>2999.55</td>\n",
       "      <td>-12.88</td>\n",
       "      <td>-0.43</td>\n",
       "      <td>3013.94</td>\n",
       "      <td>3017.31</td>\n",
       "      <td>2999.30</td>\n",
       "      <td>475363053</td>\n",
       "      <td>8280395.0</td>\n",
       "      <td>2.221527e+09</td>\n",
       "    </tr>\n",
       "  </tbody>\n",
       "</table>\n",
       "</div>"
      ],
      "text/plain": [
       "           일자       종가     대비   등락률       시가       고가       저가        거래량  \\\n",
       "0  2022/01/03  2988.77  11.12  0.37  2998.32  3010.77  2979.42  435825854   \n",
       "1  2021/12/30  2977.65 -15.64 -0.52  2999.75  3005.36  2975.74  461038202   \n",
       "2  2021/12/29  2993.29 -26.95 -0.89  3002.90  3007.72  2988.67  545831859   \n",
       "3  2021/12/28  3020.24  20.69  0.69  3006.77  3020.29  2991.55  607046190   \n",
       "4  2021/12/27  2999.55 -12.88 -0.43  3013.94  3017.31  2999.30  475363053   \n",
       "\n",
       "         거래대금        상장시가총액  \n",
       "0   8193887.0  2.211373e+09  \n",
       "1   8727458.0  2.203367e+09  \n",
       "2  10908667.0  2.215463e+09  \n",
       "3  12096894.0  2.237624e+09  \n",
       "4   8280395.0  2.221527e+09  "
      ]
     },
     "execution_count": 1,
     "metadata": {},
     "output_type": "execute_result"
    }
   ],
   "source": [
    "import pandas as pd\n",
    "\n",
    "kospi=pd.read_csv('./csv/data/코스피벤치마크기준시가총액대비거래대금.csv', encoding='CP949')\n",
    "kospi.head()"
   ]
  },
  {
   "cell_type": "code",
   "execution_count": 2,
   "metadata": {},
   "outputs": [
    {
     "data": {
      "text/html": [
       "<div>\n",
       "<style scoped>\n",
       "    .dataframe tbody tr th:only-of-type {\n",
       "        vertical-align: middle;\n",
       "    }\n",
       "\n",
       "    .dataframe tbody tr th {\n",
       "        vertical-align: top;\n",
       "    }\n",
       "\n",
       "    .dataframe thead th {\n",
       "        text-align: right;\n",
       "    }\n",
       "</style>\n",
       "<table border=\"1\" class=\"dataframe\">\n",
       "  <thead>\n",
       "    <tr style=\"text-align: right;\">\n",
       "      <th></th>\n",
       "      <th>일자</th>\n",
       "      <th>종가</th>\n",
       "      <th>대비</th>\n",
       "      <th>등락률</th>\n",
       "      <th>시가</th>\n",
       "      <th>고가</th>\n",
       "      <th>저가</th>\n",
       "      <th>거래량</th>\n",
       "      <th>거래대금</th>\n",
       "      <th>상장시가총액</th>\n",
       "    </tr>\n",
       "  </thead>\n",
       "  <tbody>\n",
       "    <tr>\n",
       "      <th>0</th>\n",
       "      <td>2017/01/02</td>\n",
       "      <td>2026.16</td>\n",
       "      <td>-0.30</td>\n",
       "      <td>-0.01</td>\n",
       "      <td>2022.23</td>\n",
       "      <td>2031.79</td>\n",
       "      <td>2015.68</td>\n",
       "      <td>229874996</td>\n",
       "      <td>2616791.0</td>\n",
       "      <td>1.308042e+09</td>\n",
       "    </tr>\n",
       "    <tr>\n",
       "      <th>1</th>\n",
       "      <td>2017/01/03</td>\n",
       "      <td>2043.97</td>\n",
       "      <td>17.81</td>\n",
       "      <td>0.88</td>\n",
       "      <td>2034.31</td>\n",
       "      <td>2044.07</td>\n",
       "      <td>2028.47</td>\n",
       "      <td>268127309</td>\n",
       "      <td>3725113.0</td>\n",
       "      <td>1.319219e+09</td>\n",
       "    </tr>\n",
       "    <tr>\n",
       "      <th>2</th>\n",
       "      <td>2017/01/04</td>\n",
       "      <td>2045.64</td>\n",
       "      <td>1.67</td>\n",
       "      <td>0.08</td>\n",
       "      <td>2046.29</td>\n",
       "      <td>2046.29</td>\n",
       "      <td>2040.61</td>\n",
       "      <td>371488189</td>\n",
       "      <td>4098880.0</td>\n",
       "      <td>1.320294e+09</td>\n",
       "    </tr>\n",
       "    <tr>\n",
       "      <th>3</th>\n",
       "      <td>2017/01/05</td>\n",
       "      <td>2041.95</td>\n",
       "      <td>-3.69</td>\n",
       "      <td>-0.18</td>\n",
       "      <td>2045.52</td>\n",
       "      <td>2046.50</td>\n",
       "      <td>2039.49</td>\n",
       "      <td>541343551</td>\n",
       "      <td>4479782.0</td>\n",
       "      <td>1.317578e+09</td>\n",
       "    </tr>\n",
       "    <tr>\n",
       "      <th>4</th>\n",
       "      <td>2017/01/06</td>\n",
       "      <td>2049.12</td>\n",
       "      <td>7.17</td>\n",
       "      <td>0.35</td>\n",
       "      <td>2048.11</td>\n",
       "      <td>2051.84</td>\n",
       "      <td>2045.66</td>\n",
       "      <td>455350704</td>\n",
       "      <td>3511655.0</td>\n",
       "      <td>1.322375e+09</td>\n",
       "    </tr>\n",
       "    <tr>\n",
       "      <th>...</th>\n",
       "      <td>...</td>\n",
       "      <td>...</td>\n",
       "      <td>...</td>\n",
       "      <td>...</td>\n",
       "      <td>...</td>\n",
       "      <td>...</td>\n",
       "      <td>...</td>\n",
       "      <td>...</td>\n",
       "      <td>...</td>\n",
       "      <td>...</td>\n",
       "    </tr>\n",
       "    <tr>\n",
       "      <th>1225</th>\n",
       "      <td>2021/12/27</td>\n",
       "      <td>2999.55</td>\n",
       "      <td>-12.88</td>\n",
       "      <td>-0.43</td>\n",
       "      <td>3013.94</td>\n",
       "      <td>3017.31</td>\n",
       "      <td>2999.30</td>\n",
       "      <td>475363053</td>\n",
       "      <td>8280395.0</td>\n",
       "      <td>2.221527e+09</td>\n",
       "    </tr>\n",
       "    <tr>\n",
       "      <th>1226</th>\n",
       "      <td>2021/12/28</td>\n",
       "      <td>3020.24</td>\n",
       "      <td>20.69</td>\n",
       "      <td>0.69</td>\n",
       "      <td>3006.77</td>\n",
       "      <td>3020.29</td>\n",
       "      <td>2991.55</td>\n",
       "      <td>607046190</td>\n",
       "      <td>12096894.0</td>\n",
       "      <td>2.237624e+09</td>\n",
       "    </tr>\n",
       "    <tr>\n",
       "      <th>1227</th>\n",
       "      <td>2021/12/29</td>\n",
       "      <td>2993.29</td>\n",
       "      <td>-26.95</td>\n",
       "      <td>-0.89</td>\n",
       "      <td>3002.90</td>\n",
       "      <td>3007.72</td>\n",
       "      <td>2988.67</td>\n",
       "      <td>545831859</td>\n",
       "      <td>10908667.0</td>\n",
       "      <td>2.215463e+09</td>\n",
       "    </tr>\n",
       "    <tr>\n",
       "      <th>1228</th>\n",
       "      <td>2021/12/30</td>\n",
       "      <td>2977.65</td>\n",
       "      <td>-15.64</td>\n",
       "      <td>-0.52</td>\n",
       "      <td>2999.75</td>\n",
       "      <td>3005.36</td>\n",
       "      <td>2975.74</td>\n",
       "      <td>461038202</td>\n",
       "      <td>8727458.0</td>\n",
       "      <td>2.203367e+09</td>\n",
       "    </tr>\n",
       "    <tr>\n",
       "      <th>1229</th>\n",
       "      <td>2022/01/03</td>\n",
       "      <td>2988.77</td>\n",
       "      <td>11.12</td>\n",
       "      <td>0.37</td>\n",
       "      <td>2998.32</td>\n",
       "      <td>3010.77</td>\n",
       "      <td>2979.42</td>\n",
       "      <td>435825854</td>\n",
       "      <td>8193887.0</td>\n",
       "      <td>2.211373e+09</td>\n",
       "    </tr>\n",
       "  </tbody>\n",
       "</table>\n",
       "<p>1230 rows × 10 columns</p>\n",
       "</div>"
      ],
      "text/plain": [
       "              일자       종가     대비   등락률       시가       고가       저가        거래량  \\\n",
       "0     2017/01/02  2026.16  -0.30 -0.01  2022.23  2031.79  2015.68  229874996   \n",
       "1     2017/01/03  2043.97  17.81  0.88  2034.31  2044.07  2028.47  268127309   \n",
       "2     2017/01/04  2045.64   1.67  0.08  2046.29  2046.29  2040.61  371488189   \n",
       "3     2017/01/05  2041.95  -3.69 -0.18  2045.52  2046.50  2039.49  541343551   \n",
       "4     2017/01/06  2049.12   7.17  0.35  2048.11  2051.84  2045.66  455350704   \n",
       "...          ...      ...    ...   ...      ...      ...      ...        ...   \n",
       "1225  2021/12/27  2999.55 -12.88 -0.43  3013.94  3017.31  2999.30  475363053   \n",
       "1226  2021/12/28  3020.24  20.69  0.69  3006.77  3020.29  2991.55  607046190   \n",
       "1227  2021/12/29  2993.29 -26.95 -0.89  3002.90  3007.72  2988.67  545831859   \n",
       "1228  2021/12/30  2977.65 -15.64 -0.52  2999.75  3005.36  2975.74  461038202   \n",
       "1229  2022/01/03  2988.77  11.12  0.37  2998.32  3010.77  2979.42  435825854   \n",
       "\n",
       "            거래대금        상장시가총액  \n",
       "0      2616791.0  1.308042e+09  \n",
       "1      3725113.0  1.319219e+09  \n",
       "2      4098880.0  1.320294e+09  \n",
       "3      4479782.0  1.317578e+09  \n",
       "4      3511655.0  1.322375e+09  \n",
       "...          ...           ...  \n",
       "1225   8280395.0  2.221527e+09  \n",
       "1226  12096894.0  2.237624e+09  \n",
       "1227  10908667.0  2.215463e+09  \n",
       "1228   8727458.0  2.203367e+09  \n",
       "1229   8193887.0  2.211373e+09  \n",
       "\n",
       "[1230 rows x 10 columns]"
      ]
     },
     "execution_count": 2,
     "metadata": {},
     "output_type": "execute_result"
    }
   ],
   "source": [
    "kospi.sort_values(\"일자\", ascending=True, inplace=True)\n",
    "kospi.reset_index(drop=True, inplace=True)\n",
    "kospi"
   ]
  },
  {
   "cell_type": "code",
   "execution_count": 3,
   "metadata": {},
   "outputs": [
    {
     "data": {
      "text/plain": [
       "0       0.200054\n",
       "1       0.282373\n",
       "2       0.310452\n",
       "3       0.340001\n",
       "4       0.265557\n",
       "          ...   \n",
       "1225    0.372734\n",
       "1226    0.540613\n",
       "1227    0.492388\n",
       "1228    0.396097\n",
       "1229    0.370534\n",
       "Name: 벤치마크지수, Length: 1230, dtype: float64"
      ]
     },
     "execution_count": 3,
     "metadata": {},
     "output_type": "execute_result"
    }
   ],
   "source": [
    "kospi['벤치마크지수'] = kospi['거래대금'] / kospi['상장시가총액'] * 100\n",
    "kospi['벤치마크지수']"
   ]
  },
  {
   "cell_type": "code",
   "execution_count": 4,
   "metadata": {},
   "outputs": [
    {
     "data": {
      "text/html": [
       "<div>\n",
       "<style scoped>\n",
       "    .dataframe tbody tr th:only-of-type {\n",
       "        vertical-align: middle;\n",
       "    }\n",
       "\n",
       "    .dataframe tbody tr th {\n",
       "        vertical-align: top;\n",
       "    }\n",
       "\n",
       "    .dataframe thead th {\n",
       "        text-align: right;\n",
       "    }\n",
       "</style>\n",
       "<table border=\"1\" class=\"dataframe\">\n",
       "  <thead>\n",
       "    <tr style=\"text-align: right;\">\n",
       "      <th></th>\n",
       "      <th>일자</th>\n",
       "      <th>종가</th>\n",
       "      <th>대비</th>\n",
       "      <th>등락률</th>\n",
       "      <th>시가</th>\n",
       "      <th>고가</th>\n",
       "      <th>저가</th>\n",
       "      <th>거래량</th>\n",
       "      <th>거래대금</th>\n",
       "      <th>상장시가총액</th>\n",
       "      <th>벤치마크지수</th>\n",
       "    </tr>\n",
       "  </thead>\n",
       "  <tbody>\n",
       "    <tr>\n",
       "      <th>0</th>\n",
       "      <td>2017/01/02</td>\n",
       "      <td>2026.16</td>\n",
       "      <td>-0.30</td>\n",
       "      <td>-0.01</td>\n",
       "      <td>2022.23</td>\n",
       "      <td>2031.79</td>\n",
       "      <td>2015.68</td>\n",
       "      <td>229874996</td>\n",
       "      <td>2616791.0</td>\n",
       "      <td>1.308042e+09</td>\n",
       "      <td>0.200054</td>\n",
       "    </tr>\n",
       "    <tr>\n",
       "      <th>1</th>\n",
       "      <td>2017/01/03</td>\n",
       "      <td>2043.97</td>\n",
       "      <td>17.81</td>\n",
       "      <td>0.88</td>\n",
       "      <td>2034.31</td>\n",
       "      <td>2044.07</td>\n",
       "      <td>2028.47</td>\n",
       "      <td>268127309</td>\n",
       "      <td>3725113.0</td>\n",
       "      <td>1.319219e+09</td>\n",
       "      <td>0.282373</td>\n",
       "    </tr>\n",
       "    <tr>\n",
       "      <th>2</th>\n",
       "      <td>2017/01/04</td>\n",
       "      <td>2045.64</td>\n",
       "      <td>1.67</td>\n",
       "      <td>0.08</td>\n",
       "      <td>2046.29</td>\n",
       "      <td>2046.29</td>\n",
       "      <td>2040.61</td>\n",
       "      <td>371488189</td>\n",
       "      <td>4098880.0</td>\n",
       "      <td>1.320294e+09</td>\n",
       "      <td>0.310452</td>\n",
       "    </tr>\n",
       "    <tr>\n",
       "      <th>3</th>\n",
       "      <td>2017/01/05</td>\n",
       "      <td>2041.95</td>\n",
       "      <td>-3.69</td>\n",
       "      <td>-0.18</td>\n",
       "      <td>2045.52</td>\n",
       "      <td>2046.50</td>\n",
       "      <td>2039.49</td>\n",
       "      <td>541343551</td>\n",
       "      <td>4479782.0</td>\n",
       "      <td>1.317578e+09</td>\n",
       "      <td>0.340001</td>\n",
       "    </tr>\n",
       "    <tr>\n",
       "      <th>4</th>\n",
       "      <td>2017/01/06</td>\n",
       "      <td>2049.12</td>\n",
       "      <td>7.17</td>\n",
       "      <td>0.35</td>\n",
       "      <td>2048.11</td>\n",
       "      <td>2051.84</td>\n",
       "      <td>2045.66</td>\n",
       "      <td>455350704</td>\n",
       "      <td>3511655.0</td>\n",
       "      <td>1.322375e+09</td>\n",
       "      <td>0.265557</td>\n",
       "    </tr>\n",
       "    <tr>\n",
       "      <th>...</th>\n",
       "      <td>...</td>\n",
       "      <td>...</td>\n",
       "      <td>...</td>\n",
       "      <td>...</td>\n",
       "      <td>...</td>\n",
       "      <td>...</td>\n",
       "      <td>...</td>\n",
       "      <td>...</td>\n",
       "      <td>...</td>\n",
       "      <td>...</td>\n",
       "      <td>...</td>\n",
       "    </tr>\n",
       "    <tr>\n",
       "      <th>1225</th>\n",
       "      <td>2021/12/27</td>\n",
       "      <td>2999.55</td>\n",
       "      <td>-12.88</td>\n",
       "      <td>-0.43</td>\n",
       "      <td>3013.94</td>\n",
       "      <td>3017.31</td>\n",
       "      <td>2999.30</td>\n",
       "      <td>475363053</td>\n",
       "      <td>8280395.0</td>\n",
       "      <td>2.221527e+09</td>\n",
       "      <td>0.372734</td>\n",
       "    </tr>\n",
       "    <tr>\n",
       "      <th>1226</th>\n",
       "      <td>2021/12/28</td>\n",
       "      <td>3020.24</td>\n",
       "      <td>20.69</td>\n",
       "      <td>0.69</td>\n",
       "      <td>3006.77</td>\n",
       "      <td>3020.29</td>\n",
       "      <td>2991.55</td>\n",
       "      <td>607046190</td>\n",
       "      <td>12096894.0</td>\n",
       "      <td>2.237624e+09</td>\n",
       "      <td>0.540613</td>\n",
       "    </tr>\n",
       "    <tr>\n",
       "      <th>1227</th>\n",
       "      <td>2021/12/29</td>\n",
       "      <td>2993.29</td>\n",
       "      <td>-26.95</td>\n",
       "      <td>-0.89</td>\n",
       "      <td>3002.90</td>\n",
       "      <td>3007.72</td>\n",
       "      <td>2988.67</td>\n",
       "      <td>545831859</td>\n",
       "      <td>10908667.0</td>\n",
       "      <td>2.215463e+09</td>\n",
       "      <td>0.492388</td>\n",
       "    </tr>\n",
       "    <tr>\n",
       "      <th>1228</th>\n",
       "      <td>2021/12/30</td>\n",
       "      <td>2977.65</td>\n",
       "      <td>-15.64</td>\n",
       "      <td>-0.52</td>\n",
       "      <td>2999.75</td>\n",
       "      <td>3005.36</td>\n",
       "      <td>2975.74</td>\n",
       "      <td>461038202</td>\n",
       "      <td>8727458.0</td>\n",
       "      <td>2.203367e+09</td>\n",
       "      <td>0.396097</td>\n",
       "    </tr>\n",
       "    <tr>\n",
       "      <th>1229</th>\n",
       "      <td>2022/01/03</td>\n",
       "      <td>2988.77</td>\n",
       "      <td>11.12</td>\n",
       "      <td>0.37</td>\n",
       "      <td>2998.32</td>\n",
       "      <td>3010.77</td>\n",
       "      <td>2979.42</td>\n",
       "      <td>435825854</td>\n",
       "      <td>8193887.0</td>\n",
       "      <td>2.211373e+09</td>\n",
       "      <td>0.370534</td>\n",
       "    </tr>\n",
       "  </tbody>\n",
       "</table>\n",
       "<p>1230 rows × 11 columns</p>\n",
       "</div>"
      ],
      "text/plain": [
       "              일자       종가     대비   등락률       시가       고가       저가        거래량  \\\n",
       "0     2017/01/02  2026.16  -0.30 -0.01  2022.23  2031.79  2015.68  229874996   \n",
       "1     2017/01/03  2043.97  17.81  0.88  2034.31  2044.07  2028.47  268127309   \n",
       "2     2017/01/04  2045.64   1.67  0.08  2046.29  2046.29  2040.61  371488189   \n",
       "3     2017/01/05  2041.95  -3.69 -0.18  2045.52  2046.50  2039.49  541343551   \n",
       "4     2017/01/06  2049.12   7.17  0.35  2048.11  2051.84  2045.66  455350704   \n",
       "...          ...      ...    ...   ...      ...      ...      ...        ...   \n",
       "1225  2021/12/27  2999.55 -12.88 -0.43  3013.94  3017.31  2999.30  475363053   \n",
       "1226  2021/12/28  3020.24  20.69  0.69  3006.77  3020.29  2991.55  607046190   \n",
       "1227  2021/12/29  2993.29 -26.95 -0.89  3002.90  3007.72  2988.67  545831859   \n",
       "1228  2021/12/30  2977.65 -15.64 -0.52  2999.75  3005.36  2975.74  461038202   \n",
       "1229  2022/01/03  2988.77  11.12  0.37  2998.32  3010.77  2979.42  435825854   \n",
       "\n",
       "            거래대금        상장시가총액    벤치마크지수  \n",
       "0      2616791.0  1.308042e+09  0.200054  \n",
       "1      3725113.0  1.319219e+09  0.282373  \n",
       "2      4098880.0  1.320294e+09  0.310452  \n",
       "3      4479782.0  1.317578e+09  0.340001  \n",
       "4      3511655.0  1.322375e+09  0.265557  \n",
       "...          ...           ...       ...  \n",
       "1225   8280395.0  2.221527e+09  0.372734  \n",
       "1226  12096894.0  2.237624e+09  0.540613  \n",
       "1227  10908667.0  2.215463e+09  0.492388  \n",
       "1228   8727458.0  2.203367e+09  0.396097  \n",
       "1229   8193887.0  2.211373e+09  0.370534  \n",
       "\n",
       "[1230 rows x 11 columns]"
      ]
     },
     "execution_count": 4,
     "metadata": {},
     "output_type": "execute_result"
    }
   ],
   "source": [
    "kospi"
   ]
  },
  {
   "cell_type": "code",
   "execution_count": 5,
   "metadata": {},
   "outputs": [
    {
     "data": {
      "text/html": [
       "<div>\n",
       "<style scoped>\n",
       "    .dataframe tbody tr th:only-of-type {\n",
       "        vertical-align: middle;\n",
       "    }\n",
       "\n",
       "    .dataframe tbody tr th {\n",
       "        vertical-align: top;\n",
       "    }\n",
       "\n",
       "    .dataframe thead th {\n",
       "        text-align: right;\n",
       "    }\n",
       "</style>\n",
       "<table border=\"1\" class=\"dataframe\">\n",
       "  <thead>\n",
       "    <tr style=\"text-align: right;\">\n",
       "      <th></th>\n",
       "      <th>일자</th>\n",
       "      <th>거래대금</th>\n",
       "      <th>상장시가총액</th>\n",
       "      <th>벤치마크지수</th>\n",
       "    </tr>\n",
       "  </thead>\n",
       "  <tbody>\n",
       "    <tr>\n",
       "      <th>0</th>\n",
       "      <td>2017/01/02</td>\n",
       "      <td>2616791.0</td>\n",
       "      <td>1.308042e+09</td>\n",
       "      <td>0.200054</td>\n",
       "    </tr>\n",
       "    <tr>\n",
       "      <th>1</th>\n",
       "      <td>2017/01/03</td>\n",
       "      <td>3725113.0</td>\n",
       "      <td>1.319219e+09</td>\n",
       "      <td>0.282373</td>\n",
       "    </tr>\n",
       "    <tr>\n",
       "      <th>2</th>\n",
       "      <td>2017/01/04</td>\n",
       "      <td>4098880.0</td>\n",
       "      <td>1.320294e+09</td>\n",
       "      <td>0.310452</td>\n",
       "    </tr>\n",
       "    <tr>\n",
       "      <th>3</th>\n",
       "      <td>2017/01/05</td>\n",
       "      <td>4479782.0</td>\n",
       "      <td>1.317578e+09</td>\n",
       "      <td>0.340001</td>\n",
       "    </tr>\n",
       "    <tr>\n",
       "      <th>4</th>\n",
       "      <td>2017/01/06</td>\n",
       "      <td>3511655.0</td>\n",
       "      <td>1.322375e+09</td>\n",
       "      <td>0.265557</td>\n",
       "    </tr>\n",
       "    <tr>\n",
       "      <th>...</th>\n",
       "      <td>...</td>\n",
       "      <td>...</td>\n",
       "      <td>...</td>\n",
       "      <td>...</td>\n",
       "    </tr>\n",
       "    <tr>\n",
       "      <th>1225</th>\n",
       "      <td>2021/12/27</td>\n",
       "      <td>8280395.0</td>\n",
       "      <td>2.221527e+09</td>\n",
       "      <td>0.372734</td>\n",
       "    </tr>\n",
       "    <tr>\n",
       "      <th>1226</th>\n",
       "      <td>2021/12/28</td>\n",
       "      <td>12096894.0</td>\n",
       "      <td>2.237624e+09</td>\n",
       "      <td>0.540613</td>\n",
       "    </tr>\n",
       "    <tr>\n",
       "      <th>1227</th>\n",
       "      <td>2021/12/29</td>\n",
       "      <td>10908667.0</td>\n",
       "      <td>2.215463e+09</td>\n",
       "      <td>0.492388</td>\n",
       "    </tr>\n",
       "    <tr>\n",
       "      <th>1228</th>\n",
       "      <td>2021/12/30</td>\n",
       "      <td>8727458.0</td>\n",
       "      <td>2.203367e+09</td>\n",
       "      <td>0.396097</td>\n",
       "    </tr>\n",
       "    <tr>\n",
       "      <th>1229</th>\n",
       "      <td>2022/01/03</td>\n",
       "      <td>8193887.0</td>\n",
       "      <td>2.211373e+09</td>\n",
       "      <td>0.370534</td>\n",
       "    </tr>\n",
       "  </tbody>\n",
       "</table>\n",
       "<p>1230 rows × 4 columns</p>\n",
       "</div>"
      ],
      "text/plain": [
       "              일자        거래대금        상장시가총액    벤치마크지수\n",
       "0     2017/01/02   2616791.0  1.308042e+09  0.200054\n",
       "1     2017/01/03   3725113.0  1.319219e+09  0.282373\n",
       "2     2017/01/04   4098880.0  1.320294e+09  0.310452\n",
       "3     2017/01/05   4479782.0  1.317578e+09  0.340001\n",
       "4     2017/01/06   3511655.0  1.322375e+09  0.265557\n",
       "...          ...         ...           ...       ...\n",
       "1225  2021/12/27   8280395.0  2.221527e+09  0.372734\n",
       "1226  2021/12/28  12096894.0  2.237624e+09  0.540613\n",
       "1227  2021/12/29  10908667.0  2.215463e+09  0.492388\n",
       "1228  2021/12/30   8727458.0  2.203367e+09  0.396097\n",
       "1229  2022/01/03   8193887.0  2.211373e+09  0.370534\n",
       "\n",
       "[1230 rows x 4 columns]"
      ]
     },
     "execution_count": 5,
     "metadata": {},
     "output_type": "execute_result"
    }
   ],
   "source": [
    "kospi = kospi[[\"일자\", \"거래대금\", \"상장시가총액\", \"벤치마크지수\"]]\n",
    "kospi"
   ]
  },
  {
   "cell_type": "code",
   "execution_count": 6,
   "metadata": {},
   "outputs": [
    {
     "data": {
      "text/html": [
       "<div>\n",
       "<style scoped>\n",
       "    .dataframe tbody tr th:only-of-type {\n",
       "        vertical-align: middle;\n",
       "    }\n",
       "\n",
       "    .dataframe tbody tr th {\n",
       "        vertical-align: top;\n",
       "    }\n",
       "\n",
       "    .dataframe thead th {\n",
       "        text-align: right;\n",
       "    }\n",
       "</style>\n",
       "<table border=\"1\" class=\"dataframe\">\n",
       "  <thead>\n",
       "    <tr style=\"text-align: right;\">\n",
       "      <th></th>\n",
       "      <th>일자</th>\n",
       "      <th>거래대금</th>\n",
       "      <th>상장시가총액</th>\n",
       "      <th>벤치마크지수</th>\n",
       "    </tr>\n",
       "  </thead>\n",
       "  <tbody>\n",
       "    <tr>\n",
       "      <th>0</th>\n",
       "      <td>2017/01/02</td>\n",
       "      <td>2616791.0</td>\n",
       "      <td>1.308042e+09</td>\n",
       "      <td>0.200054</td>\n",
       "    </tr>\n",
       "    <tr>\n",
       "      <th>1</th>\n",
       "      <td>2017/01/03</td>\n",
       "      <td>3725113.0</td>\n",
       "      <td>1.319219e+09</td>\n",
       "      <td>0.282373</td>\n",
       "    </tr>\n",
       "    <tr>\n",
       "      <th>2</th>\n",
       "      <td>2017/01/04</td>\n",
       "      <td>4098880.0</td>\n",
       "      <td>1.320294e+09</td>\n",
       "      <td>0.310452</td>\n",
       "    </tr>\n",
       "    <tr>\n",
       "      <th>3</th>\n",
       "      <td>2017/01/05</td>\n",
       "      <td>4479782.0</td>\n",
       "      <td>1.317578e+09</td>\n",
       "      <td>0.340001</td>\n",
       "    </tr>\n",
       "    <tr>\n",
       "      <th>4</th>\n",
       "      <td>2017/01/06</td>\n",
       "      <td>3511655.0</td>\n",
       "      <td>1.322375e+09</td>\n",
       "      <td>0.265557</td>\n",
       "    </tr>\n",
       "    <tr>\n",
       "      <th>...</th>\n",
       "      <td>...</td>\n",
       "      <td>...</td>\n",
       "      <td>...</td>\n",
       "      <td>...</td>\n",
       "    </tr>\n",
       "    <tr>\n",
       "      <th>1225</th>\n",
       "      <td>2021/12/27</td>\n",
       "      <td>8280395.0</td>\n",
       "      <td>2.221527e+09</td>\n",
       "      <td>0.372734</td>\n",
       "    </tr>\n",
       "    <tr>\n",
       "      <th>1226</th>\n",
       "      <td>2021/12/28</td>\n",
       "      <td>12096894.0</td>\n",
       "      <td>2.237624e+09</td>\n",
       "      <td>0.540613</td>\n",
       "    </tr>\n",
       "    <tr>\n",
       "      <th>1227</th>\n",
       "      <td>2021/12/29</td>\n",
       "      <td>10908667.0</td>\n",
       "      <td>2.215463e+09</td>\n",
       "      <td>0.492388</td>\n",
       "    </tr>\n",
       "    <tr>\n",
       "      <th>1228</th>\n",
       "      <td>2021/12/30</td>\n",
       "      <td>8727458.0</td>\n",
       "      <td>2.203367e+09</td>\n",
       "      <td>0.396097</td>\n",
       "    </tr>\n",
       "    <tr>\n",
       "      <th>1229</th>\n",
       "      <td>2022/01/03</td>\n",
       "      <td>8193887.0</td>\n",
       "      <td>2.211373e+09</td>\n",
       "      <td>0.370534</td>\n",
       "    </tr>\n",
       "  </tbody>\n",
       "</table>\n",
       "<p>1230 rows × 4 columns</p>\n",
       "</div>"
      ],
      "text/plain": [
       "              일자        거래대금        상장시가총액    벤치마크지수\n",
       "0     2017/01/02   2616791.0  1.308042e+09  0.200054\n",
       "1     2017/01/03   3725113.0  1.319219e+09  0.282373\n",
       "2     2017/01/04   4098880.0  1.320294e+09  0.310452\n",
       "3     2017/01/05   4479782.0  1.317578e+09  0.340001\n",
       "4     2017/01/06   3511655.0  1.322375e+09  0.265557\n",
       "...          ...         ...           ...       ...\n",
       "1225  2021/12/27   8280395.0  2.221527e+09  0.372734\n",
       "1226  2021/12/28  12096894.0  2.237624e+09  0.540613\n",
       "1227  2021/12/29  10908667.0  2.215463e+09  0.492388\n",
       "1228  2021/12/30   8727458.0  2.203367e+09  0.396097\n",
       "1229  2022/01/03   8193887.0  2.211373e+09  0.370534\n",
       "\n",
       "[1230 rows x 4 columns]"
      ]
     },
     "execution_count": 6,
     "metadata": {},
     "output_type": "execute_result"
    }
   ],
   "source": [
    "kospi"
   ]
  },
  {
   "cell_type": "markdown",
   "metadata": {},
   "source": [
    "## 코딩해줘 성휘야~~~\n",
    "\n",
    "* 3(1) 벤치마크지수까지 구했어 성휘야\n",
    "* 일자를 2017.01 , 2017.02, 2017.03 씩 연도랑 월도 묶으면서\n",
    "* 벤치마크지수를 한달 평균내가지고\n",
    "* 너가 추출해낸 years 랑 month 와 일치하게 [\"벤치마크지수\"] 컬럼 추가\n",
    "* 상장주식수대비월거래량합계 < 벤치마크지수 이면, [\"소외주\"] 컬럼 생성"
   ]
  },
  {
   "cell_type": "code",
   "execution_count": null,
   "metadata": {},
   "outputs": [],
   "source": [
    "# years 와 month 를 그룹바이한 다음, 업종별로 또 묶어서\n",
    "# 각 기업에 해당하는 PBR을 불러온 다음(카카오워크 압축파일)\n",
    "# 평균을 내서 업종별 PBR을 구하고\n",
    "# PBR < 업종별 PBR 인 경우, [\"Low P/B\"] 컬럼 생성"
   ]
  },
  {
   "cell_type": "code",
   "execution_count": null,
   "metadata": {},
   "outputs": [],
   "source": [
    "df_trade_upjong.head()"
   ]
  },
  {
   "cell_type": "code",
   "execution_count": 10,
   "metadata": {},
   "outputs": [
    {
     "name": "stderr",
     "output_type": "stream",
     "text": [
      "c:\\Users\\김성휘\\AppData\\Local\\Programs\\Python\\Python36\\lib\\site-packages\\ipykernel_launcher.py:1: SettingWithCopyWarning: \n",
      "A value is trying to be set on a copy of a slice from a DataFrame.\n",
      "Try using .loc[row_indexer,col_indexer] = value instead\n",
      "\n",
      "See the caveats in the documentation: https://pandas.pydata.org/pandas-docs/stable/user_guide/indexing.html#returning-a-view-versus-a-copy\n",
      "  \"\"\"Entry point for launching an IPython kernel.\n"
     ]
    }
   ],
   "source": [
    "kospi['일자'] = pd.to_datetime(kospi['일자'])"
   ]
  },
  {
   "cell_type": "code",
   "execution_count": 12,
   "metadata": {},
   "outputs": [
    {
     "name": "stderr",
     "output_type": "stream",
     "text": [
      "c:\\Users\\김성휘\\AppData\\Local\\Programs\\Python\\Python36\\lib\\site-packages\\ipykernel_launcher.py:1: SettingWithCopyWarning: \n",
      "A value is trying to be set on a copy of a slice from a DataFrame.\n",
      "Try using .loc[row_indexer,col_indexer] = value instead\n",
      "\n",
      "See the caveats in the documentation: https://pandas.pydata.org/pandas-docs/stable/user_guide/indexing.html#returning-a-view-versus-a-copy\n",
      "  \"\"\"Entry point for launching an IPython kernel.\n",
      "c:\\Users\\김성휘\\AppData\\Local\\Programs\\Python\\Python36\\lib\\site-packages\\ipykernel_launcher.py:2: SettingWithCopyWarning: \n",
      "A value is trying to be set on a copy of a slice from a DataFrame.\n",
      "Try using .loc[row_indexer,col_indexer] = value instead\n",
      "\n",
      "See the caveats in the documentation: https://pandas.pydata.org/pandas-docs/stable/user_guide/indexing.html#returning-a-view-versus-a-copy\n",
      "  \n"
     ]
    }
   ],
   "source": [
    "kospi['years'] = kospi['일자'].dt.year\n",
    "kospi['month'] = kospi['일자'].dt.month"
   ]
  },
  {
   "cell_type": "code",
   "execution_count": 16,
   "metadata": {},
   "outputs": [],
   "source": [
    "kospi_group = kospi.groupby(['years','month']).mean()"
   ]
  },
  {
   "cell_type": "code",
   "execution_count": 17,
   "metadata": {},
   "outputs": [
    {
     "data": {
      "text/html": [
       "<div>\n",
       "<style scoped>\n",
       "    .dataframe tbody tr th:only-of-type {\n",
       "        vertical-align: middle;\n",
       "    }\n",
       "\n",
       "    .dataframe tbody tr th {\n",
       "        vertical-align: top;\n",
       "    }\n",
       "\n",
       "    .dataframe thead th {\n",
       "        text-align: right;\n",
       "    }\n",
       "</style>\n",
       "<table border=\"1\" class=\"dataframe\">\n",
       "  <thead>\n",
       "    <tr style=\"text-align: right;\">\n",
       "      <th></th>\n",
       "      <th></th>\n",
       "      <th>거래대금</th>\n",
       "      <th>상장시가총액</th>\n",
       "      <th>벤치마크지수</th>\n",
       "    </tr>\n",
       "    <tr>\n",
       "      <th>years</th>\n",
       "      <th>month</th>\n",
       "      <th></th>\n",
       "      <th></th>\n",
       "      <th></th>\n",
       "    </tr>\n",
       "  </thead>\n",
       "  <tbody>\n",
       "    <tr>\n",
       "      <th rowspan=\"5\" valign=\"top\">2017</th>\n",
       "      <th>1</th>\n",
       "      <td>4.111711e+06</td>\n",
       "      <td>1.332106e+09</td>\n",
       "      <td>0.308481</td>\n",
       "    </tr>\n",
       "    <tr>\n",
       "      <th>2</th>\n",
       "      <td>4.484081e+06</td>\n",
       "      <td>1.347227e+09</td>\n",
       "      <td>0.332872</td>\n",
       "    </tr>\n",
       "    <tr>\n",
       "      <th>3</th>\n",
       "      <td>5.025620e+06</td>\n",
       "      <td>1.382749e+09</td>\n",
       "      <td>0.363481</td>\n",
       "    </tr>\n",
       "    <tr>\n",
       "      <th>4</th>\n",
       "      <td>4.598756e+06</td>\n",
       "      <td>1.400871e+09</td>\n",
       "      <td>0.327837</td>\n",
       "    </tr>\n",
       "    <tr>\n",
       "      <th>5</th>\n",
       "      <td>6.208852e+06</td>\n",
       "      <td>1.500436e+09</td>\n",
       "      <td>0.413761</td>\n",
       "    </tr>\n",
       "    <tr>\n",
       "      <th>...</th>\n",
       "      <th>...</th>\n",
       "      <td>...</td>\n",
       "      <td>...</td>\n",
       "      <td>...</td>\n",
       "    </tr>\n",
       "    <tr>\n",
       "      <th rowspan=\"4\" valign=\"top\">2021</th>\n",
       "      <th>9</th>\n",
       "      <td>1.406136e+07</td>\n",
       "      <td>2.278256e+09</td>\n",
       "      <td>0.617559</td>\n",
       "    </tr>\n",
       "    <tr>\n",
       "      <th>10</th>\n",
       "      <td>1.175381e+07</td>\n",
       "      <td>2.173606e+09</td>\n",
       "      <td>0.541526</td>\n",
       "    </tr>\n",
       "    <tr>\n",
       "      <th>11</th>\n",
       "      <td>1.171779e+07</td>\n",
       "      <td>2.182239e+09</td>\n",
       "      <td>0.537774</td>\n",
       "    </tr>\n",
       "    <tr>\n",
       "      <th>12</th>\n",
       "      <td>9.919549e+06</td>\n",
       "      <td>2.210272e+09</td>\n",
       "      <td>0.448953</td>\n",
       "    </tr>\n",
       "    <tr>\n",
       "      <th>2022</th>\n",
       "      <th>1</th>\n",
       "      <td>8.193887e+06</td>\n",
       "      <td>2.211373e+09</td>\n",
       "      <td>0.370534</td>\n",
       "    </tr>\n",
       "  </tbody>\n",
       "</table>\n",
       "<p>61 rows × 3 columns</p>\n",
       "</div>"
      ],
      "text/plain": [
       "                     거래대금        상장시가총액    벤치마크지수\n",
       "years month                                      \n",
       "2017  1      4.111711e+06  1.332106e+09  0.308481\n",
       "      2      4.484081e+06  1.347227e+09  0.332872\n",
       "      3      5.025620e+06  1.382749e+09  0.363481\n",
       "      4      4.598756e+06  1.400871e+09  0.327837\n",
       "      5      6.208852e+06  1.500436e+09  0.413761\n",
       "...                   ...           ...       ...\n",
       "2021  9      1.406136e+07  2.278256e+09  0.617559\n",
       "      10     1.175381e+07  2.173606e+09  0.541526\n",
       "      11     1.171779e+07  2.182239e+09  0.537774\n",
       "      12     9.919549e+06  2.210272e+09  0.448953\n",
       "2022  1      8.193887e+06  2.211373e+09  0.370534\n",
       "\n",
       "[61 rows x 3 columns]"
      ]
     },
     "execution_count": 17,
     "metadata": {},
     "output_type": "execute_result"
    }
   ],
   "source": [
    "kospi_group"
   ]
  },
  {
   "cell_type": "code",
   "execution_count": 18,
   "metadata": {},
   "outputs": [
    {
     "ename": "SyntaxError",
     "evalue": "unexpected EOF while parsing (<ipython-input-18-470a1ad13829>, line 1)",
     "output_type": "error",
     "traceback": [
      "\u001b[1;36m  File \u001b[1;32m\"<ipython-input-18-470a1ad13829>\"\u001b[1;36m, line \u001b[1;32m1\u001b[0m\n\u001b[1;33m    for idx in kospi_group['벤치마크지수']:\u001b[0m\n\u001b[1;37m                                     ^\u001b[0m\n\u001b[1;31mSyntaxError\u001b[0m\u001b[1;31m:\u001b[0m unexpected EOF while parsing\n"
     ]
    }
   ],
   "source": [
    "for idx in len(kospi):\n",
    "    if kospi['벤치마크지수']"
   ]
  },
  {
   "cell_type": "markdown",
   "metadata": {},
   "source": [
    "## 코딩해줘 성휘야~~~\n",
    "* years 와 month 를 그룹바이한 다음, 업종별로 또 묶어서\n",
    "* 각 기업에 해당하는 PBR을 불러온 다음(카카오워크 압축파일)\n",
    "* 평균을 내서 업종별 PBR을 구하고\n",
    "* PBR < 업종별 PBR 인 경우, [\"Low P/B\"] 컬럼 생성"
   ]
  },
  {
   "cell_type": "code",
   "execution_count": null,
   "metadata": {},
   "outputs": [],
   "source": []
  },
  {
   "cell_type": "markdown",
   "metadata": {},
   "source": [
    "## 코딩해줘 성휘야~~~\n",
    "* [\"소외주\"] 기업들 선정되었고, [\"Low P/B\"] 기업들 선정 완료\n",
    "* [\"소외주\"] 기업과 [\"Low P/B\"] 기업에서 겹치는 기업으로 [\"Anomaly 기업\"] 컬럼 생성\n",
    "* (years 와 month 가 일치하는지 확인해야겠다!)"
   ]
  },
  {
   "cell_type": "code",
   "execution_count": null,
   "metadata": {},
   "outputs": [],
   "source": []
  }
 ],
 "metadata": {
  "kernelspec": {
   "display_name": "Python 3.6.6 64-bit (system)",
   "language": "python",
   "name": "python3"
  },
  "language_info": {
   "codemirror_mode": {
    "name": "ipython",
    "version": 3
   },
   "file_extension": ".py",
   "mimetype": "text/x-python",
   "name": "python",
   "nbconvert_exporter": "python",
   "pygments_lexer": "ipython3",
   "version": "3.6.6"
  },
  "orig_nbformat": 4,
  "vscode": {
   "interpreter": {
    "hash": "2b11d9d899d78e6facf90c631094e6628b385b0cc09cd97b51c0324dbb40f564"
   }
  }
 },
 "nbformat": 4,
 "nbformat_minor": 2
}
