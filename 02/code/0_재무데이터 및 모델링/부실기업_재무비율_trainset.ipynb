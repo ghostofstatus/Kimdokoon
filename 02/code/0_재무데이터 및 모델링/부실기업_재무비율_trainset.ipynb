{
 "cells": [
  {
   "cell_type": "code",
   "execution_count": 31,
   "metadata": {},
   "outputs": [],
   "source": [
    "import pandas as pd\n",
    "import numpy as np"
   ]
  },
  {
   "cell_type": "markdown",
   "metadata": {},
   "source": [
    "### 관리종목지정 기업 Train dataset (1 기존 제조업 부실기업 / 2 추가 업종 부실기업)"
   ]
  },
  {
   "cell_type": "code",
   "execution_count": 32,
   "metadata": {},
   "outputs": [],
   "source": [
    "train_1 = pd.read_csv('trainset_1.csv', encoding='cp949')\n",
    "train_2 = pd.read_csv('trainset_2.csv', encoding='cp949')\n",
    "# train_total.info()"
   ]
  },
  {
   "cell_type": "code",
   "execution_count": 33,
   "metadata": {},
   "outputs": [],
   "source": [
    "plus_1 = pd.read_csv('trainset_추가_1.csv', encoding='cp949')\n",
    "plus_2 = pd.read_csv('trainset_추가_2.csv', encoding='cp949')"
   ]
  },
  {
   "cell_type": "markdown",
   "metadata": {},
   "source": [
    "##### 기존 / 추가 파일 Concat"
   ]
  },
  {
   "cell_type": "code",
   "execution_count": 34,
   "metadata": {},
   "outputs": [],
   "source": [
    "train_all = pd.concat([train_1, train_2], axis=0, ignore_index=True)\n",
    "plus_all = pd.concat([plus_1, plus_2], axis=0, ignore_index=True)"
   ]
  },
  {
   "cell_type": "code",
   "execution_count": 35,
   "metadata": {},
   "outputs": [
    {
     "data": {
      "text/html": [
       "<div>\n",
       "<style scoped>\n",
       "    .dataframe tbody tr th:only-of-type {\n",
       "        vertical-align: middle;\n",
       "    }\n",
       "\n",
       "    .dataframe tbody tr th {\n",
       "        vertical-align: top;\n",
       "    }\n",
       "\n",
       "    .dataframe thead th {\n",
       "        text-align: right;\n",
       "    }\n",
       "</style>\n",
       "<table border=\"1\" class=\"dataframe\">\n",
       "  <thead>\n",
       "    <tr style=\"text-align: right;\">\n",
       "      <th></th>\n",
       "      <th>매출액총이익률(IFRS연결)</th>\n",
       "      <th>매출액총이익률(IFRS)</th>\n",
       "      <th>매출원가 대 매출액비율(IFRS연결)</th>\n",
       "      <th>매출원가 대 매출액비율(IFRS)</th>\n",
       "      <th>차입금의존도(IFRS연결)</th>\n",
       "      <th>차입금의존도(IFRS)</th>\n",
       "      <th>재고자산회전률(IFRS연결)</th>\n",
       "      <th>재고자산회전률(IFRS)</th>\n",
       "    </tr>\n",
       "  </thead>\n",
       "  <tbody>\n",
       "    <tr>\n",
       "      <th>0</th>\n",
       "      <td>22.96</td>\n",
       "      <td>22.81</td>\n",
       "      <td>77.04</td>\n",
       "      <td>77.19</td>\n",
       "      <td>45.73</td>\n",
       "      <td>41.06</td>\n",
       "      <td>5.55</td>\n",
       "      <td>6.22</td>\n",
       "    </tr>\n",
       "    <tr>\n",
       "      <th>1</th>\n",
       "      <td>18.36</td>\n",
       "      <td>19.74</td>\n",
       "      <td>81.64</td>\n",
       "      <td>80.26</td>\n",
       "      <td>31.26</td>\n",
       "      <td>27.03</td>\n",
       "      <td>4.65</td>\n",
       "      <td>3.90</td>\n",
       "    </tr>\n",
       "    <tr>\n",
       "      <th>2</th>\n",
       "      <td>18.02</td>\n",
       "      <td>17.79</td>\n",
       "      <td>81.98</td>\n",
       "      <td>82.21</td>\n",
       "      <td>29.03</td>\n",
       "      <td>26.92</td>\n",
       "      <td>5.41</td>\n",
       "      <td>4.85</td>\n",
       "    </tr>\n",
       "    <tr>\n",
       "      <th>3</th>\n",
       "      <td>-10.17</td>\n",
       "      <td>-1.15</td>\n",
       "      <td>110.17</td>\n",
       "      <td>101.15</td>\n",
       "      <td>42.49</td>\n",
       "      <td>52.04</td>\n",
       "      <td>3.23</td>\n",
       "      <td>3.50</td>\n",
       "    </tr>\n",
       "    <tr>\n",
       "      <th>4</th>\n",
       "      <td>NaN</td>\n",
       "      <td>17.90</td>\n",
       "      <td>NaN</td>\n",
       "      <td>82.10</td>\n",
       "      <td>NaN</td>\n",
       "      <td>42.15</td>\n",
       "      <td>NaN</td>\n",
       "      <td>160.08</td>\n",
       "    </tr>\n",
       "    <tr>\n",
       "      <th>...</th>\n",
       "      <td>...</td>\n",
       "      <td>...</td>\n",
       "      <td>...</td>\n",
       "      <td>...</td>\n",
       "      <td>...</td>\n",
       "      <td>...</td>\n",
       "      <td>...</td>\n",
       "      <td>...</td>\n",
       "    </tr>\n",
       "    <tr>\n",
       "      <th>1412</th>\n",
       "      <td>31.35</td>\n",
       "      <td>30.38</td>\n",
       "      <td>68.65</td>\n",
       "      <td>69.62</td>\n",
       "      <td>21.68</td>\n",
       "      <td>22.40</td>\n",
       "      <td>49.43</td>\n",
       "      <td>47.87</td>\n",
       "    </tr>\n",
       "    <tr>\n",
       "      <th>1413</th>\n",
       "      <td>NaN</td>\n",
       "      <td>31.15</td>\n",
       "      <td>NaN</td>\n",
       "      <td>68.85</td>\n",
       "      <td>NaN</td>\n",
       "      <td>22.78</td>\n",
       "      <td>NaN</td>\n",
       "      <td>41.56</td>\n",
       "    </tr>\n",
       "    <tr>\n",
       "      <th>1414</th>\n",
       "      <td>NaN</td>\n",
       "      <td>30.70</td>\n",
       "      <td>NaN</td>\n",
       "      <td>69.30</td>\n",
       "      <td>NaN</td>\n",
       "      <td>17.78</td>\n",
       "      <td>NaN</td>\n",
       "      <td>58.98</td>\n",
       "    </tr>\n",
       "    <tr>\n",
       "      <th>1415</th>\n",
       "      <td>NaN</td>\n",
       "      <td>20.94</td>\n",
       "      <td>NaN</td>\n",
       "      <td>79.06</td>\n",
       "      <td>NaN</td>\n",
       "      <td>25.91</td>\n",
       "      <td>NaN</td>\n",
       "      <td>95.72</td>\n",
       "    </tr>\n",
       "    <tr>\n",
       "      <th>1416</th>\n",
       "      <td>NaN</td>\n",
       "      <td>21.91</td>\n",
       "      <td>NaN</td>\n",
       "      <td>78.09</td>\n",
       "      <td>NaN</td>\n",
       "      <td>0.98</td>\n",
       "      <td>NaN</td>\n",
       "      <td>32.92</td>\n",
       "    </tr>\n",
       "  </tbody>\n",
       "</table>\n",
       "<p>1417 rows × 8 columns</p>\n",
       "</div>"
      ],
      "text/plain": [
       "      매출액총이익률(IFRS연결)  매출액총이익률(IFRS)  매출원가 대 매출액비율(IFRS연결)  \\\n",
       "0               22.96          22.81                 77.04   \n",
       "1               18.36          19.74                 81.64   \n",
       "2               18.02          17.79                 81.98   \n",
       "3              -10.17          -1.15                110.17   \n",
       "4                 NaN          17.90                   NaN   \n",
       "...               ...            ...                   ...   \n",
       "1412            31.35          30.38                 68.65   \n",
       "1413              NaN          31.15                   NaN   \n",
       "1414              NaN          30.70                   NaN   \n",
       "1415              NaN          20.94                   NaN   \n",
       "1416              NaN          21.91                   NaN   \n",
       "\n",
       "      매출원가 대 매출액비율(IFRS)  차입금의존도(IFRS연결)  차입금의존도(IFRS)  재고자산회전률(IFRS연결)  \\\n",
       "0                  77.19           45.73         41.06             5.55   \n",
       "1                  80.26           31.26         27.03             4.65   \n",
       "2                  82.21           29.03         26.92             5.41   \n",
       "3                 101.15           42.49         52.04             3.23   \n",
       "4                  82.10             NaN         42.15              NaN   \n",
       "...                  ...             ...           ...              ...   \n",
       "1412               69.62           21.68         22.40            49.43   \n",
       "1413               68.85             NaN         22.78              NaN   \n",
       "1414               69.30             NaN         17.78              NaN   \n",
       "1415               79.06             NaN         25.91              NaN   \n",
       "1416               78.09             NaN          0.98              NaN   \n",
       "\n",
       "      재고자산회전률(IFRS)  \n",
       "0              6.22  \n",
       "1              3.90  \n",
       "2              4.85  \n",
       "3              3.50  \n",
       "4            160.08  \n",
       "...             ...  \n",
       "1412          47.87  \n",
       "1413          41.56  \n",
       "1414          58.98  \n",
       "1415          95.72  \n",
       "1416          32.92  \n",
       "\n",
       "[1417 rows x 8 columns]"
      ]
     },
     "execution_count": 35,
     "metadata": {},
     "output_type": "execute_result"
    }
   ],
   "source": [
    "plus_all = plus_all.drop(['회사명', '거래소코드', '회계년도'], axis=1)\n",
    "plus_all"
   ]
  },
  {
   "cell_type": "code",
   "execution_count": 36,
   "metadata": {},
   "outputs": [],
   "source": [
    "train_total = pd.concat([train_all, plus_all], axis=1)"
   ]
  },
  {
   "cell_type": "markdown",
   "metadata": {},
   "source": [
    "##### 총 기업 수 확인"
   ]
  },
  {
   "cell_type": "code",
   "execution_count": 37,
   "metadata": {},
   "outputs": [
    {
     "data": {
      "text/plain": [
       "211"
      ]
     },
     "execution_count": 37,
     "metadata": {},
     "output_type": "execute_result"
    }
   ],
   "source": [
    "len(train_total['회사명'].unique()) "
   ]
  },
  {
   "cell_type": "code",
   "execution_count": 38,
   "metadata": {},
   "outputs": [
    {
     "data": {
      "text/plain": [
       "Index(['회사명', '거래소코드', '회계년도', '통계청 한국표준산업분류 10차(대분류)', '유동부채비율(IFRS연결)',\n",
       "       '매출액순이익률(IFRS연결)', 'CASH FLOW 대 매출액비율(IFRS연결)',\n",
       "       'CASH FLOW 대 부채비율(IFRS연결)', '이자보상배율(이자비용)(IFRS연결)',\n",
       "       '금융비용 대 총비용비율(IFRS연결)', '설비투자효율(IFRS연결)', 'CASH FLOW 대 총자본비율(IFRS연결)',\n",
       "       '자본금회전률(IFRS연결)', '총자본투자효율(IFRS연결)', '총자본회전률(IFRS연결)',\n",
       "       '자기자본순이익률(IFRS연결)', '매출채권회전률(IFRS연결)', '유형자산회전율(IFRS연결)',\n",
       "       '부채비율(IFRS연결)', '유동비율(IFRS연결)', '자기자본배율(IFRS연결)', '당좌비율(IFRS연결)',\n",
       "       '순운전자본비율(IFRS연결)', '현금비율(IFRS연결)', '타인자본회전률(IFRS연결)', '총자본순이익률(IFRS연결)',\n",
       "       '유동부채비율(IFRS)', '매출액순이익률(IFRS)', 'CASH FLOW 대 매출액비율(IFRS)',\n",
       "       'CASH FLOW 대 부채비율(IFRS)', '이자보상배율(이자비용)(IFRS)', '금융비용 대 총비용비율(IFRS)',\n",
       "       '설비투자효율(IFRS)', 'CASH FLOW 대 총자본비율(IFRS)', '자본금회전률(IFRS)',\n",
       "       '총자본투자효율(IFRS)', '총자본회전률(IFRS)', '자기자본순이익률(IFRS)', '매출채권회전률(IFRS)',\n",
       "       '유형자산회전율(IFRS)', '부채비율(IFRS)', '유동비율(IFRS)', '자기자본배율(IFRS)',\n",
       "       '당좌비율(IFRS)', '순운전자본비율(IFRS)', '현금비율(IFRS)', '타인자본회전률(IFRS)',\n",
       "       '총자본순이익률(IFRS)', '부채(*)(IFRS연결)', '자산(*)(IFRS연결)',\n",
       "       '현금및현금성자산(*)(IFRS연결)', '자본(*)(IFRS연결)', '비유동자산(*)(IFRS연결)',\n",
       "       '이익잉여금(결손금)(*)(IFRS연결)', '매출액(수익)(*)(IFRS연결)', '당기순이익(손실)(IFRS연결)',\n",
       "       '이자비용(IFRS연결)', '판매비와 관리비(물류원가 등 포함)(*)(IFRS연결)',\n",
       "       '* (정상)영업손익(보고서기재)(IFRS연결)', '장기차입금(*)(IFRS연결)', '단기차입금(*)(IFRS연결)',\n",
       "       '유동성장기부채(*)(IFRS연결)', '유동자산(*)(IFRS연결)', '재고자산(*)(IFRS연결)',\n",
       "       '매출총이익(손실)(IFRS연결)', '매출원가(*)(IFRS연결)', '부채(*)(IFRS)', '자산(*)(IFRS)',\n",
       "       '현금및현금성자산(*)(IFRS)', '자본(*)(IFRS)', '비유동자산(*)(IFRS)',\n",
       "       '이익잉여금(결손금)(*)(IFRS)', '매출액(수익)(*)(IFRS)', '당기순이익(손실)(IFRS)',\n",
       "       '이자비용(IFRS)', '판매비와 관리비(물류원가 등 포함)(*)(IFRS)', '* (정상)영업손익(보고서기재)(IFRS)',\n",
       "       '장기차입금(*)(IFRS)', '단기차입금(*)(IFRS)', '유동성장기부채(*)(IFRS)', '유동자산(*)(IFRS)',\n",
       "       '재고자산(*)(IFRS)', '매출총이익(손실)(IFRS)', '매출원가(*)(IFRS)', '매출액총이익률(IFRS연결)',\n",
       "       '매출액총이익률(IFRS)', '매출원가 대 매출액비율(IFRS연결)', '매출원가 대 매출액비율(IFRS)',\n",
       "       '차입금의존도(IFRS연결)', '차입금의존도(IFRS)', '재고자산회전률(IFRS연결)', '재고자산회전률(IFRS)'],\n",
       "      dtype='object')"
      ]
     },
     "execution_count": 38,
     "metadata": {},
     "output_type": "execute_result"
    }
   ],
   "source": [
    "train_total.columns"
   ]
  },
  {
   "cell_type": "markdown",
   "metadata": {},
   "source": [
    "### 연결재무제표"
   ]
  },
  {
   "cell_type": "code",
   "execution_count": 39,
   "metadata": {},
   "outputs": [],
   "source": [
    "# 연결 재무제표 \n",
    "train_연결 = train_total[['회사명', '거래소코드', '회계년도', '통계청 한국표준산업분류 10차(대분류)', '유동부채비율(IFRS연결)',\n",
    "       '매출액순이익률(IFRS연결)', 'CASH FLOW 대 매출액비율(IFRS연결)',\n",
    "       'CASH FLOW 대 부채비율(IFRS연결)', '이자보상배율(이자비용)(IFRS연결)',\n",
    "       '금융비용 대 총비용비율(IFRS연결)', '설비투자효율(IFRS연결)', 'CASH FLOW 대 총자본비율(IFRS연결)',\n",
    "       '자본금회전률(IFRS연결)', '총자본투자효율(IFRS연결)', '총자본회전률(IFRS연결)',\n",
    "       '자기자본순이익률(IFRS연결)', '매출채권회전률(IFRS연결)', '유형자산회전율(IFRS연결)',\n",
    "       '부채비율(IFRS연결)', '유동비율(IFRS연결)', '자기자본배율(IFRS연결)', '당좌비율(IFRS연결)',\n",
    "       '순운전자본비율(IFRS연결)', '현금비율(IFRS연결)', '타인자본회전률(IFRS연결)', '총자본순이익률(IFRS연결)', '부채(*)(IFRS연결)', '자산(*)(IFRS연결)',\n",
    "       '현금및현금성자산(*)(IFRS연결)', '자본(*)(IFRS연결)', '비유동자산(*)(IFRS연결)',\n",
    "       '이익잉여금(결손금)(*)(IFRS연결)', '매출액(수익)(*)(IFRS연결)', '당기순이익(손실)(IFRS연결)',\n",
    "       '이자비용(IFRS연결)', '판매비와 관리비(물류원가 등 포함)(*)(IFRS연결)',\n",
    "       '* (정상)영업손익(보고서기재)(IFRS연결)', '장기차입금(*)(IFRS연결)', '단기차입금(*)(IFRS연결)',\n",
    "       '유동성장기부채(*)(IFRS연결)', '유동자산(*)(IFRS연결)', '재고자산(*)(IFRS연결)',\n",
    "       '매출총이익(손실)(IFRS연결)', '매출원가(*)(IFRS연결)', '매출액총이익률(IFRS연결)', '매출원가 대 매출액비율(IFRS연결)', '차입금의존도(IFRS연결)', '재고자산회전률(IFRS연결)']]"
   ]
  },
  {
   "cell_type": "code",
   "execution_count": 40,
   "metadata": {},
   "outputs": [],
   "source": [
    "# 컬럼명 통일\n",
    "train_연결.columns = ['회사명', '거래소코드', '회계년도', '통계청 한국표준산업분류 10차(대분류)', '유동부채비율',\n",
    "       '매출액순이익률', 'CASH FLOW 대 매출액비율',\n",
    "       'CASH FLOW 대 부채비율', '이자보상배율(이자비용)',\n",
    "       '금융비용 대 총비용비율', '설비투자효율', 'CASH FLOW 대 총자본비율',\n",
    "       '자본금회전률', '총자본투자효율', '총자본회전률',\n",
    "       '자기자본순이익률', '매출채권회전률', '유형자산회전율',\n",
    "       '부채비율', '유동비율', '자기자본배율', '당좌비율',\n",
    "       '순운전자본비율', '현금비율', '타인자본회전률', '총자본순이익률', '부채(*)', '자산(*)',\n",
    "       '현금및현금성자산(*)', '자본(*)', '비유동자산(*)',\n",
    "       '이익잉여금(결손금)(*)', '매출액(수익)(*)', '당기순이익(손실)',\n",
    "       '이자비용', '판매비와 관리비(물류원가 등 포함)(*)',\n",
    "       '* (정상)영업손익(보고서기재)', '장기차입금(*)', '단기차입금(*)',\n",
    "       '유동성장기부채(*)', '유동자산(*)', '재고자산(*)',\n",
    "       '매출총이익(손실)', '매출원가(*)', '매출액총이익률', '매출원가 대 매출액비율', '차입금의존도', '재고자산회전률']"
   ]
  },
  {
   "cell_type": "markdown",
   "metadata": {},
   "source": [
    "##### 연결재무제표 파생변수 1"
   ]
  },
  {
   "cell_type": "code",
   "execution_count": 41,
   "metadata": {},
   "outputs": [
    {
     "name": "stderr",
     "output_type": "stream",
     "text": [
      "C:\\Users\\0327c\\AppData\\Local\\Temp\\ipykernel_16984\\3185040802.py:1: SettingWithCopyWarning: \n",
      "A value is trying to be set on a copy of a slice from a DataFrame.\n",
      "Try using .loc[row_indexer,col_indexer] = value instead\n",
      "\n",
      "See the caveats in the documentation: https://pandas.pydata.org/pandas-docs/stable/user_guide/indexing.html#returning-a-view-versus-a-copy\n",
      "  train_연결['총자산부채비율'] = train_연결['부채(*)'] / train_연결['자산(*)']\n",
      "C:\\Users\\0327c\\AppData\\Local\\Temp\\ipykernel_16984\\3185040802.py:2: SettingWithCopyWarning: \n",
      "A value is trying to be set on a copy of a slice from a DataFrame.\n",
      "Try using .loc[row_indexer,col_indexer] = value instead\n",
      "\n",
      "See the caveats in the documentation: https://pandas.pydata.org/pandas-docs/stable/user_guide/indexing.html#returning-a-view-versus-a-copy\n",
      "  train_연결['현금비율(CASHTA)'] = train_연결['현금및현금성자산(*)'] / train_연결['자산(*)']\n",
      "C:\\Users\\0327c\\AppData\\Local\\Temp\\ipykernel_16984\\3185040802.py:3: SettingWithCopyWarning: \n",
      "A value is trying to be set on a copy of a slice from a DataFrame.\n",
      "Try using .loc[row_indexer,col_indexer] = value instead\n",
      "\n",
      "See the caveats in the documentation: https://pandas.pydata.org/pandas-docs/stable/user_guide/indexing.html#returning-a-view-versus-a-copy\n",
      "  train_연결['유보이익대총자산비율'] = train_연결['이익잉여금(결손금)(*)'] / train_연결['자산(*)']\n",
      "C:\\Users\\0327c\\AppData\\Local\\Temp\\ipykernel_16984\\3185040802.py:4: SettingWithCopyWarning: \n",
      "A value is trying to be set on a copy of a slice from a DataFrame.\n",
      "Try using .loc[row_indexer,col_indexer] = value instead\n",
      "\n",
      "See the caveats in the documentation: https://pandas.pydata.org/pandas-docs/stable/user_guide/indexing.html#returning-a-view-versus-a-copy\n",
      "  train_연결['판매관리비대매출액'] = train_연결['판매비와 관리비(물류원가 등 포함)(*)'] / train_연결['매출액(수익)(*)']\n",
      "C:\\Users\\0327c\\AppData\\Local\\Temp\\ipykernel_16984\\3185040802.py:5: SettingWithCopyWarning: \n",
      "A value is trying to be set on a copy of a slice from a DataFrame.\n",
      "Try using .loc[row_indexer,col_indexer] = value instead\n",
      "\n",
      "See the caveats in the documentation: https://pandas.pydata.org/pandas-docs/stable/user_guide/indexing.html#returning-a-view-versus-a-copy\n",
      "  train_연결['고정비율'] = train_연결['비유동자산(*)'] / train_연결['자본(*)']\n",
      "C:\\Users\\0327c\\AppData\\Local\\Temp\\ipykernel_16984\\3185040802.py:6: SettingWithCopyWarning: \n",
      "A value is trying to be set on a copy of a slice from a DataFrame.\n",
      "Try using .loc[row_indexer,col_indexer] = value instead\n",
      "\n",
      "See the caveats in the documentation: https://pandas.pydata.org/pandas-docs/stable/user_guide/indexing.html#returning-a-view-versus-a-copy\n",
      "  train_연결['log총자산'] = np.log10(train_연결['자산(*)'])\n"
     ]
    }
   ],
   "source": [
    "train_연결['총자산부채비율'] = train_연결['부채(*)'] / train_연결['자산(*)']\n",
    "train_연결['현금비율(CASHTA)'] = train_연결['현금및현금성자산(*)'] / train_연결['자산(*)']\n",
    "train_연결['유보이익대총자산비율'] = train_연결['이익잉여금(결손금)(*)'] / train_연결['자산(*)']\n",
    "train_연결['판매관리비대매출액'] = train_연결['판매비와 관리비(물류원가 등 포함)(*)'] / train_연결['매출액(수익)(*)']\n",
    "train_연결['고정비율'] = train_연결['비유동자산(*)'] / train_연결['자본(*)']\n",
    "train_연결['log총자산'] = np.log10(train_연결['자산(*)'])"
   ]
  },
  {
   "cell_type": "code",
   "execution_count": 42,
   "metadata": {},
   "outputs": [
    {
     "name": "stderr",
     "output_type": "stream",
     "text": [
      "C:\\Users\\0327c\\AppData\\Local\\Temp\\ipykernel_16984\\119839287.py:1: SettingWithCopyWarning: \n",
      "A value is trying to be set on a copy of a slice from a DataFrame.\n",
      "Try using .loc[row_indexer,col_indexer] = value instead\n",
      "\n",
      "See the caveats in the documentation: https://pandas.pydata.org/pandas-docs/stable/user_guide/indexing.html#returning-a-view-versus-a-copy\n",
      "  train_연결['총자본증가율'] = train_연결.groupby('회사명')['자본(*)'].pct_change() * 100\n",
      "C:\\Users\\0327c\\AppData\\Local\\Temp\\ipykernel_16984\\119839287.py:2: SettingWithCopyWarning: \n",
      "A value is trying to be set on a copy of a slice from a DataFrame.\n",
      "Try using .loc[row_indexer,col_indexer] = value instead\n",
      "\n",
      "See the caveats in the documentation: https://pandas.pydata.org/pandas-docs/stable/user_guide/indexing.html#returning-a-view-versus-a-copy\n",
      "  train_연결['유동자산증가율'] = train_연결.groupby('회사명')['유동자산(*)'].pct_change() * 100\n",
      "C:\\Users\\0327c\\AppData\\Local\\Temp\\ipykernel_16984\\119839287.py:3: SettingWithCopyWarning: \n",
      "A value is trying to be set on a copy of a slice from a DataFrame.\n",
      "Try using .loc[row_indexer,col_indexer] = value instead\n",
      "\n",
      "See the caveats in the documentation: https://pandas.pydata.org/pandas-docs/stable/user_guide/indexing.html#returning-a-view-versus-a-copy\n",
      "  train_연결['매출액증가율'] = train_연결.groupby('회사명')['매출액(수익)(*)'].pct_change() * 100\n"
     ]
    }
   ],
   "source": [
    "train_연결['총자본증가율'] = train_연결.groupby('회사명')['자본(*)'].pct_change() * 100\n",
    "train_연결['유동자산증가율'] = train_연결.groupby('회사명')['유동자산(*)'].pct_change() * 100\n",
    "train_연결['매출액증가율'] = train_연결.groupby('회사명')['매출액(수익)(*)'].pct_change() * 100"
   ]
  },
  {
   "cell_type": "markdown",
   "metadata": {},
   "source": [
    "##### 전년도와 더해서 평균해야 하는 변수들 (총자산영업이익률, 순이익률, 이자비용/부채, 재고자산회전률)"
   ]
  },
  {
   "cell_type": "markdown",
   "metadata": {},
   "source": [
    "##### 연결재무제표 영업이익증가율, 순이익증가율"
   ]
  },
  {
   "cell_type": "code",
   "execution_count": 43,
   "metadata": {},
   "outputs": [],
   "source": [
    "def function_연결(year1, year2, isin_con):\n",
    "    \n",
    "    condition = (train_연결.회계년도 == year1) | (train_연결.회계년도 == year2)\n",
    "    train_연결_1 = train_연결.loc[condition]\n",
    "    isin = train_연결_1['거래소코드'].isin(isin_con)\n",
    "    data_연결 = train_연결_1.loc[isin]\n",
    "    data_연결 = data_연결.reset_index(drop=True) \n",
    "    list = data_연결['거래소코드'].unique()\n",
    "\n",
    "    for i in range(len(data_연결)):\n",
    "        if i%2 == 0:\n",
    "            data_연결.loc[i,'총자산영업이익률'] = 0\n",
    "            data_연결.loc[i, '순이익률'] = 0\n",
    "            data_연결.loc[i,'이자비용/부채'] = 0\n",
    "        \n",
    "        else:\n",
    "            data_연결.loc[i,'총자산영업이익률'] = data_연결.loc[i,'* (정상)영업손익(보고서기재)'] / ((data_연결.loc[i,'자산(*)'] + data_연결.loc[i-1,'자산(*)'])/2)\n",
    "            data_연결.loc[i,'순이익률'] = data_연결.loc[i,'당기순이익(손실)'] / ((data_연결.loc[i, '부채(*)'] + data_연결.loc[i-1, '부채(*)'])/2)\n",
    "            data_연결.loc[i,'이자비용/부채'] = data_연결.loc[i,'이자비용'] / ((data_연결.loc[i,'자산(*)'] + data_연결.loc[i-1,'자산(*)'])/2)\n",
    "\n",
    "    for i in list:\n",
    "                if data_연결[data_연결['거래소코드'] == i]['* (정상)영업손익(보고서기재)'].iloc[0] < 0 and data_연결[data_연결['거래소코드'] == i]['* (정상)영업손익(보고서기재)'].iloc[1] > 0 :  ## 적자에서 흑자로 넘어갈 경우\n",
    "                    if np.abs(data_연결[data_연결['거래소코드'] == i]['* (정상)영업손익(보고서기재)'].iloc[0]) <= np.abs(data_연결[data_연결['거래소코드'] == i]['* (정상)영업손익(보고서기재)'].iloc[1]) : ## 절대값 (당기)가 절대값 (전기)보다 클 경우\n",
    "                        data_연결.loc[data_연결['거래소코드'] == i,'영업이익증가율'] = data_연결.groupby('거래소코드')['* (정상)영업손익(보고서기재)'].diff()/np.abs(data_연결[data_연결['거래소코드'] == i]['* (정상)영업손익(보고서기재)'].iloc[0])*100\n",
    "                        ## 당기가 크면 전기로 나누어 줌\n",
    "                    else : \n",
    "                        data_연결.loc[data_연결['거래소코드'] == i,'영업이익증가율'] = data_연결.groupby('거래소코드')['* (정상)영업손익(보고서기재)'].diff()/np.abs(data_연결[data_연결['거래소코드'] == i]['* (정상)영업손익(보고서기재)'].iloc[1])*100\n",
    "                        ## 절대값의 크기가 전기가 더 크면 당기로 나누어줌\n",
    "                elif np.abs(data_연결[data_연결['거래소코드'] == i]['* (정상)영업손익(보고서기재)'].iloc[0]) == 0:\n",
    "                    data_연결.loc[data_연결['거래소코드'] == i,'영업이익증가율'] = 0     \n",
    "                else:\n",
    "                    data_연결.loc[data_연결['거래소코드'] == i,'영업이익증가율'] = data_연결.groupby('거래소코드')['* (정상)영업손익(보고서기재)'].diff()/np.abs(data_연결[data_연결['거래소코드'] == i]['* (정상)영업손익(보고서기재)'].iloc[0])*100\n",
    "                    ## 전기와 당기의 부호가 같을 땐 원래의 식 (당기-전기)/전기\n",
    "                    \n",
    "    for i in list:\n",
    "                if data_연결[data_연결['거래소코드'] == i]['당기순이익(손실)'].iloc[0] < 0 and data_연결[data_연결['거래소코드'] == i]['당기순이익(손실)'].iloc[1] > 0 :  ## 적자에서 흑자로 넘어갈 경우\n",
    "                    if np.abs(data_연결[data_연결['거래소코드'] == i]['당기순이익(손실)'].iloc[0]) <= np.abs(data_연결[data_연결['거래소코드'] == i]['당기순이익(손실)'].iloc[1]) : ## 절대값 (당기)가 절대값 (전기)보다 클 경우\n",
    "                        data_연결.loc[data_연결['거래소코드'] == i,'순이익증가율']= data_연결.groupby('거래소코드')['당기순이익(손실)'].diff()/np.abs(data_연결[data_연결['거래소코드'] == i]['당기순이익(손실)'].iloc[0])*100\n",
    "                        ## 당기가 크면 전기로 나누어 줌\n",
    "                    else : \n",
    "                        data_연결.loc[data_연결['거래소코드'] == i,'순이익증가율'] = data_연결.groupby('거래소코드')['당기순이익(손실)'].diff()/np.abs(data_연결[data_연결['거래소코드'] == i]['당기순이익(손실)'].iloc[1])*100\n",
    "                        ## 절대값의 크기가 전기가 더 크면 당기로 나누어줌\n",
    "                elif np.abs(data_연결[data_연결['거래소코드'] == i]['당기순이익(손실)'].iloc[0]) == 0:\n",
    "                    data_연결.loc[data_연결['거래소코드'] == i,'순이익증가율'] = 0     \n",
    "                else:\n",
    "                    data_연결.loc[data_연결['거래소코드'] == i,'순이익증가율'] = data_연결.groupby('거래소코드')['당기순이익(손실)'].diff()/np.abs(data_연결[data_연결['거래소코드'] == i]['당기순이익(손실)'].iloc[0])*100\n",
    "                    ## 전기와 당기의 부호가 같을 땐 원래의 식 (당기-전기)/전기\n",
    "    \n",
    "    data_연결 = data_연결.drop(['부채(*)', '자산(*)',\n",
    "       '현금및현금성자산(*)', '자본(*)', '비유동자산(*)',\n",
    "       '이익잉여금(결손금)(*)', '당기순이익(손실)',\n",
    "       '이자비용', '판매비와 관리비(물류원가 등 포함)(*)',\n",
    "       '* (정상)영업손익(보고서기재)', '장기차입금(*)', '단기차입금(*)',\n",
    "       '유동성장기부채(*)', '유동자산(*)', '재고자산(*)',\n",
    "       '매출총이익(손실)', '매출원가(*)'], axis=1)\n",
    "\n",
    "    index_2 = data_연결[data_연결['회계년도'] == year1].index\n",
    "    data_연결 = data_연결.drop(index_2)\n",
    "    return data_연결"
   ]
  },
  {
   "cell_type": "markdown",
   "metadata": {},
   "source": [
    "### 개별재무제표 파생변수"
   ]
  },
  {
   "cell_type": "code",
   "execution_count": 44,
   "metadata": {},
   "outputs": [],
   "source": [
    "train_개별 = train_total[['회사명', '거래소코드', '회계년도', '통계청 한국표준산업분류 10차(대분류)', '유동부채비율(IFRS)',\n",
    "       '매출액순이익률(IFRS)', 'CASH FLOW 대 매출액비율(IFRS)',\n",
    "       'CASH FLOW 대 부채비율(IFRS)', '이자보상배율(이자비용)(IFRS)',\n",
    "       '금융비용 대 총비용비율(IFRS)', '설비투자효율(IFRS)', 'CASH FLOW 대 총자본비율(IFRS)',\n",
    "       '자본금회전률(IFRS)', '총자본투자효율(IFRS)', '총자본회전률(IFRS)',\n",
    "       '자기자본순이익률(IFRS)', '매출채권회전률(IFRS)', '유형자산회전율(IFRS)',\n",
    "       '부채비율(IFRS)', '유동비율(IFRS)', '자기자본배율(IFRS)', '당좌비율(IFRS)',\n",
    "       '순운전자본비율(IFRS)', '현금비율(IFRS)', '타인자본회전률(IFRS)', '총자본순이익률(IFRS)', '부채(*)(IFRS)', '자산(*)(IFRS)',\n",
    "       '현금및현금성자산(*)(IFRS)', '자본(*)(IFRS)', '비유동자산(*)(IFRS)',\n",
    "       '이익잉여금(결손금)(*)(IFRS)', '매출액(수익)(*)(IFRS)', '당기순이익(손실)(IFRS)',\n",
    "       '이자비용(IFRS)', '판매비와 관리비(물류원가 등 포함)(*)(IFRS)',\n",
    "       '* (정상)영업손익(보고서기재)(IFRS)', '장기차입금(*)(IFRS)', '단기차입금(*)(IFRS)',\n",
    "       '유동성장기부채(*)(IFRS)', '유동자산(*)(IFRS)', '재고자산(*)(IFRS)',\n",
    "       '매출총이익(손실)(IFRS)', '매출원가(*)(IFRS)', '매출액총이익률(IFRS)', '매출원가 대 매출액비율(IFRS)', '차입금의존도(IFRS)', '재고자산회전률(IFRS)']]"
   ]
  },
  {
   "cell_type": "code",
   "execution_count": 45,
   "metadata": {},
   "outputs": [],
   "source": [
    "# 컬럼명 통일\n",
    "train_개별.columns = ['회사명', '거래소코드', '회계년도', '통계청 한국표준산업분류 10차(대분류)', '유동부채비율',\n",
    "       '매출액순이익률', 'CASH FLOW 대 매출액비율',\n",
    "       'CASH FLOW 대 부채비율', '이자보상배율(이자비용)',\n",
    "       '금융비용 대 총비용비율', '설비투자효율', 'CASH FLOW 대 총자본비율',\n",
    "       '자본금회전률', '총자본투자효율', '총자본회전률',\n",
    "       '자기자본순이익률', '매출채권회전률', '유형자산회전율',\n",
    "       '부채비율', '유동비율', '자기자본배율', '당좌비율',\n",
    "       '순운전자본비율', '현금비율', '타인자본회전률', '총자본순이익률', '부채(*)', '자산(*)',\n",
    "       '현금및현금성자산(*)', '자본(*)', '비유동자산(*)',\n",
    "       '이익잉여금(결손금)(*)', '매출액(수익)(*)', '당기순이익(손실)',\n",
    "       '이자비용', '판매비와 관리비(물류원가 등 포함)(*)',\n",
    "       '* (정상)영업손익(보고서기재)', '장기차입금(*)', '단기차입금(*)',\n",
    "       '유동성장기부채(*)', '유동자산(*)', '재고자산(*)',\n",
    "       '매출총이익(손실)', '매출원가(*)', '매출액총이익률', '매출원가 대 매출액비율', '차입금의존도', '재고자산회전률']"
   ]
  },
  {
   "cell_type": "code",
   "execution_count": 46,
   "metadata": {},
   "outputs": [
    {
     "name": "stderr",
     "output_type": "stream",
     "text": [
      "C:\\Users\\0327c\\AppData\\Local\\Temp\\ipykernel_16984\\4008894192.py:1: SettingWithCopyWarning: \n",
      "A value is trying to be set on a copy of a slice from a DataFrame.\n",
      "Try using .loc[row_indexer,col_indexer] = value instead\n",
      "\n",
      "See the caveats in the documentation: https://pandas.pydata.org/pandas-docs/stable/user_guide/indexing.html#returning-a-view-versus-a-copy\n",
      "  train_개별['총자산부채비율'] = train_개별['부채(*)'] / train_개별['자산(*)']\n",
      "C:\\Users\\0327c\\AppData\\Local\\Temp\\ipykernel_16984\\4008894192.py:2: SettingWithCopyWarning: \n",
      "A value is trying to be set on a copy of a slice from a DataFrame.\n",
      "Try using .loc[row_indexer,col_indexer] = value instead\n",
      "\n",
      "See the caveats in the documentation: https://pandas.pydata.org/pandas-docs/stable/user_guide/indexing.html#returning-a-view-versus-a-copy\n",
      "  train_개별['현금비율(CASHTA)'] = train_개별['현금및현금성자산(*)'] / train_개별['자산(*)']\n",
      "C:\\Users\\0327c\\AppData\\Local\\Temp\\ipykernel_16984\\4008894192.py:3: SettingWithCopyWarning: \n",
      "A value is trying to be set on a copy of a slice from a DataFrame.\n",
      "Try using .loc[row_indexer,col_indexer] = value instead\n",
      "\n",
      "See the caveats in the documentation: https://pandas.pydata.org/pandas-docs/stable/user_guide/indexing.html#returning-a-view-versus-a-copy\n",
      "  train_개별['유보이익대총자산비율'] = train_개별['이익잉여금(결손금)(*)'] / train_개별['자산(*)']\n",
      "C:\\Users\\0327c\\AppData\\Local\\Temp\\ipykernel_16984\\4008894192.py:4: SettingWithCopyWarning: \n",
      "A value is trying to be set on a copy of a slice from a DataFrame.\n",
      "Try using .loc[row_indexer,col_indexer] = value instead\n",
      "\n",
      "See the caveats in the documentation: https://pandas.pydata.org/pandas-docs/stable/user_guide/indexing.html#returning-a-view-versus-a-copy\n",
      "  train_개별['판매관리비대매출액'] = train_개별['판매비와 관리비(물류원가 등 포함)(*)'] / train_개별['매출액(수익)(*)']\n",
      "C:\\Users\\0327c\\AppData\\Local\\Temp\\ipykernel_16984\\4008894192.py:5: SettingWithCopyWarning: \n",
      "A value is trying to be set on a copy of a slice from a DataFrame.\n",
      "Try using .loc[row_indexer,col_indexer] = value instead\n",
      "\n",
      "See the caveats in the documentation: https://pandas.pydata.org/pandas-docs/stable/user_guide/indexing.html#returning-a-view-versus-a-copy\n",
      "  train_개별['고정비율'] = train_개별['비유동자산(*)'] / train_개별['자본(*)']\n",
      "C:\\Users\\0327c\\AppData\\Local\\Temp\\ipykernel_16984\\4008894192.py:6: SettingWithCopyWarning: \n",
      "A value is trying to be set on a copy of a slice from a DataFrame.\n",
      "Try using .loc[row_indexer,col_indexer] = value instead\n",
      "\n",
      "See the caveats in the documentation: https://pandas.pydata.org/pandas-docs/stable/user_guide/indexing.html#returning-a-view-versus-a-copy\n",
      "  train_개별['log총자산'] = np.log10(train_개별['자산(*)'])\n"
     ]
    }
   ],
   "source": [
    "train_개별['총자산부채비율'] = train_개별['부채(*)'] / train_개별['자산(*)']\n",
    "train_개별['현금비율(CASHTA)'] = train_개별['현금및현금성자산(*)'] / train_개별['자산(*)']\n",
    "train_개별['유보이익대총자산비율'] = train_개별['이익잉여금(결손금)(*)'] / train_개별['자산(*)']\n",
    "train_개별['판매관리비대매출액'] = train_개별['판매비와 관리비(물류원가 등 포함)(*)'] / train_개별['매출액(수익)(*)']\n",
    "train_개별['고정비율'] = train_개별['비유동자산(*)'] / train_개별['자본(*)']\n",
    "train_개별['log총자산'] = np.log10(train_개별['자산(*)'])"
   ]
  },
  {
   "cell_type": "code",
   "execution_count": 47,
   "metadata": {},
   "outputs": [
    {
     "name": "stderr",
     "output_type": "stream",
     "text": [
      "C:\\Users\\0327c\\AppData\\Local\\Temp\\ipykernel_16984\\2942232964.py:1: SettingWithCopyWarning: \n",
      "A value is trying to be set on a copy of a slice from a DataFrame.\n",
      "Try using .loc[row_indexer,col_indexer] = value instead\n",
      "\n",
      "See the caveats in the documentation: https://pandas.pydata.org/pandas-docs/stable/user_guide/indexing.html#returning-a-view-versus-a-copy\n",
      "  train_개별['총자본증가율'] = train_개별.groupby('회사명')['자본(*)'].pct_change() * 100\n",
      "C:\\Users\\0327c\\AppData\\Local\\Temp\\ipykernel_16984\\2942232964.py:2: SettingWithCopyWarning: \n",
      "A value is trying to be set on a copy of a slice from a DataFrame.\n",
      "Try using .loc[row_indexer,col_indexer] = value instead\n",
      "\n",
      "See the caveats in the documentation: https://pandas.pydata.org/pandas-docs/stable/user_guide/indexing.html#returning-a-view-versus-a-copy\n",
      "  train_개별['유동자산증가율'] = train_개별.groupby('회사명')['유동자산(*)'].pct_change() * 100\n",
      "C:\\Users\\0327c\\AppData\\Local\\Temp\\ipykernel_16984\\2942232964.py:3: SettingWithCopyWarning: \n",
      "A value is trying to be set on a copy of a slice from a DataFrame.\n",
      "Try using .loc[row_indexer,col_indexer] = value instead\n",
      "\n",
      "See the caveats in the documentation: https://pandas.pydata.org/pandas-docs/stable/user_guide/indexing.html#returning-a-view-versus-a-copy\n",
      "  train_개별['매출액증가율'] = train_개별.groupby('회사명')['매출액(수익)(*)'].pct_change() * 100\n"
     ]
    }
   ],
   "source": [
    "train_개별['총자본증가율'] = train_개별.groupby('회사명')['자본(*)'].pct_change() * 100\n",
    "train_개별['유동자산증가율'] = train_개별.groupby('회사명')['유동자산(*)'].pct_change() * 100\n",
    "train_개별['매출액증가율'] = train_개별.groupby('회사명')['매출액(수익)(*)'].pct_change() * 100"
   ]
  },
  {
   "cell_type": "markdown",
   "metadata": {},
   "source": [
    "##### 전년도와 더해서 평균해야 하는 변수들 (총자산영업이익률, 순이익률, 이자비용/부채, 재고자산회전률)"
   ]
  },
  {
   "cell_type": "markdown",
   "metadata": {},
   "source": [
    "##### 개별재무제표 영업이익증가율, 순이익증가율"
   ]
  },
  {
   "cell_type": "code",
   "execution_count": 48,
   "metadata": {},
   "outputs": [],
   "source": [
    "def function_개별(year1, year2, isin_con):\n",
    "    condition = (train_개별.회계년도 == year1) | (train_개별.회계년도 == year2)\n",
    "    train_개별_1 = train_개별.loc[condition]\n",
    "    isin = train_개별_1['거래소코드'].isin(isin_con)\n",
    "    data_개별 = train_개별_1.loc[isin]\n",
    "    data_개별 = data_개별.reset_index(drop=True) \n",
    "    list = data_개별['거래소코드'].unique()\n",
    "\n",
    "    for i in range(len(data_개별)):\n",
    "        if i%2 == 0:\n",
    "            data_개별.loc[i,'총자산영업이익률'] = 0\n",
    "            data_개별.loc[i, '순이익률'] = 0\n",
    "            data_개별.loc[i,'이자비용/부채'] = 0\n",
    "        \n",
    "        else:\n",
    "            data_개별.loc[i,'총자산영업이익률'] = data_개별.loc[i,'* (정상)영업손익(보고서기재)'] / ((data_개별.loc[i,'자산(*)'] + data_개별.loc[i-1,'자산(*)'])/2)\n",
    "            data_개별.loc[i,'순이익률'] = data_개별.loc[i,'당기순이익(손실)'] / ((data_개별.loc[i, '부채(*)'] + data_개별.loc[i-1, '부채(*)'])/2)\n",
    "            data_개별.loc[i,'이자비용/부채'] = data_개별.loc[i,'이자비용'] / ((data_개별.loc[i,'자산(*)'] + data_개별.loc[i-1,'자산(*)'])/2)\n",
    "    \n",
    "    for i in list:\n",
    "        try:\n",
    "                if data_개별[data_개별['거래소코드'] == i]['* (정상)영업손익(보고서기재)'].iloc[0] < 0 and data_개별[data_개별['거래소코드'] == i]['* (정상)영업손익(보고서기재)'].iloc[1] > 0 :  ## 적자에서 흑자로 넘어갈 경우\n",
    "                    if np.abs(data_개별[data_개별['거래소코드'] == i]['* (정상)영업손익(보고서기재)'].iloc[0]) <= np.abs(data_개별[data_개별['거래소코드'] == i]['* (정상)영업손익(보고서기재)'].iloc[1]) : ## 절대값 (당기)가 절대값 (전기)보다 클 경우\n",
    "                        data_개별.loc[data_개별['거래소코드'] == i,'영업이익증가율']= data_개별.groupby('거래소코드')['* (정상)영업손익(보고서기재)'].diff()/np.abs(data_개별[data_개별['거래소코드'] == i]['* (정상)영업손익(보고서기재)'].iloc[0])*100\n",
    "                        ## 당기가 크면 전기로 나누어 줌\n",
    "                    else : \n",
    "                        data_개별.loc[data_개별['거래소코드'] == i,'영업이익증가율'] = data_개별.groupby('거래소코드')['* (정상)영업손익(보고서기재)'].diff()/np.abs(data_개별[data_개별['거래소코드'] == i]['* (정상)영업손익(보고서기재)'].iloc[1])*100\n",
    "                        ## 절대값의 크기가 전기가 더 크면 당기로 나누어줌\n",
    "                elif np.abs(data_개별[data_개별['거래소코드'] == i]['* (정상)영업손익(보고서기재)'].iloc[0]) == 0:\n",
    "                    data_개별.loc[data_개별['거래소코드'] == i,'영업이익증가율'] = 0\n",
    "                else:\n",
    "                    data_개별.loc[data_개별['거래소코드'] == i,'영업이익증가율'] = data_개별.groupby('거래소코드')['* (정상)영업손익(보고서기재)'].diff()/np.abs(data_개별[data_개별['거래소코드'] == i]['* (정상)영업손익(보고서기재)'].iloc[0])*100\n",
    "                    ## 전기와 당기의 부호가 같을 땐 원래의 식 (당기-전기)/전기\n",
    "        except:\n",
    "            pass\n",
    "\n",
    "    for i in list:\n",
    "        try:\n",
    "                if data_개별[data_개별['거래소코드'] == i]['당기순이익(손실)'].iloc[0] < 0 and data_개별[data_개별['거래소코드'] == i]['당기순이익(손실)'].iloc[1] > 0 :  ## 적자에서 흑자로 넘어갈 경우\n",
    "                    if np.abs(data_개별[data_개별['거래소코드'] == i]['당기순이익(손실)'].iloc[0]) <= np.abs(data_개별[data_개별['거래소코드'] == i]['당기순이익(손실)'].iloc[1]) : ## 절대값 (당기)가 절대값 (전기)보다 클 경우\n",
    "                        data_개별.loc[data_개별['거래소코드'] == i,'순이익증가율']= data_개별.groupby('거래소코드')['당기순이익(손실)'].diff()/np.abs(data_개별[data_개별['거래소코드'] == i]['당기순이익(손실)'].iloc[0])*100\n",
    "                        ## 당기가 크면 전기로 나누어 줌\n",
    "                    else : \n",
    "                        data_개별.loc[data_개별['거래소코드'] == i,'순이익증가율'] = data_개별.groupby('거래소코드')['당기순이익(손실)'].diff()/np.abs(data_개별[data_개별['거래소코드'] == i]['당기순이익(손실)'].iloc[1])*100\n",
    "                        ## 절대값의 크기가 전기가 더 크면 당기로 나누어줌\n",
    "                elif np.abs(data_개별[data_개별['거래소코드'] == i]['당기순이익(손실)'].iloc[0]) == 0: \n",
    "                    data_개별.loc[data_개별['거래소코드'] == i,'순이익증가율'] = 0\n",
    "                else:\n",
    "                    data_개별.loc[data_개별['거래소코드'] == i,'순이익증가율'] = data_개별.groupby('거래소코드')['당기순이익(손실)'].diff()/np.abs(data_개별[data_개별['거래소코드'] == i]['당기순이익(손실)'].iloc[0])*100\n",
    "                    ## 전기와 당기의 부호가 같을 땐 원래의 식 (당기-전기)/전기\n",
    "        except:\n",
    "            pass\n",
    "\n",
    "    index_1 = data_개별[data_개별['회계년도'] == year1].index\n",
    "    data_개별 = data_개별.drop(index_1)\n",
    "\n",
    "    data_개별 = data_개별.drop(['부채(*)', '자산(*)',\n",
    "       '현금및현금성자산(*)', '자본(*)', '비유동자산(*)',\n",
    "       '이익잉여금(결손금)(*)', '당기순이익(손실)',\n",
    "       '이자비용', '판매비와 관리비(물류원가 등 포함)(*)',\n",
    "       '* (정상)영업손익(보고서기재)', '장기차입금(*)', '단기차입금(*)',\n",
    "       '유동성장기부채(*)', '유동자산(*)', '재고자산(*)',\n",
    "       '매출총이익(손실)', '매출원가(*)'], axis=1)\n",
    "\n",
    "    return data_개별\n"
   ]
  },
  {
   "cell_type": "code",
   "execution_count": 49,
   "metadata": {},
   "outputs": [],
   "source": [
    "isin_con_11 = [24850,65310,45050,68420,65180,19260,105070,14940,53870,43220,9010,91690,71660,66430,37950,13780,7390,66060,26250,34010,74000,71530,\n",
    "88700,38880,51710,4790,41060,56810,26260,46840,12650,42940,28090,42040,33550,37630,110310]"
   ]
  },
  {
   "cell_type": "code",
   "execution_count": 50,
   "metadata": {},
   "outputs": [],
   "source": [
    "isin_con_12 = [40670,33430,19660,49000,36210,61460,38500,36260,53320,10670,13340, 25440,110500,29480,18000,54340,35290,\n",
    "32420,70480,52420,43910,23770,43710,56340]"
   ]
  },
  {
   "cell_type": "code",
   "execution_count": 51,
   "metadata": {},
   "outputs": [],
   "source": [
    "isin_con_13 = [111610,39850,58420,4320,53330,90120,71930,32860,47770,101970,94860,35620,89890,66110,78780,28040,\n",
    "53810,138690,80440,39530,52270,60900]"
   ]
  },
  {
   "cell_type": "code",
   "execution_count": 52,
   "metadata": {},
   "outputs": [],
   "source": [
    "isin_con_14 = [74130,66350,38340,48870,18700,18290,53660,68060,52900,89230,89530,25950,36220,\n",
    "66270,57880,54630,23790,52860,72520,86830,37340,36500,95300,86200,65270,82390,58370,74150,101730,65770,170790]"
   ]
  },
  {
   "cell_type": "code",
   "execution_count": 53,
   "metadata": {},
   "outputs": [],
   "source": [
    "isin_con_15 = [68150,151910,73010,53110,73570,56730,38530,115530,101680,50320,121800,87220,96690,51980,73640,\n",
    "105550,131100,141020,117670,214310,23430,51170,99830]"
   ]
  },
  {
   "cell_type": "code",
   "execution_count": 54,
   "metadata": {},
   "outputs": [],
   "source": [
    "isin_con_16 = [80530,39790,32040,47440,122800,8800,78940,112240,30270,84180,10280,194610,159910,194510,192410,\n",
    "44480,43580,65160,78650,155960,85660,52290,81970,52770,33110,52190,70590,109740]"
   ]
  },
  {
   "cell_type": "code",
   "execution_count": 55,
   "metadata": {},
   "outputs": [],
   "source": [
    "isin_con_17 = [149940,35480,101000,99660,66790,17680,113810,65150,111820,134780,79190,83470,102210,64520,106080,65940,106520,182690,57680,\n",
    "43590,69540,33790,69330,214370,168330,44180,43650,33600,43100,123750,205500,138360,206400,223310,180400,226350,7530,46070,178780,230980,94190,\n",
    "123260,83660,53950,104540,108860]"
   ]
  },
  {
   "cell_type": "markdown",
   "metadata": {},
   "source": [
    "### 전체 파일 통합\n",
    "- 회계월이 12월이 아닌 기업 제외"
   ]
  },
  {
   "cell_type": "code",
   "execution_count": 56,
   "metadata": {},
   "outputs": [],
   "source": [
    "연결_11 = function_연결('10-Dec', '11-Dec', isin_con_11)\n",
    "연결_12 = function_연결('11-Dec', '12-Dec', isin_con_12)\n",
    "연결_13 = function_연결('12-Dec', '13-Dec', isin_con_13)\n",
    "연결_14 = function_연결('13-Dec', '14-Dec', isin_con_14)\n",
    "연결_15 = function_연결('14-Dec', '15-Dec', isin_con_15)\n",
    "연결_16 = function_연결('15-Dec', '16-Dec', isin_con_16)\n",
    "연결_17 = function_연결('16-Dec', '17-Dec', isin_con_17)\n",
    "df_1 = pd.concat([연결_11, 연결_12])\n",
    "df_1 = pd.concat([df_1, 연결_13])\n",
    "df_1 = pd.concat([df_1, 연결_14])\n",
    "df_1 = pd.concat([df_1, 연결_15])\n",
    "df_1 = pd.concat([df_1, 연결_16])\n",
    "df_1 = pd.concat([df_1, 연결_17])"
   ]
  },
  {
   "cell_type": "code",
   "execution_count": 57,
   "metadata": {},
   "outputs": [],
   "source": [
    "df_1.to_csv('total_train_연결.csv',encoding='cp949')"
   ]
  },
  {
   "cell_type": "code",
   "execution_count": 58,
   "metadata": {},
   "outputs": [],
   "source": [
    "개별_11 = function_개별('10-Dec', '11-Dec', isin_con_11)\n",
    "개별_12 = function_개별('11-Dec', '12-Dec', isin_con_12)\n",
    "개별_13 = function_개별('12-Dec', '13-Dec', isin_con_13)\n",
    "개별_14 = function_개별('13-Dec', '14-Dec', isin_con_14)\n",
    "개별_15 = function_개별('14-Dec', '15-Dec', isin_con_15)\n",
    "개별_16 = function_개별('15-Dec', '16-Dec', isin_con_16)\n",
    "개별_17 = function_개별('16-Dec', '17-Dec', isin_con_17)\n",
    "df_2 = pd.concat([개별_11, 개별_12])\n",
    "df_2 = pd.concat([df_2, 개별_13])\n",
    "df_2 = pd.concat([df_2, 개별_14])\n",
    "df_2 = pd.concat([df_2, 개별_15])\n",
    "df_2 = pd.concat([df_2, 개별_16])\n",
    "df_2 = pd.concat([df_2, 개별_17])"
   ]
  },
  {
   "cell_type": "code",
   "execution_count": 59,
   "metadata": {},
   "outputs": [],
   "source": [
    "df_2.to_csv('total_train_개별.csv',encoding='cp949')"
   ]
  },
  {
   "cell_type": "code",
   "execution_count": 61,
   "metadata": {},
   "outputs": [
    {
     "data": {
      "text/plain": [
       "45"
      ]
     },
     "execution_count": 61,
     "metadata": {},
     "output_type": "execute_result"
    }
   ],
   "source": [
    "len(df_1.columns)"
   ]
  },
  {
   "cell_type": "code",
   "execution_count": null,
   "metadata": {},
   "outputs": [],
   "source": []
  }
 ],
 "metadata": {
  "kernelspec": {
   "display_name": "Python 3.10.2 64-bit",
   "language": "python",
   "name": "python3"
  },
  "language_info": {
   "codemirror_mode": {
    "name": "ipython",
    "version": 3
   },
   "file_extension": ".py",
   "mimetype": "text/x-python",
   "name": "python",
   "nbconvert_exporter": "python",
   "pygments_lexer": "ipython3",
   "version": "3.10.2"
  },
  "orig_nbformat": 4,
  "vscode": {
   "interpreter": {
    "hash": "3616202d843295ba0adc4661fbe95f911af65f4e4c349ed4be46f0741a4f83b1"
   }
  }
 },
 "nbformat": 4,
 "nbformat_minor": 2
}
