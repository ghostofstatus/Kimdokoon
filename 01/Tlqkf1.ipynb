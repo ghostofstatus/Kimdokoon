{
 "cells": [
  {
   "cell_type": "code",
   "execution_count": null,
   "metadata": {},
   "outputs": [],
   "source": []
  }
 ],
 "metadata": {
  "kernelspec": {
   "display_name": "Python 3.9.13 32-bit (system)",
   "language": "python",
   "name": "python3"
  },
  "language_info": {
   "name": "python",
   "version": "3.9.13"
  },
  "orig_nbformat": 4,
  "vscode": {
   "interpreter": {
    "hash": "71e1dc514c701ce1e68401879628ddd19735b3b7156b7e4fcf067bb8afe3c722"
   }
  }
 },
 "nbformat": 4,
 "nbformat_minor": 2
}
